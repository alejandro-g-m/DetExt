{
 "cells": [
  {
   "cell_type": "code",
   "execution_count": 1,
   "metadata": {},
   "outputs": [],
   "source": [
    "%matplotlib inline\n",
    "import sys\n",
    "sys.path.append('..')"
   ]
  },
  {
   "cell_type": "markdown",
   "metadata": {},
   "source": [
    "# Un vistazo a los datos\n",
    "Vamos a cargar el vector de características."
   ]
  },
  {
   "cell_type": "code",
   "execution_count": 2,
   "metadata": {},
   "outputs": [],
   "source": [
    "from dns_attacks_detection import *"
   ]
  },
  {
   "cell_type": "code",
   "execution_count": 3,
   "metadata": {},
   "outputs": [],
   "source": [
    "try:\n",
    "    dns = joblib.load('../vectors/LettersAndNumbersFV.pkl')\n",
    "except FileNotFoundError:\n",
    "    dns = create_feature_vector_from_log_file('../logs/3JUL.log', extract_features_with_letters_and_numbers)\n",
    "    joblib.dump(dns, '../vectors/LettersAndNumbersFV.pkl')"
   ]
  },
  {
   "cell_type": "code",
   "execution_count": 4,
   "metadata": {},
   "outputs": [
    {
     "data": {
      "text/html": [
       "<div>\n",
       "<style scoped>\n",
       "    .dataframe tbody tr th:only-of-type {\n",
       "        vertical-align: middle;\n",
       "    }\n",
       "\n",
       "    .dataframe tbody tr th {\n",
       "        vertical-align: top;\n",
       "    }\n",
       "\n",
       "    .dataframe thead th {\n",
       "        text-align: right;\n",
       "    }\n",
       "</style>\n",
       "<table border=\"1\" class=\"dataframe\">\n",
       "  <thead>\n",
       "    <tr style=\"text-align: right;\">\n",
       "      <th></th>\n",
       "      <th>attack</th>\n",
       "      <th>letters</th>\n",
       "      <th>longest_number</th>\n",
       "      <th>numbers</th>\n",
       "      <th>symbols</th>\n",
       "    </tr>\n",
       "  </thead>\n",
       "  <tbody>\n",
       "    <tr>\n",
       "      <th>0</th>\n",
       "      <td>0</td>\n",
       "      <td>1.0</td>\n",
       "      <td>0.0</td>\n",
       "      <td>0.0</td>\n",
       "      <td>0.0</td>\n",
       "    </tr>\n",
       "    <tr>\n",
       "      <th>1</th>\n",
       "      <td>0</td>\n",
       "      <td>1.0</td>\n",
       "      <td>0.0</td>\n",
       "      <td>0.0</td>\n",
       "      <td>0.0</td>\n",
       "    </tr>\n",
       "    <tr>\n",
       "      <th>2</th>\n",
       "      <td>0</td>\n",
       "      <td>1.0</td>\n",
       "      <td>0.0</td>\n",
       "      <td>0.0</td>\n",
       "      <td>0.0</td>\n",
       "    </tr>\n",
       "    <tr>\n",
       "      <th>3</th>\n",
       "      <td>0</td>\n",
       "      <td>1.0</td>\n",
       "      <td>0.0</td>\n",
       "      <td>0.0</td>\n",
       "      <td>0.0</td>\n",
       "    </tr>\n",
       "    <tr>\n",
       "      <th>4</th>\n",
       "      <td>0</td>\n",
       "      <td>1.0</td>\n",
       "      <td>0.0</td>\n",
       "      <td>0.0</td>\n",
       "      <td>0.0</td>\n",
       "    </tr>\n",
       "  </tbody>\n",
       "</table>\n",
       "</div>"
      ],
      "text/plain": [
       "   attack  letters  longest_number  numbers  symbols\n",
       "0       0      1.0             0.0      0.0      0.0\n",
       "1       0      1.0             0.0      0.0      0.0\n",
       "2       0      1.0             0.0      0.0      0.0\n",
       "3       0      1.0             0.0      0.0      0.0\n",
       "4       0      1.0             0.0      0.0      0.0"
      ]
     },
     "execution_count": 4,
     "metadata": {},
     "output_type": "execute_result"
    }
   ],
   "source": [
    "dns.head()"
   ]
  },
  {
   "cell_type": "code",
   "execution_count": 5,
   "metadata": {},
   "outputs": [
    {
     "name": "stdout",
     "output_type": "stream",
     "text": [
      "<class 'pandas.core.frame.DataFrame'>\n",
      "RangeIndex: 52610 entries, 0 to 52609\n",
      "Data columns (total 5 columns):\n",
      "attack            52610 non-null int64\n",
      "letters           52610 non-null float64\n",
      "longest_number    52610 non-null float64\n",
      "numbers           52610 non-null float64\n",
      "symbols           52610 non-null float64\n",
      "dtypes: float64(4), int64(1)\n",
      "memory usage: 2.0 MB\n"
     ]
    }
   ],
   "source": [
    "dns.info()"
   ]
  },
  {
   "cell_type": "code",
   "execution_count": 6,
   "metadata": {},
   "outputs": [
    {
     "data": {
      "text/html": [
       "<div>\n",
       "<style scoped>\n",
       "    .dataframe tbody tr th:only-of-type {\n",
       "        vertical-align: middle;\n",
       "    }\n",
       "\n",
       "    .dataframe tbody tr th {\n",
       "        vertical-align: top;\n",
       "    }\n",
       "\n",
       "    .dataframe thead th {\n",
       "        text-align: right;\n",
       "    }\n",
       "</style>\n",
       "<table border=\"1\" class=\"dataframe\">\n",
       "  <thead>\n",
       "    <tr style=\"text-align: right;\">\n",
       "      <th></th>\n",
       "      <th>attack</th>\n",
       "      <th>letters</th>\n",
       "      <th>longest_number</th>\n",
       "      <th>numbers</th>\n",
       "      <th>symbols</th>\n",
       "    </tr>\n",
       "  </thead>\n",
       "  <tbody>\n",
       "    <tr>\n",
       "      <th>count</th>\n",
       "      <td>52610.000000</td>\n",
       "      <td>52610.000000</td>\n",
       "      <td>52610.000000</td>\n",
       "      <td>52610.000000</td>\n",
       "      <td>52610.000000</td>\n",
       "    </tr>\n",
       "    <tr>\n",
       "      <th>mean</th>\n",
       "      <td>0.050960</td>\n",
       "      <td>0.887117</td>\n",
       "      <td>0.102316</td>\n",
       "      <td>0.111230</td>\n",
       "      <td>0.001654</td>\n",
       "    </tr>\n",
       "    <tr>\n",
       "      <th>std</th>\n",
       "      <td>0.219918</td>\n",
       "      <td>0.277083</td>\n",
       "      <td>0.266150</td>\n",
       "      <td>0.277009</td>\n",
       "      <td>0.013217</td>\n",
       "    </tr>\n",
       "    <tr>\n",
       "      <th>min</th>\n",
       "      <td>0.000000</td>\n",
       "      <td>0.000000</td>\n",
       "      <td>0.000000</td>\n",
       "      <td>0.000000</td>\n",
       "      <td>0.000000</td>\n",
       "    </tr>\n",
       "    <tr>\n",
       "      <th>25%</th>\n",
       "      <td>0.000000</td>\n",
       "      <td>1.000000</td>\n",
       "      <td>0.000000</td>\n",
       "      <td>0.000000</td>\n",
       "      <td>0.000000</td>\n",
       "    </tr>\n",
       "    <tr>\n",
       "      <th>50%</th>\n",
       "      <td>0.000000</td>\n",
       "      <td>1.000000</td>\n",
       "      <td>0.000000</td>\n",
       "      <td>0.000000</td>\n",
       "      <td>0.000000</td>\n",
       "    </tr>\n",
       "    <tr>\n",
       "      <th>75%</th>\n",
       "      <td>0.000000</td>\n",
       "      <td>1.000000</td>\n",
       "      <td>0.000000</td>\n",
       "      <td>0.000000</td>\n",
       "      <td>0.000000</td>\n",
       "    </tr>\n",
       "    <tr>\n",
       "      <th>max</th>\n",
       "      <td>1.000000</td>\n",
       "      <td>1.000000</td>\n",
       "      <td>1.000000</td>\n",
       "      <td>1.000000</td>\n",
       "      <td>0.250000</td>\n",
       "    </tr>\n",
       "  </tbody>\n",
       "</table>\n",
       "</div>"
      ],
      "text/plain": [
       "             attack       letters  longest_number       numbers       symbols\n",
       "count  52610.000000  52610.000000    52610.000000  52610.000000  52610.000000\n",
       "mean       0.050960      0.887117        0.102316      0.111230      0.001654\n",
       "std        0.219918      0.277083        0.266150      0.277009      0.013217\n",
       "min        0.000000      0.000000        0.000000      0.000000      0.000000\n",
       "25%        0.000000      1.000000        0.000000      0.000000      0.000000\n",
       "50%        0.000000      1.000000        0.000000      0.000000      0.000000\n",
       "75%        0.000000      1.000000        0.000000      0.000000      0.000000\n",
       "max        1.000000      1.000000        1.000000      1.000000      0.250000"
      ]
     },
     "execution_count": 6,
     "metadata": {},
     "output_type": "execute_result"
    }
   ],
   "source": [
    "dns.describe()"
   ]
  },
  {
   "cell_type": "code",
   "execution_count": 7,
   "metadata": {},
   "outputs": [
    {
     "data": {
      "image/png": "[encoded data removed]",
      "text/plain": [
       "<Figure size 1440x1080 with 6 Axes>"
      ]
     },
     "metadata": {
      "needs_background": "light"
     },
     "output_type": "display_data"
    }
   ],
   "source": [
    "dns.hist(figsize=(20,15))\n",
    "plt.show()"
   ]
  },
  {
   "cell_type": "markdown",
   "metadata": {},
   "source": [
    "# Creación de un \"test set\"\n",
    "Creación usando \"stratified sampling\" dependiendo si una consulta es un ataque o no."
   ]
  },
  {
   "cell_type": "code",
   "execution_count": 8,
   "metadata": {},
   "outputs": [],
   "source": [
    "train_set, test_set = split_train_and_test_sets(dns, 'attack')"
   ]
  },
  {
   "cell_type": "code",
   "execution_count": 9,
   "metadata": {},
   "outputs": [
    {
     "data": {
      "text/plain": [
       "0    0.949035\n",
       "1    0.050965\n",
       "Name: attack, dtype: float64"
      ]
     },
     "execution_count": 9,
     "metadata": {},
     "output_type": "execute_result"
    }
   ],
   "source": [
    "train_set['attack'].value_counts() / len(train_set)"
   ]
  },
  {
   "cell_type": "code",
   "execution_count": 10,
   "metadata": {},
   "outputs": [
    {
     "data": {
      "text/plain": [
       "0    0.949059\n",
       "1    0.050941\n",
       "Name: attack, dtype: float64"
      ]
     },
     "execution_count": 10,
     "metadata": {},
     "output_type": "execute_result"
    }
   ],
   "source": [
    "test_set['attack'].value_counts() / len(test_set)"
   ]
  },
  {
   "cell_type": "markdown",
   "metadata": {},
   "source": [
    "El conjunto de entrenamiento y el conjunto de test tienen proporciones similares."
   ]
  },
  {
   "cell_type": "markdown",
   "metadata": {},
   "source": [
    "# Descubrir y visualizar los datos"
   ]
  },
  {
   "cell_type": "code",
   "execution_count": 11,
   "metadata": {},
   "outputs": [],
   "source": [
    "train_set_copy = train_set.copy()"
   ]
  },
  {
   "cell_type": "markdown",
   "metadata": {},
   "source": [
    "Buscando correlaciones: comprobemos si algún atributo se correlaciona con el atributo de ataque."
   ]
  },
  {
   "cell_type": "code",
   "execution_count": 12,
   "metadata": {},
   "outputs": [
    {
     "data": {
      "text/plain": [
       "attack            1.000000\n",
       "numbers           0.355623\n",
       "longest_number    0.241213\n",
       "symbols          -0.029131\n",
       "letters          -0.354139\n",
       "Name: attack, dtype: float64"
      ]
     },
     "execution_count": 12,
     "metadata": {},
     "output_type": "execute_result"
    }
   ],
   "source": [
    "corr_matrix = train_set_copy.corr()\n",
    "corr_matrix['attack'].sort_values(ascending=False)"
   ]
  },
  {
   "cell_type": "markdown",
   "metadata": {},
   "source": [
    "Los números y la ausencia de letras parecen tener algo de relación con los ataques."
   ]
  },
  {
   "cell_type": "code",
   "execution_count": 13,
   "metadata": {},
   "outputs": [
    {
     "data": {
      "text/plain": [
       "array([[<matplotlib.axes._subplots.AxesSubplot object at 0x7fd372fb6828>,\n",
       "        <matplotlib.axes._subplots.AxesSubplot object at 0x7fd376dfcb70>,\n",
       "        <matplotlib.axes._subplots.AxesSubplot object at 0x7fd376dad0f0>,\n",
       "        <matplotlib.axes._subplots.AxesSubplot object at 0x7fd376dd6668>,\n",
       "        <matplotlib.axes._subplots.AxesSubplot object at 0x7fd376d7ebe0>],\n",
       "       [<matplotlib.axes._subplots.AxesSubplot object at 0x7fd376d2e198>,\n",
       "        <matplotlib.axes._subplots.AxesSubplot object at 0x7fd376d58710>,\n",
       "        <matplotlib.axes._subplots.AxesSubplot object at 0x7fd376d00cc0>,\n",
       "        <matplotlib.axes._subplots.AxesSubplot object at 0x7fd376d00cf8>,\n",
       "        <matplotlib.axes._subplots.AxesSubplot object at 0x7fd376cd77b8>],\n",
       "       [<matplotlib.axes._subplots.AxesSubplot object at 0x7fd376c7fd30>,\n",
       "        <matplotlib.axes._subplots.AxesSubplot object at 0x7fd376c302e8>,\n",
       "        <matplotlib.axes._subplots.AxesSubplot object at 0x7fd376c58860>,\n",
       "        <matplotlib.axes._subplots.AxesSubplot object at 0x7fd376c01dd8>,\n",
       "        <matplotlib.axes._subplots.AxesSubplot object at 0x7fd376bb2390>],\n",
       "       [<matplotlib.axes._subplots.AxesSubplot object at 0x7fd376bda908>,\n",
       "        <matplotlib.axes._subplots.AxesSubplot object at 0x7fd376b83e80>,\n",
       "        <matplotlib.axes._subplots.AxesSubplot object at 0x7fd376b34438>,\n",
       "        <matplotlib.axes._subplots.AxesSubplot object at 0x7fd376b5b9b0>,\n",
       "        <matplotlib.axes._subplots.AxesSubplot object at 0x7fd376b02f28>],\n",
       "       [<matplotlib.axes._subplots.AxesSubplot object at 0x7fd376ab34e0>,\n",
       "        <matplotlib.axes._subplots.AxesSubplot object at 0x7fd376adba58>,\n",
       "        <matplotlib.axes._subplots.AxesSubplot object at 0x7fd376a85fd0>,\n",
       "        <matplotlib.axes._subplots.AxesSubplot object at 0x7fd376a38588>,\n",
       "        <matplotlib.axes._subplots.AxesSubplot object at 0x7fd376a5fb00>]], dtype=object)"
      ]
     },
     "execution_count": 13,
     "metadata": {},
     "output_type": "execute_result"
    },
    {
     "data": {
      "image/png": "[encoded data removed]",
      "text/plain": [
       "<Figure size 864x576 with 25 Axes>"
      ]
     },
     "metadata": {
      "needs_background": "light"
     },
     "output_type": "display_data"
    }
   ],
   "source": [
    "attributes = train_set_copy.columns\n",
    "col_map = {0:'green', 1:'red'}\n",
    "colours = list(map(lambda x:col_map.get(x), train_set_copy['attack']))\n",
    "scatter_matrix(train_set_copy[attributes], figsize=(12, 8), c=colours)"
   ]
  },
  {
   "cell_type": "markdown",
   "metadata": {},
   "source": [
    "# Selección y entrenamiento de modelos"
   ]
  },
  {
   "cell_type": "markdown",
   "metadata": {},
   "source": [
    "En este apartado vamos a entrenar distintos tipos de modelos y haremos una selección de los que mejor rendimiento tengan."
   ]
  },
  {
   "cell_type": "code",
   "execution_count": 14,
   "metadata": {},
   "outputs": [
    {
     "data": {
      "text/html": [
       "<div>\n",
       "<style scoped>\n",
       "    .dataframe tbody tr th:only-of-type {\n",
       "        vertical-align: middle;\n",
       "    }\n",
       "\n",
       "    .dataframe tbody tr th {\n",
       "        vertical-align: top;\n",
       "    }\n",
       "\n",
       "    .dataframe thead th {\n",
       "        text-align: right;\n",
       "    }\n",
       "</style>\n",
       "<table border=\"1\" class=\"dataframe\">\n",
       "  <thead>\n",
       "    <tr style=\"text-align: right;\">\n",
       "      <th></th>\n",
       "      <th>letters</th>\n",
       "      <th>longest_number</th>\n",
       "      <th>numbers</th>\n",
       "      <th>symbols</th>\n",
       "    </tr>\n",
       "  </thead>\n",
       "  <tbody>\n",
       "    <tr>\n",
       "      <th>19038</th>\n",
       "      <td>1.000000</td>\n",
       "      <td>0.000000</td>\n",
       "      <td>0.000000</td>\n",
       "      <td>0.0</td>\n",
       "    </tr>\n",
       "    <tr>\n",
       "      <th>34347</th>\n",
       "      <td>1.000000</td>\n",
       "      <td>0.000000</td>\n",
       "      <td>0.000000</td>\n",
       "      <td>0.0</td>\n",
       "    </tr>\n",
       "    <tr>\n",
       "      <th>38293</th>\n",
       "      <td>1.000000</td>\n",
       "      <td>0.000000</td>\n",
       "      <td>0.000000</td>\n",
       "      <td>0.0</td>\n",
       "    </tr>\n",
       "    <tr>\n",
       "      <th>15027</th>\n",
       "      <td>1.000000</td>\n",
       "      <td>0.000000</td>\n",
       "      <td>0.000000</td>\n",
       "      <td>0.0</td>\n",
       "    </tr>\n",
       "    <tr>\n",
       "      <th>32646</th>\n",
       "      <td>1.000000</td>\n",
       "      <td>0.000000</td>\n",
       "      <td>0.000000</td>\n",
       "      <td>0.0</td>\n",
       "    </tr>\n",
       "    <tr>\n",
       "      <th>18206</th>\n",
       "      <td>0.315789</td>\n",
       "      <td>0.210526</td>\n",
       "      <td>0.684211</td>\n",
       "      <td>0.0</td>\n",
       "    </tr>\n",
       "    <tr>\n",
       "      <th>40710</th>\n",
       "      <td>1.000000</td>\n",
       "      <td>0.000000</td>\n",
       "      <td>0.000000</td>\n",
       "      <td>0.0</td>\n",
       "    </tr>\n",
       "    <tr>\n",
       "      <th>47415</th>\n",
       "      <td>1.000000</td>\n",
       "      <td>0.000000</td>\n",
       "      <td>0.000000</td>\n",
       "      <td>0.0</td>\n",
       "    </tr>\n",
       "    <tr>\n",
       "      <th>21099</th>\n",
       "      <td>1.000000</td>\n",
       "      <td>0.000000</td>\n",
       "      <td>0.000000</td>\n",
       "      <td>0.0</td>\n",
       "    </tr>\n",
       "    <tr>\n",
       "      <th>10444</th>\n",
       "      <td>1.000000</td>\n",
       "      <td>0.000000</td>\n",
       "      <td>0.000000</td>\n",
       "      <td>0.0</td>\n",
       "    </tr>\n",
       "    <tr>\n",
       "      <th>20086</th>\n",
       "      <td>0.666667</td>\n",
       "      <td>0.333333</td>\n",
       "      <td>0.333333</td>\n",
       "      <td>0.0</td>\n",
       "    </tr>\n",
       "    <tr>\n",
       "      <th>46941</th>\n",
       "      <td>1.000000</td>\n",
       "      <td>0.000000</td>\n",
       "      <td>0.000000</td>\n",
       "      <td>0.0</td>\n",
       "    </tr>\n",
       "    <tr>\n",
       "      <th>22703</th>\n",
       "      <td>0.250000</td>\n",
       "      <td>0.708333</td>\n",
       "      <td>0.750000</td>\n",
       "      <td>0.0</td>\n",
       "    </tr>\n",
       "    <tr>\n",
       "      <th>27980</th>\n",
       "      <td>1.000000</td>\n",
       "      <td>0.000000</td>\n",
       "      <td>0.000000</td>\n",
       "      <td>0.0</td>\n",
       "    </tr>\n",
       "    <tr>\n",
       "      <th>29957</th>\n",
       "      <td>1.000000</td>\n",
       "      <td>0.000000</td>\n",
       "      <td>0.000000</td>\n",
       "      <td>0.0</td>\n",
       "    </tr>\n",
       "    <tr>\n",
       "      <th>21281</th>\n",
       "      <td>1.000000</td>\n",
       "      <td>0.000000</td>\n",
       "      <td>0.000000</td>\n",
       "      <td>0.0</td>\n",
       "    </tr>\n",
       "    <tr>\n",
       "      <th>37689</th>\n",
       "      <td>1.000000</td>\n",
       "      <td>0.000000</td>\n",
       "      <td>0.000000</td>\n",
       "      <td>0.0</td>\n",
       "    </tr>\n",
       "    <tr>\n",
       "      <th>35961</th>\n",
       "      <td>1.000000</td>\n",
       "      <td>0.000000</td>\n",
       "      <td>0.000000</td>\n",
       "      <td>0.0</td>\n",
       "    </tr>\n",
       "    <tr>\n",
       "      <th>7664</th>\n",
       "      <td>0.625000</td>\n",
       "      <td>0.250000</td>\n",
       "      <td>0.375000</td>\n",
       "      <td>0.0</td>\n",
       "    </tr>\n",
       "    <tr>\n",
       "      <th>23435</th>\n",
       "      <td>1.000000</td>\n",
       "      <td>0.000000</td>\n",
       "      <td>0.000000</td>\n",
       "      <td>0.0</td>\n",
       "    </tr>\n",
       "    <tr>\n",
       "      <th>37630</th>\n",
       "      <td>1.000000</td>\n",
       "      <td>0.000000</td>\n",
       "      <td>0.000000</td>\n",
       "      <td>0.0</td>\n",
       "    </tr>\n",
       "    <tr>\n",
       "      <th>35801</th>\n",
       "      <td>1.000000</td>\n",
       "      <td>0.000000</td>\n",
       "      <td>0.000000</td>\n",
       "      <td>0.0</td>\n",
       "    </tr>\n",
       "    <tr>\n",
       "      <th>6023</th>\n",
       "      <td>1.000000</td>\n",
       "      <td>0.000000</td>\n",
       "      <td>0.000000</td>\n",
       "      <td>0.0</td>\n",
       "    </tr>\n",
       "    <tr>\n",
       "      <th>7777</th>\n",
       "      <td>1.000000</td>\n",
       "      <td>0.000000</td>\n",
       "      <td>0.000000</td>\n",
       "      <td>0.0</td>\n",
       "    </tr>\n",
       "    <tr>\n",
       "      <th>33452</th>\n",
       "      <td>1.000000</td>\n",
       "      <td>0.000000</td>\n",
       "      <td>0.000000</td>\n",
       "      <td>0.0</td>\n",
       "    </tr>\n",
       "    <tr>\n",
       "      <th>20629</th>\n",
       "      <td>1.000000</td>\n",
       "      <td>0.000000</td>\n",
       "      <td>0.000000</td>\n",
       "      <td>0.0</td>\n",
       "    </tr>\n",
       "    <tr>\n",
       "      <th>46080</th>\n",
       "      <td>1.000000</td>\n",
       "      <td>0.000000</td>\n",
       "      <td>0.000000</td>\n",
       "      <td>0.0</td>\n",
       "    </tr>\n",
       "    <tr>\n",
       "      <th>3813</th>\n",
       "      <td>1.000000</td>\n",
       "      <td>0.000000</td>\n",
       "      <td>0.000000</td>\n",
       "      <td>0.0</td>\n",
       "    </tr>\n",
       "    <tr>\n",
       "      <th>19759</th>\n",
       "      <td>1.000000</td>\n",
       "      <td>0.000000</td>\n",
       "      <td>0.000000</td>\n",
       "      <td>0.0</td>\n",
       "    </tr>\n",
       "    <tr>\n",
       "      <th>2792</th>\n",
       "      <td>1.000000</td>\n",
       "      <td>0.000000</td>\n",
       "      <td>0.000000</td>\n",
       "      <td>0.0</td>\n",
       "    </tr>\n",
       "    <tr>\n",
       "      <th>...</th>\n",
       "      <td>...</td>\n",
       "      <td>...</td>\n",
       "      <td>...</td>\n",
       "      <td>...</td>\n",
       "    </tr>\n",
       "    <tr>\n",
       "      <th>19146</th>\n",
       "      <td>1.000000</td>\n",
       "      <td>0.000000</td>\n",
       "      <td>0.000000</td>\n",
       "      <td>0.0</td>\n",
       "    </tr>\n",
       "    <tr>\n",
       "      <th>45370</th>\n",
       "      <td>1.000000</td>\n",
       "      <td>0.000000</td>\n",
       "      <td>0.000000</td>\n",
       "      <td>0.0</td>\n",
       "    </tr>\n",
       "    <tr>\n",
       "      <th>2599</th>\n",
       "      <td>1.000000</td>\n",
       "      <td>0.000000</td>\n",
       "      <td>0.000000</td>\n",
       "      <td>0.0</td>\n",
       "    </tr>\n",
       "    <tr>\n",
       "      <th>9440</th>\n",
       "      <td>1.000000</td>\n",
       "      <td>0.000000</td>\n",
       "      <td>0.000000</td>\n",
       "      <td>0.0</td>\n",
       "    </tr>\n",
       "    <tr>\n",
       "      <th>20665</th>\n",
       "      <td>1.000000</td>\n",
       "      <td>0.000000</td>\n",
       "      <td>0.000000</td>\n",
       "      <td>0.0</td>\n",
       "    </tr>\n",
       "    <tr>\n",
       "      <th>40669</th>\n",
       "      <td>1.000000</td>\n",
       "      <td>0.000000</td>\n",
       "      <td>0.000000</td>\n",
       "      <td>0.0</td>\n",
       "    </tr>\n",
       "    <tr>\n",
       "      <th>17967</th>\n",
       "      <td>1.000000</td>\n",
       "      <td>0.000000</td>\n",
       "      <td>0.000000</td>\n",
       "      <td>0.0</td>\n",
       "    </tr>\n",
       "    <tr>\n",
       "      <th>21537</th>\n",
       "      <td>1.000000</td>\n",
       "      <td>0.000000</td>\n",
       "      <td>0.000000</td>\n",
       "      <td>0.0</td>\n",
       "    </tr>\n",
       "    <tr>\n",
       "      <th>40308</th>\n",
       "      <td>1.000000</td>\n",
       "      <td>0.000000</td>\n",
       "      <td>0.000000</td>\n",
       "      <td>0.0</td>\n",
       "    </tr>\n",
       "    <tr>\n",
       "      <th>41310</th>\n",
       "      <td>1.000000</td>\n",
       "      <td>0.000000</td>\n",
       "      <td>0.000000</td>\n",
       "      <td>0.0</td>\n",
       "    </tr>\n",
       "    <tr>\n",
       "      <th>39340</th>\n",
       "      <td>1.000000</td>\n",
       "      <td>0.000000</td>\n",
       "      <td>0.000000</td>\n",
       "      <td>0.0</td>\n",
       "    </tr>\n",
       "    <tr>\n",
       "      <th>26520</th>\n",
       "      <td>1.000000</td>\n",
       "      <td>0.000000</td>\n",
       "      <td>0.000000</td>\n",
       "      <td>0.0</td>\n",
       "    </tr>\n",
       "    <tr>\n",
       "      <th>10041</th>\n",
       "      <td>1.000000</td>\n",
       "      <td>0.000000</td>\n",
       "      <td>0.000000</td>\n",
       "      <td>0.0</td>\n",
       "    </tr>\n",
       "    <tr>\n",
       "      <th>3399</th>\n",
       "      <td>1.000000</td>\n",
       "      <td>0.000000</td>\n",
       "      <td>0.000000</td>\n",
       "      <td>0.0</td>\n",
       "    </tr>\n",
       "    <tr>\n",
       "      <th>20828</th>\n",
       "      <td>0.000000</td>\n",
       "      <td>1.000000</td>\n",
       "      <td>1.000000</td>\n",
       "      <td>0.0</td>\n",
       "    </tr>\n",
       "    <tr>\n",
       "      <th>21972</th>\n",
       "      <td>1.000000</td>\n",
       "      <td>0.000000</td>\n",
       "      <td>0.000000</td>\n",
       "      <td>0.0</td>\n",
       "    </tr>\n",
       "    <tr>\n",
       "      <th>25180</th>\n",
       "      <td>0.000000</td>\n",
       "      <td>1.000000</td>\n",
       "      <td>1.000000</td>\n",
       "      <td>0.0</td>\n",
       "    </tr>\n",
       "    <tr>\n",
       "      <th>26146</th>\n",
       "      <td>0.000000</td>\n",
       "      <td>1.000000</td>\n",
       "      <td>1.000000</td>\n",
       "      <td>0.0</td>\n",
       "    </tr>\n",
       "    <tr>\n",
       "      <th>14883</th>\n",
       "      <td>0.666667</td>\n",
       "      <td>0.333333</td>\n",
       "      <td>0.333333</td>\n",
       "      <td>0.0</td>\n",
       "    </tr>\n",
       "    <tr>\n",
       "      <th>32959</th>\n",
       "      <td>1.000000</td>\n",
       "      <td>0.000000</td>\n",
       "      <td>0.000000</td>\n",
       "      <td>0.0</td>\n",
       "    </tr>\n",
       "    <tr>\n",
       "      <th>38584</th>\n",
       "      <td>1.000000</td>\n",
       "      <td>0.000000</td>\n",
       "      <td>0.000000</td>\n",
       "      <td>0.0</td>\n",
       "    </tr>\n",
       "    <tr>\n",
       "      <th>14303</th>\n",
       "      <td>1.000000</td>\n",
       "      <td>0.000000</td>\n",
       "      <td>0.000000</td>\n",
       "      <td>0.0</td>\n",
       "    </tr>\n",
       "    <tr>\n",
       "      <th>4482</th>\n",
       "      <td>1.000000</td>\n",
       "      <td>0.000000</td>\n",
       "      <td>0.000000</td>\n",
       "      <td>0.0</td>\n",
       "    </tr>\n",
       "    <tr>\n",
       "      <th>19699</th>\n",
       "      <td>1.000000</td>\n",
       "      <td>0.000000</td>\n",
       "      <td>0.000000</td>\n",
       "      <td>0.0</td>\n",
       "    </tr>\n",
       "    <tr>\n",
       "      <th>29817</th>\n",
       "      <td>1.000000</td>\n",
       "      <td>0.000000</td>\n",
       "      <td>0.000000</td>\n",
       "      <td>0.0</td>\n",
       "    </tr>\n",
       "    <tr>\n",
       "      <th>38981</th>\n",
       "      <td>0.000000</td>\n",
       "      <td>1.000000</td>\n",
       "      <td>1.000000</td>\n",
       "      <td>0.0</td>\n",
       "    </tr>\n",
       "    <tr>\n",
       "      <th>1251</th>\n",
       "      <td>1.000000</td>\n",
       "      <td>0.000000</td>\n",
       "      <td>0.000000</td>\n",
       "      <td>0.0</td>\n",
       "    </tr>\n",
       "    <tr>\n",
       "      <th>29917</th>\n",
       "      <td>1.000000</td>\n",
       "      <td>0.000000</td>\n",
       "      <td>0.000000</td>\n",
       "      <td>0.0</td>\n",
       "    </tr>\n",
       "    <tr>\n",
       "      <th>46138</th>\n",
       "      <td>1.000000</td>\n",
       "      <td>0.000000</td>\n",
       "      <td>0.000000</td>\n",
       "      <td>0.0</td>\n",
       "    </tr>\n",
       "    <tr>\n",
       "      <th>18349</th>\n",
       "      <td>1.000000</td>\n",
       "      <td>0.000000</td>\n",
       "      <td>0.000000</td>\n",
       "      <td>0.0</td>\n",
       "    </tr>\n",
       "  </tbody>\n",
       "</table>\n",
       "<p>42088 rows × 4 columns</p>\n",
       "</div>"
      ],
      "text/plain": [
       "        letters  longest_number   numbers  symbols\n",
       "19038  1.000000        0.000000  0.000000      0.0\n",
       "34347  1.000000        0.000000  0.000000      0.0\n",
       "38293  1.000000        0.000000  0.000000      0.0\n",
       "15027  1.000000        0.000000  0.000000      0.0\n",
       "32646  1.000000        0.000000  0.000000      0.0\n",
       "18206  0.315789        0.210526  0.684211      0.0\n",
       "40710  1.000000        0.000000  0.000000      0.0\n",
       "47415  1.000000        0.000000  0.000000      0.0\n",
       "21099  1.000000        0.000000  0.000000      0.0\n",
       "10444  1.000000        0.000000  0.000000      0.0\n",
       "20086  0.666667        0.333333  0.333333      0.0\n",
       "46941  1.000000        0.000000  0.000000      0.0\n",
       "22703  0.250000        0.708333  0.750000      0.0\n",
       "27980  1.000000        0.000000  0.000000      0.0\n",
       "29957  1.000000        0.000000  0.000000      0.0\n",
       "21281  1.000000        0.000000  0.000000      0.0\n",
       "37689  1.000000        0.000000  0.000000      0.0\n",
       "35961  1.000000        0.000000  0.000000      0.0\n",
       "7664   0.625000        0.250000  0.375000      0.0\n",
       "23435  1.000000        0.000000  0.000000      0.0\n",
       "37630  1.000000        0.000000  0.000000      0.0\n",
       "35801  1.000000        0.000000  0.000000      0.0\n",
       "6023   1.000000        0.000000  0.000000      0.0\n",
       "7777   1.000000        0.000000  0.000000      0.0\n",
       "33452  1.000000        0.000000  0.000000      0.0\n",
       "20629  1.000000        0.000000  0.000000      0.0\n",
       "46080  1.000000        0.000000  0.000000      0.0\n",
       "3813   1.000000        0.000000  0.000000      0.0\n",
       "19759  1.000000        0.000000  0.000000      0.0\n",
       "2792   1.000000        0.000000  0.000000      0.0\n",
       "...         ...             ...       ...      ...\n",
       "19146  1.000000        0.000000  0.000000      0.0\n",
       "45370  1.000000        0.000000  0.000000      0.0\n",
       "2599   1.000000        0.000000  0.000000      0.0\n",
       "9440   1.000000        0.000000  0.000000      0.0\n",
       "20665  1.000000        0.000000  0.000000      0.0\n",
       "40669  1.000000        0.000000  0.000000      0.0\n",
       "17967  1.000000        0.000000  0.000000      0.0\n",
       "21537  1.000000        0.000000  0.000000      0.0\n",
       "40308  1.000000        0.000000  0.000000      0.0\n",
       "41310  1.000000        0.000000  0.000000      0.0\n",
       "39340  1.000000        0.000000  0.000000      0.0\n",
       "26520  1.000000        0.000000  0.000000      0.0\n",
       "10041  1.000000        0.000000  0.000000      0.0\n",
       "3399   1.000000        0.000000  0.000000      0.0\n",
       "20828  0.000000        1.000000  1.000000      0.0\n",
       "21972  1.000000        0.000000  0.000000      0.0\n",
       "25180  0.000000        1.000000  1.000000      0.0\n",
       "26146  0.000000        1.000000  1.000000      0.0\n",
       "14883  0.666667        0.333333  0.333333      0.0\n",
       "32959  1.000000        0.000000  0.000000      0.0\n",
       "38584  1.000000        0.000000  0.000000      0.0\n",
       "14303  1.000000        0.000000  0.000000      0.0\n",
       "4482   1.000000        0.000000  0.000000      0.0\n",
       "19699  1.000000        0.000000  0.000000      0.0\n",
       "29817  1.000000        0.000000  0.000000      0.0\n",
       "38981  0.000000        1.000000  1.000000      0.0\n",
       "1251   1.000000        0.000000  0.000000      0.0\n",
       "29917  1.000000        0.000000  0.000000      0.0\n",
       "46138  1.000000        0.000000  0.000000      0.0\n",
       "18349  1.000000        0.000000  0.000000      0.0\n",
       "\n",
       "[42088 rows x 4 columns]"
      ]
     },
     "execution_count": 14,
     "metadata": {},
     "output_type": "execute_result"
    }
   ],
   "source": [
    "features = train_set.drop('attack', 1)\n",
    "features"
   ]
  },
  {
   "cell_type": "code",
   "execution_count": 15,
   "metadata": {},
   "outputs": [
    {
     "data": {
      "text/plain": [
       "19038    0\n",
       "34347    0\n",
       "38293    0\n",
       "15027    0\n",
       "32646    0\n",
       "18206    1\n",
       "40710    0\n",
       "47415    0\n",
       "21099    0\n",
       "10444    0\n",
       "20086    0\n",
       "46941    0\n",
       "22703    1\n",
       "27980    0\n",
       "29957    0\n",
       "21281    0\n",
       "37689    0\n",
       "35961    0\n",
       "7664     1\n",
       "23435    0\n",
       "37630    0\n",
       "35801    0\n",
       "6023     0\n",
       "7777     0\n",
       "33452    0\n",
       "20629    0\n",
       "46080    0\n",
       "3813     0\n",
       "19759    0\n",
       "2792     0\n",
       "        ..\n",
       "19146    0\n",
       "45370    0\n",
       "2599     0\n",
       "9440     0\n",
       "20665    0\n",
       "40669    0\n",
       "17967    0\n",
       "21537    0\n",
       "40308    0\n",
       "41310    0\n",
       "39340    0\n",
       "26520    0\n",
       "10041    0\n",
       "3399     0\n",
       "20828    0\n",
       "21972    0\n",
       "25180    0\n",
       "26146    0\n",
       "14883    0\n",
       "32959    0\n",
       "38584    0\n",
       "14303    0\n",
       "4482     0\n",
       "19699    0\n",
       "29817    0\n",
       "38981    0\n",
       "1251     0\n",
       "29917    0\n",
       "46138    0\n",
       "18349    0\n",
       "Name: attack, Length: 42088, dtype: int64"
      ]
     },
     "execution_count": 15,
     "metadata": {},
     "output_type": "execute_result"
    }
   ],
   "source": [
    "labels = train_set['attack']\n",
    "labels"
   ]
  },
  {
   "cell_type": "markdown",
   "metadata": {},
   "source": [
    "## Stochastic Gradient Descent (SGD) classifier"
   ]
  },
  {
   "cell_type": "code",
   "execution_count": 16,
   "metadata": {},
   "outputs": [
    {
     "data": {
      "text/plain": [
       "SGDClassifier(alpha=0.0001, average=False, class_weight=None,\n",
       "       early_stopping=False, epsilon=0.1, eta0=0.0, fit_intercept=True,\n",
       "       l1_ratio=0.15, learning_rate='optimal', loss='hinge', max_iter=5,\n",
       "       n_iter=None, n_iter_no_change=5, n_jobs=None, penalty='l2',\n",
       "       power_t=0.5, random_state=13, shuffle=True, tol=None,\n",
       "       validation_fraction=0.1, verbose=0, warm_start=False)"
      ]
     },
     "execution_count": 16,
     "metadata": {},
     "output_type": "execute_result"
    }
   ],
   "source": [
    "sgd_clf = SGDClassifier(max_iter=5, random_state=13)\n",
    "sgd_clf.fit(features, labels)"
   ]
  },
  {
   "cell_type": "code",
   "execution_count": 17,
   "metadata": {},
   "outputs": [
    {
     "name": "stdout",
     "output_type": "stream",
     "text": [
      "Predictions: [0 0 0 0 0 1 0 0 0 0]\n",
      "Labels: [0, 0, 0, 0, 0, 1, 0, 0, 0, 0]\n"
     ]
    }
   ],
   "source": [
    "some_data = features[:10]\n",
    "some_labels = labels[:10]\n",
    "print(\"Predictions:\", sgd_clf.predict(some_data))\n",
    "print(\"Labels:\", list(some_labels))"
   ]
  },
  {
   "cell_type": "markdown",
   "metadata": {},
   "source": [
    "### Medida de Rendimiento"
   ]
  },
  {
   "cell_type": "markdown",
   "metadata": {},
   "source": [
    "Evaluación del rendimiento usando una matriz de confusión.\n",
    "\"cross_val_predict\" realiza \"K-fold cross-validation\" devolviendo las predicciones realizadas en cada \"test fold\"."
   ]
  },
  {
   "cell_type": "code",
   "execution_count": 18,
   "metadata": {},
   "outputs": [],
   "source": [
    "train_predicted_labels = cross_val_predict(sgd_clf, features, labels, cv=5)"
   ]
  },
  {
   "cell_type": "code",
   "execution_count": 19,
   "metadata": {},
   "outputs": [
    {
     "data": {
      "text/plain": [
       "array([[39753,   190],\n",
       "       [ 1229,   916]])"
      ]
     },
     "execution_count": 19,
     "metadata": {},
     "output_type": "execute_result"
    }
   ],
   "source": [
    "confusion_matrix(labels, train_predicted_labels)"
   ]
  },
  {
   "cell_type": "markdown",
   "metadata": {},
   "source": [
    "Evaluación del rendimiento usando Precisión y Exhaustividad (Precision and Recall)."
   ]
  },
  {
   "cell_type": "code",
   "execution_count": 20,
   "metadata": {},
   "outputs": [
    {
     "data": {
      "text/plain": [
       "0.82820976491862563"
      ]
     },
     "execution_count": 20,
     "metadata": {},
     "output_type": "execute_result"
    }
   ],
   "source": [
    "precision_score(labels, train_predicted_labels)"
   ]
  },
  {
   "cell_type": "code",
   "execution_count": 21,
   "metadata": {},
   "outputs": [
    {
     "data": {
      "text/plain": [
       "0.42703962703962706"
      ]
     },
     "execution_count": 21,
     "metadata": {},
     "output_type": "execute_result"
    }
   ],
   "source": [
    "recall_score(labels, train_predicted_labels)"
   ]
  },
  {
   "cell_type": "code",
   "execution_count": 22,
   "metadata": {
    "scrolled": true
   },
   "outputs": [
    {
     "data": {
      "text/plain": [
       "0.56351891725622882"
      ]
     },
     "execution_count": 22,
     "metadata": {},
     "output_type": "execute_result"
    }
   ],
   "source": [
    "f1_score(labels, train_predicted_labels)"
   ]
  },
  {
   "cell_type": "markdown",
   "metadata": {},
   "source": [
    "### Análisis"
   ]
  },
  {
   "cell_type": "markdown",
   "metadata": {},
   "source": [
    "Obtengamos la puntuación que el clasificador SGD da a todas las predicciones."
   ]
  },
  {
   "cell_type": "code",
   "execution_count": 23,
   "metadata": {},
   "outputs": [],
   "source": [
    "labels_scores = cross_val_predict(sgd_clf, features, labels, cv=5, method='decision_function')"
   ]
  },
  {
   "cell_type": "code",
   "execution_count": 24,
   "metadata": {},
   "outputs": [
    {
     "data": {
      "text/plain": [
       "array([-1.19524053, -1.19524053, -1.19524053, ..., -1.35862627,\n",
       "       -1.35862627, -1.35862627])"
      ]
     },
     "execution_count": 24,
     "metadata": {},
     "output_type": "execute_result"
    }
   ],
   "source": [
    "labels_scores"
   ]
  },
  {
   "cell_type": "markdown",
   "metadata": {},
   "source": [
    "Las puntuaciones viven entre los valores -1.35 y 4.29:"
   ]
  },
  {
   "cell_type": "code",
   "execution_count": 25,
   "metadata": {},
   "outputs": [
    {
     "data": {
      "text/plain": [
       "-1.3586262701957268"
      ]
     },
     "execution_count": 25,
     "metadata": {},
     "output_type": "execute_result"
    }
   ],
   "source": [
    "labels_scores.min()"
   ]
  },
  {
   "cell_type": "code",
   "execution_count": 26,
   "metadata": {},
   "outputs": [
    {
     "data": {
      "text/plain": [
       "4.2938296391149144"
      ]
     },
     "execution_count": 26,
     "metadata": {},
     "output_type": "execute_result"
    }
   ],
   "source": [
    "labels_scores.max()"
   ]
  },
  {
   "cell_type": "markdown",
   "metadata": {},
   "source": [
    "Tracemos la curva de precisión vs. exhaustividad."
   ]
  },
  {
   "cell_type": "code",
   "execution_count": 27,
   "metadata": {},
   "outputs": [],
   "source": [
    "precisions, recalls, thresholds = precision_recall_curve(labels, labels_scores)"
   ]
  },
  {
   "cell_type": "code",
   "execution_count": 28,
   "metadata": {},
   "outputs": [
    {
     "data": {
      "image/png": "[encoded data removed]",
      "text/plain": [
       "<Figure size 1440x864 with 1 Axes>"
      ]
     },
     "metadata": {
      "needs_background": "light"
     },
     "output_type": "display_data"
    }
   ],
   "source": [
    "plt.figure(figsize=(20, 12))\n",
    "plot_precision_recall_vs_threshold(precisions, recalls, thresholds)\n",
    "plt.xlim([-2, 4])\n",
    "plt.show()"
   ]
  },
  {
   "cell_type": "markdown",
   "metadata": {},
   "source": [
    "Con un valor cercano a -1 de umbral parece dar un resultado aceptable de precisión/exhaustividad:"
   ]
  },
  {
   "cell_type": "code",
   "execution_count": 29,
   "metadata": {},
   "outputs": [
    {
     "data": {
      "image/png": "[encoded data removed]",
      "text/plain": [
       "<Figure size 1440x864 with 1 Axes>"
      ]
     },
     "metadata": {
      "needs_background": "light"
     },
     "output_type": "display_data"
    }
   ],
   "source": [
    "plt.figure(figsize=(20, 12))\n",
    "plot_precision_recall_vs_threshold(precisions, recalls, thresholds)\n",
    "plt.xlim([-1.2, -0.5])\n",
    "plt.show()"
   ]
  },
  {
   "cell_type": "markdown",
   "metadata": {},
   "source": [
    "Comprobamos los valores de precisión y exhaustividad ajustando el umbral a -1:"
   ]
  },
  {
   "cell_type": "code",
   "execution_count": 30,
   "metadata": {},
   "outputs": [],
   "source": [
    "labels_train_pred_89 = (labels_scores > -1)"
   ]
  },
  {
   "cell_type": "code",
   "execution_count": 31,
   "metadata": {},
   "outputs": [
    {
     "data": {
      "text/plain": [
       "array([[39753,   190],\n",
       "       [  621,  1524]])"
      ]
     },
     "execution_count": 31,
     "metadata": {},
     "output_type": "execute_result"
    }
   ],
   "source": [
    "confusion_matrix(labels, labels_train_pred_89)"
   ]
  },
  {
   "cell_type": "code",
   "execution_count": 32,
   "metadata": {},
   "outputs": [
    {
     "data": {
      "text/plain": [
       "0.88914819136522749"
      ]
     },
     "execution_count": 32,
     "metadata": {},
     "output_type": "execute_result"
    }
   ],
   "source": [
    "precision_score(labels, labels_train_pred_89)"
   ]
  },
  {
   "cell_type": "code",
   "execution_count": 33,
   "metadata": {},
   "outputs": [
    {
     "data": {
      "text/plain": [
       "0.71048951048951048"
      ]
     },
     "execution_count": 33,
     "metadata": {},
     "output_type": "execute_result"
    }
   ],
   "source": [
    "recall_score(labels, labels_train_pred_89)"
   ]
  },
  {
   "cell_type": "code",
   "execution_count": 34,
   "metadata": {},
   "outputs": [
    {
     "data": {
      "text/plain": [
       "0.78984192796061148"
      ]
     },
     "execution_count": 34,
     "metadata": {},
     "output_type": "execute_result"
    }
   ],
   "source": [
    "f1_score(labels, labels_train_pred_89)"
   ]
  },
  {
   "cell_type": "markdown",
   "metadata": {},
   "source": [
    "## Logistic Regression classifier"
   ]
  },
  {
   "cell_type": "code",
   "execution_count": 35,
   "metadata": {},
   "outputs": [
    {
     "data": {
      "text/plain": [
       "LogisticRegression(C=1.0, class_weight=None, dual=False, fit_intercept=True,\n",
       "          intercept_scaling=1, max_iter=100, multi_class='warn',\n",
       "          n_jobs=None, penalty='l2', random_state=13, solver='liblinear',\n",
       "          tol=0.0001, verbose=0, warm_start=False)"
      ]
     },
     "execution_count": 35,
     "metadata": {},
     "output_type": "execute_result"
    }
   ],
   "source": [
    "log_reg_clf = LogisticRegression(random_state=13, solver='liblinear')\n",
    "log_reg_clf.fit(features, labels)"
   ]
  },
  {
   "cell_type": "code",
   "execution_count": 36,
   "metadata": {},
   "outputs": [
    {
     "name": "stdout",
     "output_type": "stream",
     "text": [
      "Predictions: [0 0 0 0 0 1 0 0 0 0]\n",
      "Labels: [0, 0, 0, 0, 0, 1, 0, 0, 0, 0]\n"
     ]
    }
   ],
   "source": [
    "print(\"Predictions:\", log_reg_clf.predict(some_data))\n",
    "print(\"Labels:\", list(some_labels))"
   ]
  },
  {
   "cell_type": "markdown",
   "metadata": {},
   "source": [
    "### Medida de Rendimiento"
   ]
  },
  {
   "cell_type": "markdown",
   "metadata": {},
   "source": [
    "Evaluación del rendimiento usando una matriz de confusión."
   ]
  },
  {
   "cell_type": "code",
   "execution_count": 37,
   "metadata": {},
   "outputs": [],
   "source": [
    "train_predicted_labels = cross_val_predict(log_reg_clf, features, labels, cv=5)"
   ]
  },
  {
   "cell_type": "code",
   "execution_count": 38,
   "metadata": {},
   "outputs": [
    {
     "data": {
      "text/plain": [
       "array([[39753,   190],\n",
       "       [ 1321,   824]])"
      ]
     },
     "execution_count": 38,
     "metadata": {},
     "output_type": "execute_result"
    }
   ],
   "source": [
    "confusion_matrix(labels, train_predicted_labels)"
   ]
  },
  {
   "cell_type": "markdown",
   "metadata": {},
   "source": [
    "Evaluación del rendimiento usando Precisión y Exhaustividad (Precision and Recall)."
   ]
  },
  {
   "cell_type": "code",
   "execution_count": 39,
   "metadata": {},
   "outputs": [
    {
     "data": {
      "text/plain": [
       "0.81262327416173574"
      ]
     },
     "execution_count": 39,
     "metadata": {},
     "output_type": "execute_result"
    }
   ],
   "source": [
    "precision_score(labels, train_predicted_labels)"
   ]
  },
  {
   "cell_type": "code",
   "execution_count": 40,
   "metadata": {},
   "outputs": [
    {
     "data": {
      "text/plain": [
       "0.38414918414918414"
      ]
     },
     "execution_count": 40,
     "metadata": {},
     "output_type": "execute_result"
    }
   ],
   "source": [
    "recall_score(labels, train_predicted_labels)"
   ]
  },
  {
   "cell_type": "code",
   "execution_count": 41,
   "metadata": {
    "scrolled": true
   },
   "outputs": [
    {
     "data": {
      "text/plain": [
       "0.52168407723963284"
      ]
     },
     "execution_count": 41,
     "metadata": {},
     "output_type": "execute_result"
    }
   ],
   "source": [
    "f1_score(labels, train_predicted_labels)"
   ]
  },
  {
   "cell_type": "markdown",
   "metadata": {},
   "source": [
    "### Análisis"
   ]
  },
  {
   "cell_type": "markdown",
   "metadata": {},
   "source": [
    "Para poder representar gráficamente como actúa el modelo, dejemos sólo las dos características relacionadas con los números."
   ]
  },
  {
   "cell_type": "code",
   "execution_count": 42,
   "metadata": {},
   "outputs": [],
   "source": [
    "reduced_features = features.drop(['letters', 'symbols'], 1)\n",
    "train_predicted_labels = cross_val_predict(log_reg_clf, reduced_features, labels, cv=5)"
   ]
  },
  {
   "cell_type": "code",
   "execution_count": 43,
   "metadata": {},
   "outputs": [
    {
     "data": {
      "text/plain": [
       "array([[39773,   170],\n",
       "       [ 1342,   803]])"
      ]
     },
     "execution_count": 43,
     "metadata": {},
     "output_type": "execute_result"
    }
   ],
   "source": [
    "confusion_matrix(labels, train_predicted_labels)"
   ]
  },
  {
   "cell_type": "markdown",
   "metadata": {},
   "source": [
    "Evaluación del rendimiento usando Precisión y Exhaustividad (Precision and Recall)."
   ]
  },
  {
   "cell_type": "code",
   "execution_count": 44,
   "metadata": {},
   "outputs": [
    {
     "data": {
      "text/plain": [
       "0.82528263103802668"
      ]
     },
     "execution_count": 44,
     "metadata": {},
     "output_type": "execute_result"
    }
   ],
   "source": [
    "precision_score(labels, train_predicted_labels)"
   ]
  },
  {
   "cell_type": "code",
   "execution_count": 45,
   "metadata": {},
   "outputs": [
    {
     "data": {
      "text/plain": [
       "0.37435897435897436"
      ]
     },
     "execution_count": 45,
     "metadata": {},
     "output_type": "execute_result"
    }
   ],
   "source": [
    "recall_score(labels, train_predicted_labels)"
   ]
  },
  {
   "cell_type": "code",
   "execution_count": 46,
   "metadata": {
    "scrolled": true
   },
   "outputs": [
    {
     "data": {
      "text/plain": [
       "0.5150737652341244"
      ]
     },
     "execution_count": 46,
     "metadata": {},
     "output_type": "execute_result"
    }
   ],
   "source": [
    "f1_score(labels, train_predicted_labels)"
   ]
  },
  {
   "cell_type": "markdown",
   "metadata": {},
   "source": [
    "Al deshacernos de las dos características anteriories, la precisión y exhaustividad se mantienen muy similares.\n",
    "Generamos datos para ver cómo evolucionan las estimaciones con distintos datos."
   ]
  },
  {
   "cell_type": "code",
   "execution_count": 47,
   "metadata": {
    "scrolled": true
   },
   "outputs": [
    {
     "data": {
      "image/png": "[encoded data removed]",
      "text/plain": [
       "<Figure size 864x360 with 1 Axes>"
      ]
     },
     "metadata": {
      "needs_background": "light"
     },
     "output_type": "display_data"
    }
   ],
   "source": [
    "log_reg_clf.fit(reduced_features, labels)\n",
    "\n",
    "plt.figure(figsize=(12, 5))\n",
    "\n",
    "plot_predictions_for_logistic_regression(log_reg_clf, [-0.1, 1.1, -0.1, 1.1])\n",
    "\n",
    "X = reduced_features.values\n",
    "y = labels.values\n",
    "\n",
    "plot_dataset(X, y, \"Longest Number\", \"Numbers\")\n",
    "\n",
    "plt.show()"
   ]
  },
  {
   "cell_type": "markdown",
   "metadata": {},
   "source": [
    "Con esta representación se puede ver claramente que no hay ninguna frontera de decisión debido a la distribución de las características. Por lo tanto, un modelo de \"Logistic Regression\" no tendrá un buen rendimiento, debido a que no es capaz de diferenciar claramente los ataques de los que no lo son. La línea de puntos marca la frontera de decisión que usa el modelo para decidir si una consulta es un ataque o no. Las líneas de colores marcan las probabilidades que tiene una instancia de pertenecer a la clase \"Attack\".\n",
    "\n",
    "La precisión es mucho más alta que la exahustividad, debido a que en un lado de la frontera, la mayoría de ejemplos son ataques, por lo tanto el modelo clasifica correctamente estos ataques. Sin embargo, en el otro lado de la frontera hay tanto ataques como no ataques, por lo que estos ataques son clasificados erróneamente como no ataques (falsos negativos)."
   ]
  },
  {
   "cell_type": "markdown",
   "metadata": {},
   "source": [
    "## Support Vector Machines"
   ]
  },
  {
   "cell_type": "markdown",
   "metadata": {},
   "source": [
    "* ## Con Polynomial Kernel"
   ]
  },
  {
   "cell_type": "code",
   "execution_count": 48,
   "metadata": {
    "scrolled": true
   },
   "outputs": [
    {
     "data": {
      "text/plain": [
       "SVC(C=5, cache_size=200, class_weight=None, coef0=1,\n",
       "  decision_function_shape='ovr', degree=3, gamma='auto', kernel='poly',\n",
       "  max_iter=-1, probability=False, random_state=13, shrinking=True,\n",
       "  tol=0.001, verbose=False)"
      ]
     },
     "execution_count": 48,
     "metadata": {},
     "output_type": "execute_result"
    }
   ],
   "source": [
    "svm_clf_poly = SVC(kernel='poly', random_state=13, gamma='auto', degree=3, coef0=1, C=5)\n",
    "svm_clf_poly.fit(features, labels)"
   ]
  },
  {
   "cell_type": "code",
   "execution_count": 49,
   "metadata": {},
   "outputs": [
    {
     "name": "stdout",
     "output_type": "stream",
     "text": [
      "Predictions: [0 0 0 0 0 1 0 0 0 0]\n",
      "Labels: [0, 0, 0, 0, 0, 1, 0, 0, 0, 0]\n"
     ]
    }
   ],
   "source": [
    "print(\"Predictions:\", svm_clf_poly.predict(some_data))\n",
    "print(\"Labels:\", list(some_labels))"
   ]
  },
  {
   "cell_type": "markdown",
   "metadata": {},
   "source": [
    "### Medida de Rendimiento"
   ]
  },
  {
   "cell_type": "markdown",
   "metadata": {},
   "source": [
    "Evaluación del rendimiento usando una matriz de confusión."
   ]
  },
  {
   "cell_type": "code",
   "execution_count": 50,
   "metadata": {},
   "outputs": [],
   "source": [
    "train_predicted_labels = cross_val_predict(svm_clf_poly, features, labels, cv=5)"
   ]
  },
  {
   "cell_type": "code",
   "execution_count": 51,
   "metadata": {},
   "outputs": [
    {
     "data": {
      "text/plain": [
       "array([[39759,   184],\n",
       "       [  640,  1505]])"
      ]
     },
     "execution_count": 51,
     "metadata": {},
     "output_type": "execute_result"
    }
   ],
   "source": [
    "confusion_matrix(labels, train_predicted_labels)"
   ]
  },
  {
   "cell_type": "markdown",
   "metadata": {},
   "source": [
    "Evaluación del rendimiento usando Precisión y Exhaustividad (Precision and Recall)."
   ]
  },
  {
   "cell_type": "code",
   "execution_count": 52,
   "metadata": {},
   "outputs": [
    {
     "data": {
      "text/plain": [
       "0.89105979869745411"
      ]
     },
     "execution_count": 52,
     "metadata": {},
     "output_type": "execute_result"
    }
   ],
   "source": [
    "precision_score(labels, train_predicted_labels)"
   ]
  },
  {
   "cell_type": "code",
   "execution_count": 53,
   "metadata": {},
   "outputs": [
    {
     "data": {
      "text/plain": [
       "0.70163170163170163"
      ]
     },
     "execution_count": 53,
     "metadata": {},
     "output_type": "execute_result"
    }
   ],
   "source": [
    "recall_score(labels, train_predicted_labels)"
   ]
  },
  {
   "cell_type": "code",
   "execution_count": 54,
   "metadata": {
    "scrolled": false
   },
   "outputs": [
    {
     "data": {
      "text/plain": [
       "0.78508085550339068"
      ]
     },
     "execution_count": 54,
     "metadata": {},
     "output_type": "execute_result"
    }
   ],
   "source": [
    "f1_score(labels, train_predicted_labels)"
   ]
  },
  {
   "cell_type": "markdown",
   "metadata": {},
   "source": [
    "### Análisis"
   ]
  },
  {
   "cell_type": "markdown",
   "metadata": {},
   "source": [
    "Para poder representar gráficamente cómo actúa el modelo, volvamos a usar el vector que tiene sólo las dos características relacionadas con los números."
   ]
  },
  {
   "cell_type": "code",
   "execution_count": 55,
   "metadata": {},
   "outputs": [],
   "source": [
    "train_predicted_labels = cross_val_predict(svm_clf_poly, reduced_features, labels, cv=5)"
   ]
  },
  {
   "cell_type": "code",
   "execution_count": 56,
   "metadata": {},
   "outputs": [
    {
     "data": {
      "text/plain": [
       "array([[39753,   190],\n",
       "       [  627,  1518]])"
      ]
     },
     "execution_count": 56,
     "metadata": {},
     "output_type": "execute_result"
    }
   ],
   "source": [
    "confusion_matrix(labels, train_predicted_labels)"
   ]
  },
  {
   "cell_type": "markdown",
   "metadata": {},
   "source": [
    "Evaluación del rendimiento usando Precisión y Exhaustividad (Precision and Recall)."
   ]
  },
  {
   "cell_type": "code",
   "execution_count": 57,
   "metadata": {},
   "outputs": [
    {
     "data": {
      "text/plain": [
       "0.88875878220140514"
      ]
     },
     "execution_count": 57,
     "metadata": {},
     "output_type": "execute_result"
    }
   ],
   "source": [
    "precision_score(labels, train_predicted_labels)"
   ]
  },
  {
   "cell_type": "code",
   "execution_count": 58,
   "metadata": {},
   "outputs": [
    {
     "data": {
      "text/plain": [
       "0.70769230769230773"
      ]
     },
     "execution_count": 58,
     "metadata": {},
     "output_type": "execute_result"
    }
   ],
   "source": [
    "recall_score(labels, train_predicted_labels)"
   ]
  },
  {
   "cell_type": "code",
   "execution_count": 59,
   "metadata": {
    "scrolled": true
   },
   "outputs": [
    {
     "data": {
      "text/plain": [
       "0.78795743576433952"
      ]
     },
     "execution_count": 59,
     "metadata": {},
     "output_type": "execute_result"
    }
   ],
   "source": [
    "f1_score(labels, train_predicted_labels)"
   ]
  },
  {
   "cell_type": "markdown",
   "metadata": {},
   "source": [
    "De nuevo la precisión y exhaustividad se mantienen muy similares después de eliminar las características \"letters\" y \"symbols\".\n",
    "\n",
    "Probemos a representar gráficamente nuestro modelo y otro modelo con mayor grado para la función polinómica del kernel y mayor parámetro de penalización (C)."
   ]
  },
  {
   "cell_type": "code",
   "execution_count": 60,
   "metadata": {
    "scrolled": true
   },
   "outputs": [
    {
     "data": {
      "image/png": "[encoded data removed]",
      "text/plain": [
       "<Figure size 864x360 with 1 Axes>"
      ]
     },
     "metadata": {
      "needs_background": "light"
     },
     "output_type": "display_data"
    }
   ],
   "source": [
    "svm_clf_poly.fit(reduced_features, labels)\n",
    "\n",
    "plt.figure(figsize=(12, 5))\n",
    "\n",
    "plot_predictions_for_SVC(svm_clf_poly, [-0.1, 1.1, -0.1, 1.1]) \n",
    "\n",
    "plot_dataset(X, y, \"Longest Number\", \"Numbers\")\n",
    "\n",
    "plt.title(r\"$d=3, r=1, C=5$\", fontsize=18)\n",
    "\n",
    "plt.show()"
   ]
  },
  {
   "cell_type": "code",
   "execution_count": 61,
   "metadata": {},
   "outputs": [
    {
     "data": {
      "image/png": "[encoded data removed]",
      "text/plain": [
       "<Figure size 864x360 with 1 Axes>"
      ]
     },
     "metadata": {
      "needs_background": "light"
     },
     "output_type": "display_data"
    }
   ],
   "source": [
    "svm_clf_poly = SVC(kernel='poly', random_state=13, gamma='auto', degree=20, coef0=1, C=50)\n",
    "svm_clf_poly.fit(reduced_features, labels)\n",
    "\n",
    "plt.figure(figsize=(12, 5))\n",
    "\n",
    "plot_predictions_for_SVC(svm_clf_poly, [-0.1, 1.1, -0.1, 1.1])\n",
    "\n",
    "plot_dataset(X, y, \"Longest Number\", \"Numbers\")\n",
    "\n",
    "plt.title(r\"$d=20, r=1, C=50$\", fontsize=18)\n",
    "\n",
    "plt.show()"
   ]
  },
  {
   "cell_type": "markdown",
   "metadata": {},
   "source": [
    "Se puede ver que aumentando el grado de la función polinómica del kernel y la penalización por error, el modelo se ajusta algo mejor a los datos. Aún así, sigue existiendo un área compartida entre los ataques y los no ataques, en la que parece difícil realizar una diferenciación. Por lo tanto, el modelo es capaz de identificar un gran número de ataques pero sigue sin clasificar correctamente los ataques que tienen características similares a los no ataques."
   ]
  },
  {
   "cell_type": "markdown",
   "metadata": {},
   "source": [
    "* ## Con Gaussian RBF Kernel"
   ]
  },
  {
   "cell_type": "code",
   "execution_count": 153,
   "metadata": {},
   "outputs": [
    {
     "data": {
      "text/plain": [
       "SVC(C=5, cache_size=200, class_weight=None, coef0=0.0,\n",
       "  decision_function_shape='ovr', degree=3, gamma=5, kernel='rbf',\n",
       "  max_iter=-1, probability=False, random_state=13, shrinking=True,\n",
       "  tol=0.001, verbose=False)"
      ]
     },
     "execution_count": 153,
     "metadata": {},
     "output_type": "execute_result"
    }
   ],
   "source": [
    "svm_clf_rbf = SVC(kernel='rbf', random_state=13, gamma=5, C=5)\n",
    "svm_clf_rbf.fit(features, labels)"
   ]
  },
  {
   "cell_type": "code",
   "execution_count": 63,
   "metadata": {},
   "outputs": [
    {
     "name": "stdout",
     "output_type": "stream",
     "text": [
      "Predictions: [0 0 0 0 0 1 0 0 0 0]\n",
      "Labels: [0, 0, 0, 0, 0, 1, 0, 0, 0, 0]\n"
     ]
    }
   ],
   "source": [
    "print(\"Predictions:\", svm_clf_rbf.predict(some_data))\n",
    "print(\"Labels:\", list(some_labels))"
   ]
  },
  {
   "cell_type": "markdown",
   "metadata": {},
   "source": [
    "### Medida de Rendimiento"
   ]
  },
  {
   "cell_type": "markdown",
   "metadata": {},
   "source": [
    "Evaluación del rendimiento usando una matriz de confusión."
   ]
  },
  {
   "cell_type": "code",
   "execution_count": 64,
   "metadata": {},
   "outputs": [],
   "source": [
    "train_predicted_labels = cross_val_predict(svm_clf_rbf, features, labels, cv=5)"
   ]
  },
  {
   "cell_type": "code",
   "execution_count": 65,
   "metadata": {},
   "outputs": [
    {
     "data": {
      "text/plain": [
       "array([[39773,   170],\n",
       "       [  435,  1710]])"
      ]
     },
     "execution_count": 65,
     "metadata": {},
     "output_type": "execute_result"
    }
   ],
   "source": [
    "confusion_matrix(labels, train_predicted_labels)"
   ]
  },
  {
   "cell_type": "markdown",
   "metadata": {},
   "source": [
    "Evaluación del rendimiento usando Precisión y Exhaustividad (Precision and Recall)."
   ]
  },
  {
   "cell_type": "code",
   "execution_count": 66,
   "metadata": {},
   "outputs": [
    {
     "data": {
      "text/plain": [
       "0.90957446808510634"
      ]
     },
     "execution_count": 66,
     "metadata": {},
     "output_type": "execute_result"
    }
   ],
   "source": [
    "precision_score(labels, train_predicted_labels)"
   ]
  },
  {
   "cell_type": "code",
   "execution_count": 67,
   "metadata": {},
   "outputs": [
    {
     "data": {
      "text/plain": [
       "0.79720279720279719"
      ]
     },
     "execution_count": 67,
     "metadata": {},
     "output_type": "execute_result"
    }
   ],
   "source": [
    "recall_score(labels, train_predicted_labels)"
   ]
  },
  {
   "cell_type": "code",
   "execution_count": 68,
   "metadata": {
    "scrolled": false
   },
   "outputs": [
    {
     "data": {
      "text/plain": [
       "0.84968944099378885"
      ]
     },
     "execution_count": 68,
     "metadata": {},
     "output_type": "execute_result"
    }
   ],
   "source": [
    "f1_score(labels, train_predicted_labels)"
   ]
  },
  {
   "cell_type": "markdown",
   "metadata": {},
   "source": [
    "El modelo \"Gaussian RBF Kernel\" da un rendimiento superior que los modelos antes analizados. Es uno de los modelos prometedores que serán afinados en la siguiente fase."
   ]
  },
  {
   "cell_type": "markdown",
   "metadata": {},
   "source": [
    "### Análisis"
   ]
  },
  {
   "cell_type": "markdown",
   "metadata": {},
   "source": [
    "Usemos de nuevo el vector con las características reducidas para la representación gráfica."
   ]
  },
  {
   "cell_type": "code",
   "execution_count": 69,
   "metadata": {},
   "outputs": [],
   "source": [
    "train_predicted_labels = cross_val_predict(svm_clf_rbf, reduced_features, labels, cv=5)"
   ]
  },
  {
   "cell_type": "code",
   "execution_count": 70,
   "metadata": {},
   "outputs": [
    {
     "data": {
      "text/plain": [
       "array([[39753,   190],\n",
       "       [  444,  1701]])"
      ]
     },
     "execution_count": 70,
     "metadata": {},
     "output_type": "execute_result"
    }
   ],
   "source": [
    "confusion_matrix(labels, train_predicted_labels)"
   ]
  },
  {
   "cell_type": "markdown",
   "metadata": {},
   "source": [
    "Evaluación del rendimiento usando Precisión y Exhaustividad (Precision and Recall)."
   ]
  },
  {
   "cell_type": "code",
   "execution_count": 71,
   "metadata": {},
   "outputs": [
    {
     "data": {
      "text/plain": [
       "0.89952406134320462"
      ]
     },
     "execution_count": 71,
     "metadata": {},
     "output_type": "execute_result"
    }
   ],
   "source": [
    "precision_score(labels, train_predicted_labels)"
   ]
  },
  {
   "cell_type": "code",
   "execution_count": 72,
   "metadata": {},
   "outputs": [
    {
     "data": {
      "text/plain": [
       "0.79300699300699296"
      ]
     },
     "execution_count": 72,
     "metadata": {},
     "output_type": "execute_result"
    }
   ],
   "source": [
    "recall_score(labels, train_predicted_labels)"
   ]
  },
  {
   "cell_type": "code",
   "execution_count": 73,
   "metadata": {
    "scrolled": true
   },
   "outputs": [
    {
     "data": {
      "text/plain": [
       "0.84291377601585726"
      ]
     },
     "execution_count": 73,
     "metadata": {},
     "output_type": "execute_result"
    }
   ],
   "source": [
    "f1_score(labels, train_predicted_labels)"
   ]
  },
  {
   "cell_type": "markdown",
   "metadata": {},
   "source": [
    "La precisión y exhaustividad se siguen manteniendo similares."
   ]
  },
  {
   "cell_type": "code",
   "execution_count": 154,
   "metadata": {
    "scrolled": true
   },
   "outputs": [
    {
     "data": {
      "image/png": "[encoded data removed]",
      "text/plain": [
       "<Figure size 864x360 with 1 Axes>"
      ]
     },
     "metadata": {
      "needs_background": "light"
     },
     "output_type": "display_data"
    }
   ],
   "source": [
    "svm_clf_rbf.fit(reduced_features, labels)\n",
    "plt.figure(figsize=(12, 5))\n",
    "\n",
    "plot_predictions_for_SVC(svm_clf_rbf, [-0.1, 1.1, -0.1, 1.1])\n",
    "\n",
    "plot_dataset(X, y, \"Longest Number\", \"Numbers\")\n",
    "\n",
    "plt.title(r\"$d=3, r=0, C=5$\", fontsize=18)\n",
    "\n",
    "plt.show()"
   ]
  },
  {
   "cell_type": "code",
   "execution_count": 155,
   "metadata": {},
   "outputs": [
    {
     "data": {
      "image/png": "[encoded data removed]",
      "text/plain": [
       "<Figure size 864x360 with 1 Axes>"
      ]
     },
     "metadata": {
      "needs_background": "light"
     },
     "output_type": "display_data"
    }
   ],
   "source": [
    "svm_clf_rbf = SVC(kernel='rbf', random_state=13, gamma='auto', degree=20, C=50)\n",
    "svm_clf_rbf.fit(reduced_features, labels)\n",
    "\n",
    "plt.figure(figsize=(12, 5))\n",
    "\n",
    "plot_predictions_for_SVC(svm_clf_rbf, [-0.1, 1.1, -0.1, 1.1])\n",
    "\n",
    "plot_dataset(X, y, \"Longest Number\", \"Numbers\")\n",
    "\n",
    "plt.title(r\"$d=20, r=0, C=50$\", fontsize=18)\n",
    "\n",
    "plt.show()"
   ]
  },
  {
   "cell_type": "markdown",
   "metadata": {},
   "source": [
    "Bastante similar a los modelos anteriores, sigue existiendo un área donde el modelo no puede distinguir los ataques de los no ataques."
   ]
  },
  {
   "cell_type": "markdown",
   "metadata": {},
   "source": [
    "## Decision Trees"
   ]
  },
  {
   "cell_type": "code",
   "execution_count": 75,
   "metadata": {},
   "outputs": [
    {
     "data": {
      "text/plain": [
       "DecisionTreeClassifier(class_weight=None, criterion='gini', max_depth=None,\n",
       "            max_features=None, max_leaf_nodes=None,\n",
       "            min_impurity_decrease=0.0, min_impurity_split=None,\n",
       "            min_samples_leaf=1, min_samples_split=2,\n",
       "            min_weight_fraction_leaf=0.0, presort=False, random_state=13,\n",
       "            splitter='best')"
      ]
     },
     "execution_count": 75,
     "metadata": {},
     "output_type": "execute_result"
    }
   ],
   "source": [
    "tree_clf = DecisionTreeClassifier(random_state=13)\n",
    "tree_clf.fit(features, labels)"
   ]
  },
  {
   "cell_type": "code",
   "execution_count": 76,
   "metadata": {},
   "outputs": [
    {
     "name": "stdout",
     "output_type": "stream",
     "text": [
      "Predictions: [0 0 0 0 0 1 0 0 0 0]\n",
      "Labels: [0, 0, 0, 0, 0, 1, 0, 0, 0, 0]\n"
     ]
    }
   ],
   "source": [
    "print(\"Predictions:\", tree_clf.predict(some_data))\n",
    "print(\"Labels:\", list(some_labels))"
   ]
  },
  {
   "cell_type": "markdown",
   "metadata": {},
   "source": [
    "### Medida de Rendimiento"
   ]
  },
  {
   "cell_type": "markdown",
   "metadata": {},
   "source": [
    "Evaluación del rendimiento usando una matriz de confusión."
   ]
  },
  {
   "cell_type": "code",
   "execution_count": 77,
   "metadata": {},
   "outputs": [],
   "source": [
    "train_predicted_labels = cross_val_predict(tree_clf, features, labels, cv=5)"
   ]
  },
  {
   "cell_type": "code",
   "execution_count": 78,
   "metadata": {},
   "outputs": [
    {
     "data": {
      "text/plain": [
       "array([[39900,    43],\n",
       "       [  173,  1972]])"
      ]
     },
     "execution_count": 78,
     "metadata": {},
     "output_type": "execute_result"
    }
   ],
   "source": [
    "confusion_matrix(labels, train_predicted_labels)"
   ]
  },
  {
   "cell_type": "markdown",
   "metadata": {},
   "source": [
    "Evaluación del rendimiento usando Precisión y Exhaustividad (Precision and Recall)."
   ]
  },
  {
   "cell_type": "code",
   "execution_count": 79,
   "metadata": {},
   "outputs": [
    {
     "data": {
      "text/plain": [
       "0.97866004962779152"
      ]
     },
     "execution_count": 79,
     "metadata": {},
     "output_type": "execute_result"
    }
   ],
   "source": [
    "precision_score(labels, train_predicted_labels)"
   ]
  },
  {
   "cell_type": "code",
   "execution_count": 80,
   "metadata": {},
   "outputs": [
    {
     "data": {
      "text/plain": [
       "0.91934731934731939"
      ]
     },
     "execution_count": 80,
     "metadata": {},
     "output_type": "execute_result"
    }
   ],
   "source": [
    "recall_score(labels, train_predicted_labels)"
   ]
  },
  {
   "cell_type": "code",
   "execution_count": 81,
   "metadata": {
    "scrolled": false
   },
   "outputs": [
    {
     "data": {
      "text/plain": [
       "0.94807692307692315"
      ]
     },
     "execution_count": 81,
     "metadata": {},
     "output_type": "execute_result"
    }
   ],
   "source": [
    "f1_score(labels, train_predicted_labels)"
   ]
  },
  {
   "cell_type": "markdown",
   "metadata": {},
   "source": [
    "### Análisis"
   ]
  },
  {
   "cell_type": "code",
   "execution_count": 82,
   "metadata": {},
   "outputs": [],
   "source": [
    "export_graphviz(\n",
    "        tree_clf,\n",
    "        out_file='../images/tree_clf_dns.dot',\n",
    "        feature_names=features.columns,\n",
    "        class_names=['No attack', 'Attack'],\n",
    "        rounded=True,\n",
    "        filled=True\n",
    "    )"
   ]
  },
  {
   "cell_type": "markdown",
   "metadata": {},
   "source": [
    "![tree_clf_dns.png](../images/tree_clf_dns.png \"Árbol de decisión\")"
   ]
  },
  {
   "cell_type": "markdown",
   "metadata": {},
   "source": [
    "El modelo \"Decision Tree\" parece dar un rendimiento bastante alto. Sin embargo, al no haber añadido ningún parámetro para restringir la estructura del modelo, es posible que este modelo esté algo sobreajustado, como veremos más adelante. Es otro de los modelos que será afinado en la siguiente fase.\n",
    "\n",
    "Como podemos ver en la imagen, al no añadir ningún parámetro, la estructura del árbol crece libremente. De esta manera, el modelo se ajustará de una forma bastante cercana a los datos, pudiendo crear un sobreajuste."
   ]
  },
  {
   "cell_type": "markdown",
   "metadata": {},
   "source": [
    "## K-Nearest-Neighbors"
   ]
  },
  {
   "cell_type": "code",
   "execution_count": 83,
   "metadata": {},
   "outputs": [
    {
     "data": {
      "text/plain": [
       "KNeighborsClassifier(algorithm='auto', leaf_size=30, metric='minkowski',\n",
       "           metric_params=None, n_jobs=None, n_neighbors=5, p=2,\n",
       "           weights='uniform')"
      ]
     },
     "execution_count": 83,
     "metadata": {},
     "output_type": "execute_result"
    }
   ],
   "source": [
    "knn_clf = KNeighborsClassifier()\n",
    "knn_clf.fit(features, labels)"
   ]
  },
  {
   "cell_type": "code",
   "execution_count": 84,
   "metadata": {},
   "outputs": [
    {
     "name": "stdout",
     "output_type": "stream",
     "text": [
      "Predictions: [0 0 0 0 0 1 0 0 0 0]\n",
      "Labels: [0, 0, 0, 0, 0, 1, 0, 0, 0, 0]\n"
     ]
    }
   ],
   "source": [
    "print(\"Predictions:\", knn_clf.predict(some_data))\n",
    "print(\"Labels:\", list(some_labels))"
   ]
  },
  {
   "cell_type": "markdown",
   "metadata": {},
   "source": [
    "### Medida de Rendimiento"
   ]
  },
  {
   "cell_type": "markdown",
   "metadata": {},
   "source": [
    "Evaluación del rendimiento usando una matriz de confusión."
   ]
  },
  {
   "cell_type": "code",
   "execution_count": 85,
   "metadata": {},
   "outputs": [],
   "source": [
    "train_predicted_labels = cross_val_predict(knn_clf, features, labels, cv=5)"
   ]
  },
  {
   "cell_type": "code",
   "execution_count": 86,
   "metadata": {},
   "outputs": [
    {
     "data": {
      "text/plain": [
       "array([[39900,    43],\n",
       "       [  172,  1973]])"
      ]
     },
     "execution_count": 86,
     "metadata": {},
     "output_type": "execute_result"
    }
   ],
   "source": [
    "confusion_matrix(labels, train_predicted_labels)"
   ]
  },
  {
   "cell_type": "markdown",
   "metadata": {},
   "source": [
    "Evaluación del rendimiento usando Precisión y Exhaustividad (Precision and Recall)."
   ]
  },
  {
   "cell_type": "code",
   "execution_count": 87,
   "metadata": {},
   "outputs": [
    {
     "data": {
      "text/plain": [
       "0.97867063492063489"
      ]
     },
     "execution_count": 87,
     "metadata": {},
     "output_type": "execute_result"
    }
   ],
   "source": [
    "precision_score(labels, train_predicted_labels)"
   ]
  },
  {
   "cell_type": "code",
   "execution_count": 88,
   "metadata": {},
   "outputs": [
    {
     "data": {
      "text/plain": [
       "0.91981351981351978"
      ]
     },
     "execution_count": 88,
     "metadata": {},
     "output_type": "execute_result"
    }
   ],
   "source": [
    "recall_score(labels, train_predicted_labels)"
   ]
  },
  {
   "cell_type": "code",
   "execution_count": 89,
   "metadata": {
    "scrolled": true
   },
   "outputs": [
    {
     "data": {
      "text/plain": [
       "0.94832972843066565"
      ]
     },
     "execution_count": 89,
     "metadata": {},
     "output_type": "execute_result"
    }
   ],
   "source": [
    "f1_score(labels, train_predicted_labels)"
   ]
  },
  {
   "cell_type": "markdown",
   "metadata": {},
   "source": [
    "El modelo KNN también tiene un rendimiento bastante alto, por lo que será afinado en la siguiente fase."
   ]
  },
  {
   "cell_type": "markdown",
   "metadata": {},
   "source": [
    "### Análisis"
   ]
  },
  {
   "cell_type": "markdown",
   "metadata": {},
   "source": [
    "Hagamos una representación gráfica usando el vector con características reducidas."
   ]
  },
  {
   "cell_type": "code",
   "execution_count": 90,
   "metadata": {},
   "outputs": [],
   "source": [
    "train_predicted_labels = cross_val_predict(knn_clf, reduced_features, labels, cv=5)"
   ]
  },
  {
   "cell_type": "code",
   "execution_count": 91,
   "metadata": {},
   "outputs": [
    {
     "data": {
      "text/plain": [
       "array([[39873,    70],\n",
       "       [  209,  1936]])"
      ]
     },
     "execution_count": 91,
     "metadata": {},
     "output_type": "execute_result"
    }
   ],
   "source": [
    "confusion_matrix(labels, train_predicted_labels)"
   ]
  },
  {
   "cell_type": "markdown",
   "metadata": {},
   "source": [
    "Evaluación del rendimiento usando Precisión y Exhaustividad (Precision and Recall)."
   ]
  },
  {
   "cell_type": "code",
   "execution_count": 92,
   "metadata": {},
   "outputs": [
    {
     "data": {
      "text/plain": [
       "0.96510468594217347"
      ]
     },
     "execution_count": 92,
     "metadata": {},
     "output_type": "execute_result"
    }
   ],
   "source": [
    "precision_score(labels, train_predicted_labels)"
   ]
  },
  {
   "cell_type": "code",
   "execution_count": 93,
   "metadata": {},
   "outputs": [
    {
     "data": {
      "text/plain": [
       "0.90256410256410258"
      ]
     },
     "execution_count": 93,
     "metadata": {},
     "output_type": "execute_result"
    }
   ],
   "source": [
    "recall_score(labels, train_predicted_labels)"
   ]
  },
  {
   "cell_type": "code",
   "execution_count": 94,
   "metadata": {
    "scrolled": true
   },
   "outputs": [
    {
     "data": {
      "text/plain": [
       "0.93278728017345225"
      ]
     },
     "execution_count": 94,
     "metadata": {},
     "output_type": "execute_result"
    }
   ],
   "source": [
    "f1_score(labels, train_predicted_labels)"
   ]
  },
  {
   "cell_type": "markdown",
   "metadata": {},
   "source": [
    "Mantenemos valores similares de precisión y exhaustividad."
   ]
  },
  {
   "cell_type": "code",
   "execution_count": 95,
   "metadata": {
    "scrolled": true
   },
   "outputs": [
    {
     "data": {
      "image/png": "[encoded data removed]",
      "text/plain": [
       "<Figure size 864x360 with 1 Axes>"
      ]
     },
     "metadata": {
      "needs_background": "light"
     },
     "output_type": "display_data"
    }
   ],
   "source": [
    "knn_clf_red = KNeighborsClassifier()\n",
    "knn_clf_red.fit(reduced_features, labels)\n",
    "\n",
    "plt.figure(figsize=(12, 5))\n",
    "\n",
    "plot_predictions_for_KNN(knn_clf_red, [-0.1, 1.1, -0.1, 1.1])\n",
    "\n",
    "plot_dataset(X, y, \"Longest Number\", \"Numbers\", 0.2)\n",
    "\n",
    "plt.show()"
   ]
  },
  {
   "cell_type": "markdown",
   "metadata": {},
   "source": [
    "En blanco se pueden ver las áreas de influencia de los no ataques, mientras que la zona negra es la zona de influencia de los ataques. Aunque comete algunos fallos, es más flexible que los modelos anteriores."
   ]
  },
  {
   "cell_type": "markdown",
   "metadata": {},
   "source": [
    "# Afinación de Modelos"
   ]
  },
  {
   "cell_type": "markdown",
   "metadata": {},
   "source": [
    "Los tres últimos modelos parecen dar un mejor resultado que los otros, por lo tanto, el objetivo es modificar sus hiperparámetros para encontrar los mejores valores posibles para predecir los ataques. Más tarde, estos modelos pueden ser utilizados individualmente o combinando varios (\"Ensemble Methods\").\n",
    "Se utilizarán los métodos de \"Randomized Search\" y \"Grid Search\" para explorar las distintas combinaciones de hiperparámetros.\n",
    "Para la puntuación, nos centraremos en el valor de exhaustividad (\"recall\") ya que nuestro objetivo es el de poder clasificar el mayor número de ataques posibles."
   ]
  },
  {
   "cell_type": "markdown",
   "metadata": {},
   "source": [
    "## Support Vector Machines (Gaussian RBF Kernel)"
   ]
  },
  {
   "cell_type": "markdown",
   "metadata": {},
   "source": [
    "### Randomized Search"
   ]
  },
  {
   "cell_type": "code",
   "execution_count": 96,
   "metadata": {
    "scrolled": true
   },
   "outputs": [
    {
     "data": {
      "text/plain": [
       "RandomizedSearchCV(cv=5, error_score='raise-deprecating',\n",
       "          estimator=SVC(C=1.0, cache_size=200, class_weight=None, coef0=0.0,\n",
       "  decision_function_shape='ovr', degree=3, gamma='auto_deprecated',\n",
       "  kernel='rbf', max_iter=-1, probability=False, random_state=13,\n",
       "  shrinking=True, tol=0.001, verbose=False),\n",
       "          fit_params=None, iid='warn', n_iter=10, n_jobs=None,\n",
       "          param_distributions={'gamma': <scipy.stats._distn_infrastructure.rv_frozen object at 0x7fd372d89b38>, 'C': <scipy.stats._distn_infrastructure.rv_frozen object at 0x7fd372d89160>},\n",
       "          pre_dispatch='2*n_jobs', random_state=13, refit=True,\n",
       "          return_train_score=False, scoring='recall', verbose=0)"
      ]
     },
     "execution_count": 96,
     "metadata": {},
     "output_type": "execute_result"
    }
   ],
   "source": [
    "svm_clf_rbf = SVC(kernel='rbf', random_state=13)\n",
    "param_distribs = {\n",
    "        'gamma': randint(low=1, high=100),\n",
    "        'C': randint(low=1, high=500),\n",
    "    }\n",
    "svm_clf_rbf_rnd_search = RandomizedSearchCV(svm_clf_rbf, param_distributions=param_distribs,\n",
    "                                n_iter=10, cv=5, scoring='recall', random_state=13, return_train_score=False)\n",
    "svm_clf_rbf_rnd_search.fit(features, labels)"
   ]
  },
  {
   "cell_type": "code",
   "execution_count": 97,
   "metadata": {},
   "outputs": [
    {
     "name": "stdout",
     "output_type": "stream",
     "text": [
      "0.897902341592 {'C': 339, 'gamma': 49}\n",
      "0.89277411431 {'C': 75, 'gamma': 17}\n",
      "0.918415306103 {'C': 231, 'gamma': 99}\n",
      "0.895571394645 {'C': 245, 'gamma': 26}\n",
      "0.903963014113 {'C': 237, 'gamma': 59}\n",
      "0.895571394645 {'C': 484, 'gamma': 27}\n",
      "0.915151747764 {'C': 245, 'gamma': 67}\n",
      "0.903963014113 {'C': 431, 'gamma': 55}\n",
      "0.916084193004 {'C': 230, 'gamma': 78}\n",
      "0.907692573536 {'C': 75, 'gamma': 74}\n"
     ]
    }
   ],
   "source": [
    "search_results = svm_clf_rbf_rnd_search.cv_results_\n",
    "for mean_score, params in zip(search_results['mean_test_score'], search_results['params']):\n",
    "    print(mean_score, params)"
   ]
  },
  {
   "cell_type": "markdown",
   "metadata": {},
   "source": [
    "Tenemos varios resultados con una exhaustividad alrededor de 0.91. A partir de estos datos, al realizar el \"Grid Search\" nos centraremos en los valores de \"C\" y \"gamma\" más bajos, para evitar el sobreajuste (\"overfitting\").\n",
    "Al usar el modelo anteriormente con los valores C=5 y gamma=5, obtuvimos una exahustividad de 0.79.\n",
    "En esta ocasión, con unos valores de C=75 y gamma=74, obtenemos una exhaustivdad de 0.91. Por lo tanto, se retocarán estos valores por si se puede encontrar un resultado mejor."
   ]
  },
  {
   "cell_type": "markdown",
   "metadata": {},
   "source": [
    "### Grid Search"
   ]
  },
  {
   "cell_type": "code",
   "execution_count": 98,
   "metadata": {},
   "outputs": [
    {
     "data": {
      "text/plain": [
       "GridSearchCV(cv=5, error_score='raise-deprecating',\n",
       "       estimator=SVC(C=1.0, cache_size=200, class_weight=None, coef0=0.0,\n",
       "  decision_function_shape='ovr', degree=3, gamma='auto_deprecated',\n",
       "  kernel='rbf', max_iter=-1, probability=False, random_state=13,\n",
       "  shrinking=True, tol=0.001, verbose=False),\n",
       "       fit_params=None, iid='warn', n_jobs=None,\n",
       "       param_grid={'C': [10, 20, 30, 50], 'gamma': [1, 10, 20, 50]},\n",
       "       pre_dispatch='2*n_jobs', refit=True, return_train_score=False,\n",
       "       scoring='recall', verbose=0)"
      ]
     },
     "execution_count": 98,
     "metadata": {},
     "output_type": "execute_result"
    }
   ],
   "source": [
    "param_grid = {'C': [10, 20, 30, 50], 'gamma': [1, 10, 20, 50]}\n",
    "svm_clf_rbf_grid_search = GridSearchCV(svm_clf_rbf, param_grid, cv=5, scoring='recall', return_train_score=False)\n",
    "svm_clf_rbf_grid_search.fit(features, labels)"
   ]
  },
  {
   "cell_type": "code",
   "execution_count": 99,
   "metadata": {},
   "outputs": [
    {
     "name": "stdout",
     "output_type": "stream",
     "text": [
      "0.781818281509 {'C': 10, 'gamma': 1}\n",
      "0.765036094869 {'C': 10, 'gamma': 10}\n",
      "0.784616004916 {'C': 10, 'gamma': 20}\n",
      "0.893706448782 {'C': 10, 'gamma': 50}\n",
      "0.789277677274 {'C': 20, 'gamma': 1}\n",
      "0.772960882493 {'C': 20, 'gamma': 10}\n",
      "0.866201197269 {'C': 20, 'gamma': 20}\n",
      "0.896037561881 {'C': 20, 'gamma': 50}\n",
      "0.789277677274 {'C': 30, 'gamma': 1}\n",
      "0.772960882493 {'C': 30, 'gamma': 10}\n",
      "0.889044499504 {'C': 30, 'gamma': 20}\n",
      "0.896037561881 {'C': 30, 'gamma': 50}\n",
      "0.790676234366 {'C': 50, 'gamma': 1}\n",
      "0.77995394487 {'C': 50, 'gamma': 10}\n",
      "0.89277411431 {'C': 50, 'gamma': 20}\n",
      "0.896037561881 {'C': 50, 'gamma': 50}\n"
     ]
    }
   ],
   "source": [
    "search_results = svm_clf_rbf_grid_search.cv_results_\n",
    "for mean_score, params in zip(search_results['mean_test_score'], search_results['params']):\n",
    "    print(mean_score, params)"
   ]
  },
  {
   "cell_type": "markdown",
   "metadata": {},
   "source": [
    "Los valores de C=10 y gamma=50 parecen dar un resultado aceptable de exhaustividad con 0.89. Es preferible escoger estos valores más bajos, comprobaremos más adelante si son lo suficiente bajos para que no sobreajusten el modelo."
   ]
  },
  {
   "cell_type": "markdown",
   "metadata": {},
   "source": [
    "## Decision Trees"
   ]
  },
  {
   "cell_type": "markdown",
   "metadata": {},
   "source": [
    "### Randomized Search"
   ]
  },
  {
   "cell_type": "code",
   "execution_count": 100,
   "metadata": {
    "scrolled": true
   },
   "outputs": [
    {
     "data": {
      "text/plain": [
       "RandomizedSearchCV(cv=5, error_score='raise-deprecating',\n",
       "          estimator=DecisionTreeClassifier(class_weight=None, criterion='gini', max_depth=None,\n",
       "            max_features=None, max_leaf_nodes=None,\n",
       "            min_impurity_decrease=0.0, min_impurity_split=None,\n",
       "            min_samples_leaf=1, min_samples_split=2,\n",
       "            min_weight_fraction_leaf=0.0, presort=False, random_state=13,\n",
       "            splitter='best'),\n",
       "          fit_params=None, iid='warn', n_iter=10, n_jobs=None,\n",
       "          param_distributions={'max_depth': <scipy.stats._distn_infrastructure.rv_frozen object at 0x7fd372e74160>, 'min_samples_split': <scipy.stats._distn_infrastructure.rv_frozen object at 0x7fd372e6be80>, 'min_samples_leaf': <scipy.stats._distn_infrastructure.rv_frozen object at 0x7fd372d80e10>},\n",
       "          pre_dispatch='2*n_jobs', random_state=13, refit=True,\n",
       "          return_train_score=False, scoring='recall', verbose=0)"
      ]
     },
     "execution_count": 100,
     "metadata": {},
     "output_type": "execute_result"
    }
   ],
   "source": [
    "param_distribs = {\n",
    "        'max_depth': randint(low=5, high=10),\n",
    "        'min_samples_split': randint(low=12, high=25),\n",
    "        'min_samples_leaf': randint(low=3, high=8)\n",
    "    }\n",
    "tree_clf_rnd_search = RandomizedSearchCV(tree_clf, param_distributions=param_distribs,\n",
    "                                n_iter=10, cv=5, scoring='recall', random_state=13, return_train_score=False)\n",
    "tree_clf_rnd_search.fit(features, labels)"
   ]
  },
  {
   "cell_type": "code",
   "execution_count": 101,
   "metadata": {},
   "outputs": [
    {
     "name": "stdout",
     "output_type": "stream",
     "text": [
      "0.906294071828 {'max_depth': 7, 'min_samples_leaf': 3, 'min_samples_split': 22}\n",
      "0.720746385972 {'max_depth': 5, 'min_samples_leaf': 5, 'min_samples_split': 16}\n",
      "0.862937528163 {'max_depth': 6, 'min_samples_leaf': 7, 'min_samples_split': 22}\n",
      "0.910489798486 {'max_depth': 8, 'min_samples_leaf': 5, 'min_samples_split': 16}\n",
      "0.904429181349 {'max_depth': 7, 'min_samples_leaf': 5, 'min_samples_split': 21}\n",
      "0.906293794908 {'max_depth': 8, 'min_samples_leaf': 7, 'min_samples_split': 14}\n",
      "0.720746385972 {'max_depth': 5, 'min_samples_leaf': 6, 'min_samples_split': 17}\n",
      "0.909557353247 {'max_depth': 8, 'min_samples_leaf': 6, 'min_samples_split': 18}\n",
      "0.910489798486 {'max_depth': 8, 'min_samples_leaf': 4, 'min_samples_split': 14}\n",
      "0.720746385972 {'max_depth': 5, 'min_samples_leaf': 7, 'min_samples_split': 23}\n"
     ]
    }
   ],
   "source": [
    "search_results = tree_clf_rnd_search.cv_results_\n",
    "for mean_score, params in zip(search_results['mean_test_score'], search_results['params']):\n",
    "    print(mean_score, params)"
   ]
  },
  {
   "cell_type": "markdown",
   "metadata": {},
   "source": [
    "Al añadir estos parámetros al árbol de decisión nos encontramos con valores más bajos de exahustividad que cuando el modelo no tenía parámetros. Es muy probable que el modelo sin parámetros estuviera sobreajustado, debido al propio funcionamiento del modelo. Si un árbol de decisión se deja sin restricciones, éste tenderá a ajustarse a los datos, adaptándose a ellos de forma muy cercana. Por lo tanto, hay muchas posibilidades de que un árbol de decisión sin restricciones estará sobreajustado.\n",
    "Debido a esto, añadiremos algunos parámetros a nuestro árbol para que pueda generalizar más con nuevos conjuntos de datos."
   ]
  },
  {
   "cell_type": "markdown",
   "metadata": {},
   "source": [
    "### Grid Search"
   ]
  },
  {
   "cell_type": "code",
   "execution_count": 102,
   "metadata": {},
   "outputs": [
    {
     "data": {
      "text/plain": [
       "GridSearchCV(cv=5, error_score='raise-deprecating',\n",
       "       estimator=DecisionTreeClassifier(class_weight=None, criterion='gini', max_depth=None,\n",
       "            max_features=None, max_leaf_nodes=None,\n",
       "            min_impurity_decrease=0.0, min_impurity_split=None,\n",
       "            min_samples_leaf=1, min_samples_split=2,\n",
       "            min_weight_fraction_leaf=0.0, presort=False, random_state=13,\n",
       "            splitter='best'),\n",
       "       fit_params=None, iid='warn', n_jobs=None,\n",
       "       param_grid={'max_depth': [7], 'min_samples_leaf': [2, 4, 5], 'min_samples_split': [12, 14, 18]},\n",
       "       pre_dispatch='2*n_jobs', refit=True, return_train_score=False,\n",
       "       scoring='recall', verbose=0)"
      ]
     },
     "execution_count": 102,
     "metadata": {},
     "output_type": "execute_result"
    }
   ],
   "source": [
    "param_grid = {'max_depth': [7], 'min_samples_leaf': [2, 4, 5], 'min_samples_split': [12, 14, 18]}\n",
    "tree_clf_grid_search = GridSearchCV(tree_clf, param_grid, cv=5, scoring='recall', return_train_score=False)\n",
    "tree_clf_grid_search.fit(features, labels)"
   ]
  },
  {
   "cell_type": "code",
   "execution_count": 103,
   "metadata": {},
   "outputs": [
    {
     "name": "stdout",
     "output_type": "stream",
     "text": [
      "0.906294071828 {'max_depth': 7, 'min_samples_leaf': 2, 'min_samples_split': 12}\n",
      "0.906294071828 {'max_depth': 7, 'min_samples_leaf': 2, 'min_samples_split': 14}\n",
      "0.906294071828 {'max_depth': 7, 'min_samples_leaf': 2, 'min_samples_split': 18}\n",
      "0.904429181349 {'max_depth': 7, 'min_samples_leaf': 4, 'min_samples_split': 12}\n",
      "0.904429181349 {'max_depth': 7, 'min_samples_leaf': 4, 'min_samples_split': 14}\n",
      "0.904429181349 {'max_depth': 7, 'min_samples_leaf': 4, 'min_samples_split': 18}\n",
      "0.904429181349 {'max_depth': 7, 'min_samples_leaf': 5, 'min_samples_split': 12}\n",
      "0.904429181349 {'max_depth': 7, 'min_samples_leaf': 5, 'min_samples_split': 14}\n",
      "0.904429181349 {'max_depth': 7, 'min_samples_leaf': 5, 'min_samples_split': 18}\n"
     ]
    }
   ],
   "source": [
    "search_results = tree_clf_grid_search.cv_results_\n",
    "for mean_score, params in zip(search_results['mean_test_score'], search_results['params']):\n",
    "    print(mean_score, params)"
   ]
  },
  {
   "cell_type": "markdown",
   "metadata": {},
   "source": [
    "El resultado son valores bastante similares de exahustividad. Para que el árbol de decisión generalice lo máximo posible, trataremos de maximizar los parámetros \"min_\\*\" y minimizar los parámetros \"max_\\*\"."
   ]
  },
  {
   "cell_type": "markdown",
   "metadata": {},
   "source": [
    "## K-Nearest-Neighbors"
   ]
  },
  {
   "cell_type": "markdown",
   "metadata": {},
   "source": [
    "### Randomized Search"
   ]
  },
  {
   "cell_type": "code",
   "execution_count": 104,
   "metadata": {},
   "outputs": [
    {
     "data": {
      "text/plain": [
       "RandomizedSearchCV(cv=5, error_score='raise-deprecating',\n",
       "          estimator=KNeighborsClassifier(algorithm='auto', leaf_size=30, metric='minkowski',\n",
       "           metric_params=None, n_jobs=None, n_neighbors=5, p=2,\n",
       "           weights='uniform'),\n",
       "          fit_params=None, iid='warn', n_iter=5, n_jobs=None,\n",
       "          param_distributions={'n_neighbors': <scipy.stats._distn_infrastructure.rv_frozen object at 0x7fd372dda630>, 'weights': ['distance']},\n",
       "          pre_dispatch='2*n_jobs', random_state=13, refit=True,\n",
       "          return_train_score=False, scoring='recall', verbose=0)"
      ]
     },
     "execution_count": 104,
     "metadata": {},
     "output_type": "execute_result"
    }
   ],
   "source": [
    "param_distribs = {\n",
    "        'n_neighbors': randint(low=1, high=50),\n",
    "        'weights': ['distance']\n",
    "    }\n",
    "knn_clf_rnd_search = RandomizedSearchCV(knn_clf, param_distributions=param_distribs,\n",
    "                                n_iter=5, cv=5, scoring='recall', random_state=13, return_train_score=False)\n",
    "knn_clf_rnd_search.fit(features, labels)"
   ]
  },
  {
   "cell_type": "code",
   "execution_count": 105,
   "metadata": {},
   "outputs": [
    {
     "name": "stdout",
     "output_type": "stream",
     "text": [
      "0.919347640575 {'n_neighbors': 19, 'weights': 'distance'}\n",
      "0.917482860863 {'n_neighbors': 49, 'weights': 'distance'}\n",
      "0.919813863194 {'n_neighbors': 11, 'weights': 'distance'}\n",
      "0.919347640575 {'n_neighbors': 17, 'weights': 'distance'}\n",
      "0.917482860863 {'n_neighbors': 39, 'weights': 'distance'}\n"
     ]
    }
   ],
   "source": [
    "search_results = knn_clf_rnd_search.cv_results_\n",
    "for mean_score, params in zip(search_results['mean_test_score'], search_results['params']):\n",
    "    print(mean_score, params)"
   ]
  },
  {
   "cell_type": "markdown",
   "metadata": {},
   "source": [
    "Usando el parámetro \"distance\" cambiamos el peso usado en la predicción. El peso por defecto es uniforme, por lo que cada vecino tiene el mismo peso. Al hacer este cambio, el peso de un vecino es calculado con la inversa de su distancia. Por lo tanto, los vecinos más cercanos tendrán más peso."
   ]
  },
  {
   "cell_type": "markdown",
   "metadata": {},
   "source": [
    "### Grid Search"
   ]
  },
  {
   "cell_type": "code",
   "execution_count": 106,
   "metadata": {},
   "outputs": [
    {
     "data": {
      "text/plain": [
       "GridSearchCV(cv=5, error_score='raise-deprecating',\n",
       "       estimator=KNeighborsClassifier(algorithm='auto', leaf_size=30, metric='minkowski',\n",
       "           metric_params=None, n_jobs=None, n_neighbors=5, p=2,\n",
       "           weights='uniform'),\n",
       "       fit_params=None, iid='warn', n_jobs=None,\n",
       "       param_grid={'n_neighbors': [3, 7, 15], 'weights': ['uniform', 'distance']},\n",
       "       pre_dispatch='2*n_jobs', refit=True, return_train_score=False,\n",
       "       scoring='recall', verbose=0)"
      ]
     },
     "execution_count": 106,
     "metadata": {},
     "output_type": "execute_result"
    }
   ],
   "source": [
    "param_grid = {'n_neighbors': [3, 7, 15], 'weights': ['uniform', 'distance']}\n",
    "knn_clf_grid_search = GridSearchCV(knn_clf, param_grid, cv=5, scoring='recall', return_train_score=False)\n",
    "knn_clf_grid_search.fit(features, labels)"
   ]
  },
  {
   "cell_type": "code",
   "execution_count": 107,
   "metadata": {},
   "outputs": [
    {
     "name": "stdout",
     "output_type": "stream",
     "text": [
      "0.919813863194 {'n_neighbors': 3, 'weights': 'uniform'}\n",
      "0.919813863194 {'n_neighbors': 3, 'weights': 'distance'}\n",
      "0.919813863194 {'n_neighbors': 7, 'weights': 'uniform'}\n",
      "0.919813863194 {'n_neighbors': 7, 'weights': 'distance'}\n",
      "0.913753301441 {'n_neighbors': 15, 'weights': 'uniform'}\n",
      "0.919347640575 {'n_neighbors': 15, 'weights': 'distance'}\n"
     ]
    }
   ],
   "source": [
    "search_results = knn_clf_grid_search.cv_results_\n",
    "for mean_score, params in zip(search_results['mean_test_score'], search_results['params']):\n",
    "    print(mean_score, params)"
   ]
  },
  {
   "cell_type": "markdown",
   "metadata": {},
   "source": [
    "No parece haber una gran variación en la exhaustividad, trataremos de adoptar un valor de número de vecinos intermedio para evitar el sobreajuste o el subajuste."
   ]
  },
  {
   "cell_type": "markdown",
   "metadata": {},
   "source": [
    "# Ensemble Learning"
   ]
  },
  {
   "cell_type": "markdown",
   "metadata": {},
   "source": [
    "Debido a que ya hemos estrechado nuestras opciones con respecto a qué modelos usar y hemos ajustado los modelos más prometedores, ahora podemos probar a combinar varios modelos para ver si al ser usados conjuntamente, aumenta su rendimiento."
   ]
  },
  {
   "cell_type": "markdown",
   "metadata": {},
   "source": [
    "## Modelos Elegidos"
   ]
  },
  {
   "cell_type": "markdown",
   "metadata": {},
   "source": [
    "Elegiremos los modelos con los siguientes parámetros:\n",
    "- Support Vector Machines (Gaussian RBF Kernel): {'C': 10, 'gamma': 50}. Exhaustividad: 0.89.\n",
    "- Decision Trees: {'max_depth': 7, 'min_samples_leaf': 4, 'min_samples_split': 14}. Exhaustividad: 0.90.\n",
    "- K-Nearest-Neighbors: parámetros por defecto ({'n_neighbors': 5, 'weights': 'uniform'}). Exhaustividad: 0.91."
   ]
  },
  {
   "cell_type": "code",
   "execution_count": 108,
   "metadata": {},
   "outputs": [
    {
     "data": {
      "text/plain": [
       "SVC(C=10, cache_size=200, class_weight=None, coef0=0.0,\n",
       "  decision_function_shape='ovr', degree=3, gamma=50, kernel='rbf',\n",
       "  max_iter=-1, probability=False, random_state=13, shrinking=True,\n",
       "  tol=0.001, verbose=False)"
      ]
     },
     "execution_count": 108,
     "metadata": {},
     "output_type": "execute_result"
    }
   ],
   "source": [
    "svm_clf_rbf_tuned = SVC(kernel='rbf', random_state=13, gamma=50, C=10)\n",
    "svm_clf_rbf_tuned.fit(features, labels)"
   ]
  },
  {
   "cell_type": "code",
   "execution_count": 109,
   "metadata": {},
   "outputs": [
    {
     "data": {
      "text/plain": [
       "DecisionTreeClassifier(class_weight=None, criterion='gini', max_depth=7,\n",
       "            max_features=None, max_leaf_nodes=None,\n",
       "            min_impurity_decrease=0.0, min_impurity_split=None,\n",
       "            min_samples_leaf=4, min_samples_split=14,\n",
       "            min_weight_fraction_leaf=0.0, presort=False, random_state=13,\n",
       "            splitter='best')"
      ]
     },
     "execution_count": 109,
     "metadata": {},
     "output_type": "execute_result"
    }
   ],
   "source": [
    "tree_clf_tuned = DecisionTreeClassifier(random_state=13, max_depth=7, min_samples_leaf=4, min_samples_split=14)\n",
    "tree_clf_tuned.fit(features, labels)"
   ]
  },
  {
   "cell_type": "code",
   "execution_count": 110,
   "metadata": {
    "scrolled": false
   },
   "outputs": [
    {
     "data": {
      "text/plain": [
       "KNeighborsClassifier(algorithm='auto', leaf_size=30, metric='minkowski',\n",
       "           metric_params=None, n_jobs=None, n_neighbors=5, p=2,\n",
       "           weights='uniform')"
      ]
     },
     "execution_count": 110,
     "metadata": {},
     "output_type": "execute_result"
    }
   ],
   "source": [
    "knn_clf"
   ]
  },
  {
   "cell_type": "markdown",
   "metadata": {},
   "source": [
    "## Voting Classifiers"
   ]
  },
  {
   "cell_type": "markdown",
   "metadata": {},
   "source": [
    "Usa la técnica de agregar las predicciones de diferentes clasificadores seleccionando la clase que obtiene más votos."
   ]
  },
  {
   "cell_type": "markdown",
   "metadata": {},
   "source": [
    "### SVM + Decision Tree + KNN"
   ]
  },
  {
   "cell_type": "code",
   "execution_count": 111,
   "metadata": {},
   "outputs": [
    {
     "data": {
      "text/plain": [
       "VotingClassifier(estimators=[('svm', SVC(C=10, cache_size=200, class_weight=None, coef0=0.0,\n",
       "  decision_function_shape='ovr', degree=3, gamma=50, kernel='rbf',\n",
       "  max_iter=-1, probability=False, random_state=13, shrinking=True,\n",
       "  tol=0.001, verbose=False)), ('dt', DecisionTreeClassifier(class_weight=None, criterion='...ki',\n",
       "           metric_params=None, n_jobs=None, n_neighbors=5, p=2,\n",
       "           weights='uniform'))],\n",
       "         flatten_transform=None, n_jobs=None, voting='hard', weights=None)"
      ]
     },
     "execution_count": 111,
     "metadata": {},
     "output_type": "execute_result"
    }
   ],
   "source": [
    "voting_clf_s_d_k = VotingClassifier(\n",
    "    estimators=[('svm', svm_clf_rbf_tuned), ('dt', tree_clf_tuned), ('knn', knn_clf)], voting='hard')\n",
    "voting_clf_s_d_k.fit(features, labels)"
   ]
  },
  {
   "cell_type": "markdown",
   "metadata": {},
   "source": [
    "### Medida de Rendimiento"
   ]
  },
  {
   "cell_type": "markdown",
   "metadata": {},
   "source": [
    "Evaluación del rendimiento usando una matriz de confusión."
   ]
  },
  {
   "cell_type": "code",
   "execution_count": 112,
   "metadata": {},
   "outputs": [],
   "source": [
    "train_predicted_labels = cross_val_predict(voting_clf_s_d_k, features, labels, cv=5)"
   ]
  },
  {
   "cell_type": "code",
   "execution_count": 113,
   "metadata": {},
   "outputs": [
    {
     "data": {
      "text/plain": [
       "array([[39900,    43],\n",
       "       [  200,  1945]])"
      ]
     },
     "execution_count": 113,
     "metadata": {},
     "output_type": "execute_result"
    }
   ],
   "source": [
    "confusion_matrix(labels, train_predicted_labels)"
   ]
  },
  {
   "cell_type": "markdown",
   "metadata": {},
   "source": [
    "Evaluación del rendimiento usando Precisión y Exhaustividad (Precision and Recall)."
   ]
  },
  {
   "cell_type": "code",
   "execution_count": 114,
   "metadata": {},
   "outputs": [
    {
     "data": {
      "text/plain": [
       "0.9783702213279678"
      ]
     },
     "execution_count": 114,
     "metadata": {},
     "output_type": "execute_result"
    }
   ],
   "source": [
    "precision_score(labels, train_predicted_labels)"
   ]
  },
  {
   "cell_type": "code",
   "execution_count": 115,
   "metadata": {},
   "outputs": [
    {
     "data": {
      "text/plain": [
       "0.90675990675990681"
      ]
     },
     "execution_count": 115,
     "metadata": {},
     "output_type": "execute_result"
    }
   ],
   "source": [
    "recall_score(labels, train_predicted_labels)"
   ]
  },
  {
   "cell_type": "code",
   "execution_count": 116,
   "metadata": {
    "scrolled": false
   },
   "outputs": [
    {
     "data": {
      "text/plain": [
       "0.94120493588192589"
      ]
     },
     "execution_count": 116,
     "metadata": {},
     "output_type": "execute_result"
    }
   ],
   "source": [
    "f1_score(labels, train_predicted_labels)"
   ]
  },
  {
   "cell_type": "markdown",
   "metadata": {},
   "source": [
    "### Decision Tree + KNN"
   ]
  },
  {
   "cell_type": "code",
   "execution_count": 117,
   "metadata": {},
   "outputs": [
    {
     "data": {
      "text/plain": [
       "VotingClassifier(estimators=[('dt', DecisionTreeClassifier(class_weight=None, criterion='gini', max_depth=7,\n",
       "            max_features=None, max_leaf_nodes=None,\n",
       "            min_impurity_decrease=0.0, min_impurity_split=None,\n",
       "            min_samples_leaf=4, min_samples_split=14,\n",
       "            min_weight_fraction_leaf=0...ki',\n",
       "           metric_params=None, n_jobs=None, n_neighbors=5, p=2,\n",
       "           weights='uniform'))],\n",
       "         flatten_transform=None, n_jobs=None, voting='soft', weights=None)"
      ]
     },
     "execution_count": 117,
     "metadata": {},
     "output_type": "execute_result"
    }
   ],
   "source": [
    "voting_clf_d_k = VotingClassifier(\n",
    "    estimators=[('dt', tree_clf_tuned), ('knn', knn_clf)], voting='soft')\n",
    "voting_clf_d_k.fit(features, labels)"
   ]
  },
  {
   "cell_type": "markdown",
   "metadata": {},
   "source": [
    "### Medida de Rendimiento"
   ]
  },
  {
   "cell_type": "markdown",
   "metadata": {},
   "source": [
    "Evaluación del rendimiento usando una matriz de confusión."
   ]
  },
  {
   "cell_type": "code",
   "execution_count": 118,
   "metadata": {},
   "outputs": [],
   "source": [
    "train_predicted_labels = cross_val_predict(voting_clf_d_k, features, labels, cv=5)"
   ]
  },
  {
   "cell_type": "code",
   "execution_count": 119,
   "metadata": {},
   "outputs": [
    {
     "data": {
      "text/plain": [
       "array([[39890,    53],\n",
       "       [  176,  1969]])"
      ]
     },
     "execution_count": 119,
     "metadata": {},
     "output_type": "execute_result"
    }
   ],
   "source": [
    "confusion_matrix(labels, train_predicted_labels)"
   ]
  },
  {
   "cell_type": "markdown",
   "metadata": {},
   "source": [
    "Evaluación del rendimiento usando Precisión y Exhaustividad (Precision and Recall)."
   ]
  },
  {
   "cell_type": "code",
   "execution_count": 120,
   "metadata": {},
   "outputs": [
    {
     "data": {
      "text/plain": [
       "0.97378832838773488"
      ]
     },
     "execution_count": 120,
     "metadata": {},
     "output_type": "execute_result"
    }
   ],
   "source": [
    "precision_score(labels, train_predicted_labels)"
   ]
  },
  {
   "cell_type": "code",
   "execution_count": 121,
   "metadata": {},
   "outputs": [
    {
     "data": {
      "text/plain": [
       "0.91794871794871791"
      ]
     },
     "execution_count": 121,
     "metadata": {},
     "output_type": "execute_result"
    }
   ],
   "source": [
    "recall_score(labels, train_predicted_labels)"
   ]
  },
  {
   "cell_type": "code",
   "execution_count": 122,
   "metadata": {
    "scrolled": false
   },
   "outputs": [
    {
     "data": {
      "text/plain": [
       "0.94504439644828409"
      ]
     },
     "execution_count": 122,
     "metadata": {},
     "output_type": "execute_result"
    }
   ],
   "source": [
    "f1_score(labels, train_predicted_labels)"
   ]
  },
  {
   "cell_type": "markdown",
   "metadata": {},
   "source": [
    "## Random Forests"
   ]
  },
  {
   "cell_type": "markdown",
   "metadata": {},
   "source": [
    "La técnica anterior se sirve de varios algoritmos para realizar predicciones, utilizando el mismo conjunto de datos de aprendizaje. Otras técnicas de \"ensemble learning\" son \"bagging\" y \"pasting\". Éstas consisten en entrenar el mismo algoritmo pero con distintos subconjuntos de los datos de entrenamiento.\n",
    "\n",
    "\"Bagging\" y \"pasting\" permiten que las instancias de entrenamiento sean usadas varias veces por diferentes predictores, pero solo \"bagging\" permite que una instancia sea usada varias veces por el mismo predictor. Son usadas mayormente con árboles de decisión, aunque se pueden usar con cualquier tipo de modelo. En este caso usaremos árboles de decisión creando el enfoque llamado \"random forests\"."
   ]
  },
  {
   "cell_type": "code",
   "execution_count": 123,
   "metadata": {},
   "outputs": [
    {
     "data": {
      "text/plain": [
       "RandomForestClassifier(bootstrap=True, class_weight=None, criterion='gini',\n",
       "            max_depth=None, max_features='auto', max_leaf_nodes=16,\n",
       "            min_impurity_decrease=0.0, min_impurity_split=None,\n",
       "            min_samples_leaf=1, min_samples_split=2,\n",
       "            min_weight_fraction_leaf=0.0, n_estimators=500, n_jobs=-1,\n",
       "            oob_score=False, random_state=13, verbose=0, warm_start=False)"
      ]
     },
     "execution_count": 123,
     "metadata": {},
     "output_type": "execute_result"
    }
   ],
   "source": [
    "rnd_clf = RandomForestClassifier(n_estimators=500, max_leaf_nodes=16, n_jobs=-1, random_state=13)\n",
    "rnd_clf.fit(features, labels)"
   ]
  },
  {
   "cell_type": "markdown",
   "metadata": {},
   "source": [
    "### Medida de Rendimiento"
   ]
  },
  {
   "cell_type": "markdown",
   "metadata": {},
   "source": [
    "Evaluación del rendimiento usando una matriz de confusión."
   ]
  },
  {
   "cell_type": "code",
   "execution_count": 124,
   "metadata": {},
   "outputs": [],
   "source": [
    "train_predicted_labels = cross_val_predict(rnd_clf, features, labels, cv=5)"
   ]
  },
  {
   "cell_type": "code",
   "execution_count": 125,
   "metadata": {},
   "outputs": [
    {
     "data": {
      "text/plain": [
       "array([[39895,    48],\n",
       "       [  203,  1942]])"
      ]
     },
     "execution_count": 125,
     "metadata": {},
     "output_type": "execute_result"
    }
   ],
   "source": [
    "confusion_matrix(labels, train_predicted_labels)"
   ]
  },
  {
   "cell_type": "markdown",
   "metadata": {},
   "source": [
    "Evaluación del rendimiento usando Precisión y Exhaustividad (Precision and Recall)."
   ]
  },
  {
   "cell_type": "code",
   "execution_count": 126,
   "metadata": {},
   "outputs": [
    {
     "data": {
      "text/plain": [
       "0.97587939698492465"
      ]
     },
     "execution_count": 126,
     "metadata": {},
     "output_type": "execute_result"
    }
   ],
   "source": [
    "precision_score(labels, train_predicted_labels)"
   ]
  },
  {
   "cell_type": "code",
   "execution_count": 127,
   "metadata": {},
   "outputs": [
    {
     "data": {
      "text/plain": [
       "0.90536130536130532"
      ]
     },
     "execution_count": 127,
     "metadata": {},
     "output_type": "execute_result"
    }
   ],
   "source": [
    "recall_score(labels, train_predicted_labels)"
   ]
  },
  {
   "cell_type": "code",
   "execution_count": 128,
   "metadata": {
    "scrolled": false
   },
   "outputs": [
    {
     "data": {
      "text/plain": [
       "0.93929866989117283"
      ]
     },
     "execution_count": 128,
     "metadata": {},
     "output_type": "execute_result"
    }
   ],
   "source": [
    "f1_score(labels, train_predicted_labels)"
   ]
  },
  {
   "cell_type": "markdown",
   "metadata": {},
   "source": [
    "## Extremely Randomized Trees"
   ]
  },
  {
   "cell_type": "markdown",
   "metadata": {},
   "source": [
    "Una técnica muy similar a \"random forests\" pero añade más aleatoriedad ya que la elección de los umbrales para cada característica se realiza de forma aleatoria."
   ]
  },
  {
   "cell_type": "code",
   "execution_count": 129,
   "metadata": {},
   "outputs": [
    {
     "data": {
      "text/plain": [
       "ExtraTreesClassifier(bootstrap=False, class_weight=None, criterion='gini',\n",
       "           max_depth=None, max_features='auto', max_leaf_nodes=16,\n",
       "           min_impurity_decrease=0.0, min_impurity_split=None,\n",
       "           min_samples_leaf=1, min_samples_split=2,\n",
       "           min_weight_fraction_leaf=0.0, n_estimators=500, n_jobs=-1,\n",
       "           oob_score=False, random_state=13, verbose=0, warm_start=False)"
      ]
     },
     "execution_count": 129,
     "metadata": {},
     "output_type": "execute_result"
    }
   ],
   "source": [
    "extra_clf = ExtraTreesClassifier(n_estimators=500, max_leaf_nodes=16, n_jobs=-1, random_state=13)\n",
    "extra_clf.fit(features, labels)"
   ]
  },
  {
   "cell_type": "markdown",
   "metadata": {},
   "source": [
    "### Medida de Rendimiento"
   ]
  },
  {
   "cell_type": "markdown",
   "metadata": {},
   "source": [
    "Evaluación del rendimiento usando una matriz de confusión."
   ]
  },
  {
   "cell_type": "code",
   "execution_count": 130,
   "metadata": {},
   "outputs": [],
   "source": [
    "train_predicted_labels = cross_val_predict(extra_clf, features, labels, cv=5)"
   ]
  },
  {
   "cell_type": "code",
   "execution_count": 131,
   "metadata": {},
   "outputs": [
    {
     "data": {
      "text/plain": [
       "array([[39909,    34],\n",
       "       [  400,  1745]])"
      ]
     },
     "execution_count": 131,
     "metadata": {},
     "output_type": "execute_result"
    }
   ],
   "source": [
    "confusion_matrix(labels, train_predicted_labels)"
   ]
  },
  {
   "cell_type": "markdown",
   "metadata": {},
   "source": [
    "Evaluación del rendimiento usando Precisión y Exhaustividad (Precision and Recall)."
   ]
  },
  {
   "cell_type": "code",
   "execution_count": 132,
   "metadata": {},
   "outputs": [
    {
     "data": {
      "text/plain": [
       "0.98088813940415964"
      ]
     },
     "execution_count": 132,
     "metadata": {},
     "output_type": "execute_result"
    }
   ],
   "source": [
    "precision_score(labels, train_predicted_labels)"
   ]
  },
  {
   "cell_type": "code",
   "execution_count": 133,
   "metadata": {},
   "outputs": [
    {
     "data": {
      "text/plain": [
       "0.81351981351981351"
      ]
     },
     "execution_count": 133,
     "metadata": {},
     "output_type": "execute_result"
    }
   ],
   "source": [
    "recall_score(labels, train_predicted_labels)"
   ]
  },
  {
   "cell_type": "code",
   "execution_count": 134,
   "metadata": {
    "scrolled": false
   },
   "outputs": [
    {
     "data": {
      "text/plain": [
       "0.88939857288481139"
      ]
     },
     "execution_count": 134,
     "metadata": {},
     "output_type": "execute_result"
    }
   ],
   "source": [
    "f1_score(labels, train_predicted_labels)"
   ]
  },
  {
   "cell_type": "markdown",
   "metadata": {},
   "source": [
    "# Evaluar los Modelos con el \"Test Set\""
   ]
  },
  {
   "cell_type": "markdown",
   "metadata": {},
   "source": [
    "Después de probar varios modelos, seleccionar los mejores, ajustarlos y comprobar cómo funcionan cuando son combinados, podemos analizar su rendimiento usando el conjunto de datos que apartamos al principio como \"test set\". Los modelos nunca han visto esos datos, por lo tanto podemos ver como reaccionan con nuevos datos."
   ]
  },
  {
   "cell_type": "code",
   "execution_count": 135,
   "metadata": {},
   "outputs": [],
   "source": [
    "features_test = test_set.drop('attack', 1)"
   ]
  },
  {
   "cell_type": "code",
   "execution_count": 136,
   "metadata": {},
   "outputs": [],
   "source": [
    "labels_test = test_set['attack']"
   ]
  },
  {
   "cell_type": "markdown",
   "metadata": {},
   "source": [
    "## Support Vector Machines (Gaussian RBF Kernel)"
   ]
  },
  {
   "cell_type": "code",
   "execution_count": 137,
   "metadata": {},
   "outputs": [
    {
     "name": "stdout",
     "output_type": "stream",
     "text": [
      "Precision:  0.973737373737 \n",
      "Recall:  0.899253731343 \n",
      "F1:  0.935014548982 \n",
      "\n",
      " [[9973   13]\n",
      " [  54  482]]\n"
     ]
    }
   ],
   "source": [
    "final_precision, final_recall, final_f1, final_confusion_matrix = evaluate_model_with_precision_and_recall(\n",
    "    svm_clf_rbf_tuned, features_test, labels_test)\n",
    "print(\"Precision: \", final_precision, \"\\nRecall: \", final_recall, \"\\nF1: \", final_f1, \"\\n\\n\", final_confusion_matrix)"
   ]
  },
  {
   "cell_type": "markdown",
   "metadata": {},
   "source": [
    "## Decision Trees"
   ]
  },
  {
   "cell_type": "code",
   "execution_count": 138,
   "metadata": {},
   "outputs": [
    {
     "name": "stdout",
     "output_type": "stream",
     "text": [
      "Precision:  0.947674418605 \n",
      "Recall:  0.912313432836 \n",
      "F1:  0.929657794677 \n",
      "\n",
      " [[9959   27]\n",
      " [  47  489]]\n"
     ]
    }
   ],
   "source": [
    "final_precision, final_recall, final_f1, final_confusion_matrix = evaluate_model_with_precision_and_recall(\n",
    "    tree_clf_tuned, features_test, labels_test)\n",
    "print(\"Precision: \", final_precision, \"\\nRecall: \", final_recall, \"\\nF1: \", final_f1, \"\\n\\n\", final_confusion_matrix)"
   ]
  },
  {
   "cell_type": "markdown",
   "metadata": {},
   "source": [
    "## K-Nearest-Neighbors"
   ]
  },
  {
   "cell_type": "code",
   "execution_count": 139,
   "metadata": {
    "scrolled": true
   },
   "outputs": [
    {
     "name": "stdout",
     "output_type": "stream",
     "text": [
      "Precision:  0.974308300395 \n",
      "Recall:  0.919776119403 \n",
      "F1:  0.946257197697 \n",
      "\n",
      " [[9973   13]\n",
      " [  43  493]]\n"
     ]
    }
   ],
   "source": [
    "final_precision, final_recall, final_f1, final_confusion_matrix = evaluate_model_with_precision_and_recall(\n",
    "    knn_clf, features_test, labels_test)\n",
    "print(\"Precision: \", final_precision, \"\\nRecall: \", final_recall, \"\\nF1: \", final_f1, \"\\n\\n\", final_confusion_matrix)"
   ]
  },
  {
   "cell_type": "markdown",
   "metadata": {},
   "source": [
    "## SVM + Decision Tree + KNN"
   ]
  },
  {
   "cell_type": "code",
   "execution_count": 140,
   "metadata": {},
   "outputs": [
    {
     "name": "stdout",
     "output_type": "stream",
     "text": [
      "Precision:  0.974051896208 \n",
      "Recall:  0.910447761194 \n",
      "F1:  0.941176470588 \n",
      "\n",
      " [[9973   13]\n",
      " [  48  488]]\n"
     ]
    }
   ],
   "source": [
    "final_precision, final_recall, final_f1, final_confusion_matrix = evaluate_model_with_precision_and_recall(\n",
    "    voting_clf_s_d_k, features_test, labels_test)\n",
    "print(\"Precision: \", final_precision, \"\\nRecall: \", final_recall, \"\\nF1: \", final_f1, \"\\n\\n\", final_confusion_matrix)"
   ]
  },
  {
   "cell_type": "markdown",
   "metadata": {},
   "source": [
    "## Decision Tree + KNN"
   ]
  },
  {
   "cell_type": "code",
   "execution_count": 141,
   "metadata": {},
   "outputs": [
    {
     "name": "stdout",
     "output_type": "stream",
     "text": [
      "Precision:  0.959381044487 \n",
      "Recall:  0.925373134328 \n",
      "F1:  0.942070275404 \n",
      "\n",
      " [[9965   21]\n",
      " [  40  496]]\n"
     ]
    }
   ],
   "source": [
    "final_precision, final_recall, final_f1, final_confusion_matrix = evaluate_model_with_precision_and_recall(\n",
    "    voting_clf_d_k, features_test, labels_test)\n",
    "print(\"Precision: \", final_precision, \"\\nRecall: \", final_recall, \"\\nF1: \", final_f1, \"\\n\\n\", final_confusion_matrix)"
   ]
  },
  {
   "cell_type": "markdown",
   "metadata": {},
   "source": [
    "## Random Forests"
   ]
  },
  {
   "cell_type": "code",
   "execution_count": 142,
   "metadata": {},
   "outputs": [
    {
     "name": "stdout",
     "output_type": "stream",
     "text": [
      "Precision:  0.974 \n",
      "Recall:  0.908582089552 \n",
      "F1:  0.940154440154 \n",
      "\n",
      " [[9973   13]\n",
      " [  49  487]]\n"
     ]
    }
   ],
   "source": [
    "final_precision, final_recall, final_f1, final_confusion_matrix = evaluate_model_with_precision_and_recall(\n",
    "    rnd_clf, features_test, labels_test)\n",
    "print(\"Precision: \", final_precision, \"\\nRecall: \", final_recall, \"\\nF1: \", final_f1, \"\\n\\n\", final_confusion_matrix)"
   ]
  },
  {
   "cell_type": "markdown",
   "metadata": {},
   "source": [
    "## Extremely Randomized Trees"
   ]
  },
  {
   "cell_type": "code",
   "execution_count": 143,
   "metadata": {},
   "outputs": [
    {
     "name": "stdout",
     "output_type": "stream",
     "text": [
      "Precision:  0.972340425532 \n",
      "Recall:  0.852611940299 \n",
      "F1:  0.908548707753 \n",
      "\n",
      " [[9973   13]\n",
      " [  79  457]]\n"
     ]
    }
   ],
   "source": [
    "final_precision, final_recall, final_f1, final_confusion_matrix = evaluate_model_with_precision_and_recall(\n",
    "    extra_clf, features_test, labels_test)\n",
    "print(\"Precision: \", final_precision, \"\\nRecall: \", final_recall, \"\\nF1: \", final_f1, \"\\n\\n\", final_confusion_matrix)"
   ]
  },
  {
   "cell_type": "markdown",
   "metadata": {},
   "source": [
    "Hay varios modelos o combinaciones de modelos con resultados bastante buenos. Parece ser que el que mayor exhaustividad obtiene es la combinación de los dos modelos Decision Tree + KNN. Esta combinación obtiene una precisión muy alta también.\n",
    "\n",
    "Guardemos los mejores modelos para poder usarlos más tarde."
   ]
  },
  {
   "cell_type": "code",
   "execution_count": 144,
   "metadata": {},
   "outputs": [
    {
     "data": {
      "text/plain": [
       "['../models/extract_features_with_letters_and_numbers/decision_trees.pkl']"
      ]
     },
     "execution_count": 144,
     "metadata": {},
     "output_type": "execute_result"
    }
   ],
   "source": [
    "directory = '../models/extract_features_with_letters_and_numbers/'\n",
    "joblib.dump(voting_clf_d_k, directory + 'decision_trees+knn.pkl')\n",
    "joblib.dump(knn_clf, directory + 'k_nearest_neighbors.pkl')\n",
    "joblib.dump(tree_clf_tuned, directory + 'decision_trees.pkl')"
   ]
  }
 ],
 "metadata": {
  "kernelspec": {
   "display_name": "Python 3",
   "language": "python",
   "name": "python3"
  },
  "language_info": {
   "codemirror_mode": {
    "name": "ipython",
    "version": 3
   },
   "file_extension": ".py",
   "mimetype": "text/x-python",
   "name": "python",
   "nbconvert_exporter": "python",
   "pygments_lexer": "ipython3",
   "version": "3.6.9"
  }
 },
 "nbformat": 4,
 "nbformat_minor": 2
}
