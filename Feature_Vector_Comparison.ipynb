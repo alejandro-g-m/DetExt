{
 "cells": [
  {
   "cell_type": "code",
   "execution_count": 1,
   "metadata": {},
   "outputs": [],
   "source": [
    "from dns_attacks_detection import *"
   ]
  },
  {
   "cell_type": "markdown",
   "metadata": {},
   "source": [
    "El objetivo de este código es analizar diferentes modelos con tres vectores de características, para ver cómo varía el rendimiento entre ellos."
   ]
  },
  {
   "cell_type": "code",
   "execution_count": 2,
   "metadata": {
    "scrolled": false
   },
   "outputs": [
    {
     "name": "stdout",
     "output_type": "stream",
     "text": [
      "\u001b[1mextract_features_reduced\u001b[0m\n",
      "\u001b[4mSGDClassifier\u001b[0m\n",
      "precision  0\n",
      "recall     0\n",
      "f1         0\n",
      "\u001b[4mLogisticRegression\u001b[0m\n",
      "precision  0\n",
      "recall     0\n",
      "f1         0\n",
      "\u001b[4mSVC Poly\u001b[0m\n",
      "precision  0\n",
      "recall     0\n",
      "f1         0\n",
      "\u001b[4mSVC RBF\u001b[0m\n",
      "precision  0.627914\n",
      "recall     0.577622\n",
      "f1         0.597561\n",
      "\u001b[4mDecisionTreeClassifier\u001b[0m\n",
      "precision  0.976591\n",
      "recall     0.83683\n",
      "f1         0.901271\n",
      "\u001b[4mKNeighborsClassifier\u001b[0m\n",
      "precision  0.961603\n",
      "recall     0.843357\n",
      "f1         0.898217\n",
      "\n",
      "\n",
      "\u001b[1mextract_features_with_letters_and_numbers\u001b[0m\n",
      "\u001b[4mSGDClassifier\u001b[0m\n",
      "precision  0.826542\n",
      "recall     0.42704\n",
      "f1         0.562589\n",
      "\u001b[4mLogisticRegression\u001b[0m\n",
      "precision  0.812031\n",
      "recall     0.384149\n",
      "f1         0.521378\n",
      "\u001b[4mSVC Poly\u001b[0m\n",
      "precision  0.890943\n",
      "recall     0.701632\n",
      "f1         0.785026\n",
      "\u001b[4mSVC RBF\u001b[0m\n",
      "precision  0.909556\n",
      "recall     0.797203\n",
      "f1         0.84962\n",
      "\u001b[4mDecisionTreeClassifier\u001b[0m\n",
      "precision  0.978676\n",
      "recall     0.919347\n",
      "f1         0.948012\n",
      "\u001b[4mKNeighborsClassifier\u001b[0m\n",
      "precision  0.978683\n",
      "recall     0.919814\n",
      "f1         0.948261\n",
      "\n",
      "\n",
      "\u001b[1mextract_features_with_letter_counting\u001b[0m\n",
      "\u001b[4mSGDClassifier\u001b[0m\n",
      "precision  0.984714\n",
      "recall     0.321678\n",
      "f1         0.483957\n",
      "\u001b[4mLogisticRegression\u001b[0m\n",
      "precision  0.782252\n",
      "recall     0.37669\n",
      "f1         0.507628\n",
      "\u001b[4mSVC Poly\u001b[0m\n",
      "precision  0.992741\n",
      "recall     0.428438\n",
      "f1         0.597741\n",
      "\u001b[4mSVC RBF\u001b[0m\n",
      "precision  1\n",
      "recall     0.993007\n",
      "f1         0.996488\n",
      "\u001b[4mDecisionTreeClassifier\u001b[0m\n",
      "precision  1\n",
      "recall     0.982284\n",
      "f1         0.991053\n",
      "\u001b[4mKNeighborsClassifier\u001b[0m\n",
      "precision  0.998558\n",
      "recall     0.974359\n",
      "f1         0.986298\n",
      "\n",
      "\n"
     ]
    }
   ],
   "source": [
    "feature_vectors = [extract_features_reduced, extract_features_with_letters_and_numbers,\n",
    "                   extract_features_with_letter_counting]\n",
    "\n",
    "for vector in feature_vectors:\n",
    "    # Load feature vector\n",
    "    dns = create_feature_vector_from_log_file('3JUL.log', vector)\n",
    "    train_set, test_set = split_train_and_test_sets(dns, 'attack')\n",
    "    features = train_set.drop('attack', 1)\n",
    "    labels = train_set['attack']\n",
    "    # Initialise models\n",
    "    sgd_clf = SGDClassifier(max_iter=5, random_state=13)\n",
    "    log_reg_clf = LogisticRegression(random_state=13, solver='liblinear')\n",
    "    svm_clf_poly = SVC(kernel='poly', random_state=13, gamma='auto', degree=3, coef0=1, C=5)\n",
    "    svm_clf_rbf = SVC(kernel='rbf', random_state=13, gamma=5, C=5)\n",
    "    tree_clf = DecisionTreeClassifier(random_state=13)\n",
    "    knn_clf = KNeighborsClassifier()\n",
    "    # Set parameters for cross validation\n",
    "    models = [sgd_clf, log_reg_clf, svm_clf_poly, svm_clf_rbf, tree_clf, knn_clf]\n",
    "    names = ['SGDClassifier', 'LogisticRegression', 'SVC Poly', 'SVC RBF', 'DecisionTreeClassifier', 'KNeighborsClassifier']\n",
    "    scoring = ['precision', 'recall', 'f1']\n",
    "    # Evaluate models using cross validation\n",
    "    cv_results = cross_validate_models(models, features, labels, scoring, 5)\n",
    "    scores = get_cross_validate_scores(cv_results, names, scoring)    \n",
    "    # Print scores\n",
    "    print(print_scores(vector.__name__, scores))\n",
    "    print()"
   ]
  },
  {
   "cell_type": "markdown",
   "metadata": {},
   "source": [
    "Usando el vector de características que cuenta todas las letras y números (\"extract_features_with_letter_counting\") obtenemos valores de rendimiento bastante altos con tres modelos. Es un vector con muchas características comparado con los otros. Probemos el rendimiento de estos modelos con el \"test set\" y realizando algunos ajustes en sus parámetros."
   ]
  },
  {
   "cell_type": "code",
   "execution_count": 3,
   "metadata": {},
   "outputs": [],
   "source": [
    "dns = create_feature_vector_from_log_file('3JUL.log', extract_features_with_letter_counting)\n",
    "train_set, test_set = split_train_and_test_sets(dns, 'attack')\n",
    "features = train_set.drop('attack', 1)\n",
    "labels = train_set['attack']\n",
    "features_test = test_set.drop('attack', 1)\n",
    "labels_test = test_set['attack']"
   ]
  },
  {
   "cell_type": "markdown",
   "metadata": {},
   "source": [
    "## Support Vector Machines (Gaussian RBF Kernel)"
   ]
  },
  {
   "cell_type": "code",
   "execution_count": 4,
   "metadata": {},
   "outputs": [
    {
     "data": {
      "text/plain": [
       "SVC(C=5, cache_size=200, class_weight=None, coef0=0.0,\n",
       "  decision_function_shape='ovr', degree=3, gamma=5, kernel='rbf',\n",
       "  max_iter=-1, probability=False, random_state=13, shrinking=True,\n",
       "  tol=0.001, verbose=False)"
      ]
     },
     "execution_count": 4,
     "metadata": {},
     "output_type": "execute_result"
    }
   ],
   "source": [
    "svm_clf_rbf = SVC(kernel='rbf', random_state=13, gamma=5, C=5)\n",
    "svm_clf_rbf.fit(features, labels)"
   ]
  },
  {
   "cell_type": "markdown",
   "metadata": {},
   "source": [
    "### Evaluación con el \"Test Set\""
   ]
  },
  {
   "cell_type": "code",
   "execution_count": 5,
   "metadata": {},
   "outputs": [
    {
     "name": "stdout",
     "output_type": "stream",
     "text": [
      "Precision:  1.0 \n",
      "Recall:  1.0 \n",
      "F1:  1.0\n"
     ]
    }
   ],
   "source": [
    "final_precision, final_recall, final_f1 = evaluate_model_with_precision_and_recall(\n",
    "    svm_clf_rbf, features_test, labels_test)\n",
    "print(\"Precision: \", final_precision, \"\\nRecall: \", final_recall, \"\\nF1: \", final_f1)"
   ]
  },
  {
   "cell_type": "markdown",
   "metadata": {},
   "source": [
    "### Modificando algunos parámetros"
   ]
  },
  {
   "cell_type": "code",
   "execution_count": 6,
   "metadata": {},
   "outputs": [
    {
     "data": {
      "text/plain": [
       "SVC(C=70, cache_size=200, class_weight=None, coef0=0.0,\n",
       "  decision_function_shape='ovr', degree=3, gamma=17, kernel='rbf',\n",
       "  max_iter=-1, probability=False, random_state=13, shrinking=True,\n",
       "  tol=0.001, verbose=False)"
      ]
     },
     "execution_count": 6,
     "metadata": {},
     "output_type": "execute_result"
    }
   ],
   "source": [
    "svm_clf_rbf_tuned = SVC(kernel='rbf', random_state=13, gamma=17, C=70)\n",
    "svm_clf_rbf_tuned.fit(features, labels)"
   ]
  },
  {
   "cell_type": "markdown",
   "metadata": {},
   "source": [
    "### Evaluación con el \"Test Set\""
   ]
  },
  {
   "cell_type": "code",
   "execution_count": 7,
   "metadata": {},
   "outputs": [
    {
     "name": "stdout",
     "output_type": "stream",
     "text": [
      "Precision:  1.0 \n",
      "Recall:  0.998134328358 \n",
      "F1:  0.999066293184\n"
     ]
    }
   ],
   "source": [
    "final_precision, final_recall, final_f1 = evaluate_model_with_precision_and_recall(\n",
    "    svm_clf_rbf_tuned, features_test, labels_test)\n",
    "print(\"Precision: \", final_precision, \"\\nRecall: \", final_recall, \"\\nF1: \", final_f1)"
   ]
  },
  {
   "cell_type": "markdown",
   "metadata": {},
   "source": [
    "## Decision Trees"
   ]
  },
  {
   "cell_type": "code",
   "execution_count": 8,
   "metadata": {},
   "outputs": [
    {
     "data": {
      "text/plain": [
       "DecisionTreeClassifier(class_weight=None, criterion='gini', max_depth=None,\n",
       "            max_features=None, max_leaf_nodes=None,\n",
       "            min_impurity_decrease=0.0, min_impurity_split=None,\n",
       "            min_samples_leaf=1, min_samples_split=2,\n",
       "            min_weight_fraction_leaf=0.0, presort=False, random_state=13,\n",
       "            splitter='best')"
      ]
     },
     "execution_count": 8,
     "metadata": {},
     "output_type": "execute_result"
    }
   ],
   "source": [
    "tree_clf = DecisionTreeClassifier(random_state=13)\n",
    "tree_clf.fit(features, labels)"
   ]
  },
  {
   "cell_type": "markdown",
   "metadata": {},
   "source": [
    "### Evaluación con el \"Test Set\""
   ]
  },
  {
   "cell_type": "code",
   "execution_count": 9,
   "metadata": {
    "scrolled": true
   },
   "outputs": [
    {
     "name": "stdout",
     "output_type": "stream",
     "text": [
      "Precision:  1.0 \n",
      "Recall:  0.986940298507 \n",
      "F1:  0.993427230047\n"
     ]
    }
   ],
   "source": [
    "final_precision, final_recall, final_f1 = evaluate_model_with_precision_and_recall(\n",
    "    tree_clf, features_test, labels_test)\n",
    "print(\"Precision: \", final_precision, \"\\nRecall: \", final_recall, \"\\nF1: \", final_f1)"
   ]
  },
  {
   "cell_type": "markdown",
   "metadata": {},
   "source": [
    "### Afinación"
   ]
  },
  {
   "cell_type": "markdown",
   "metadata": {},
   "source": [
    "#### Randomized Search"
   ]
  },
  {
   "cell_type": "code",
   "execution_count": 10,
   "metadata": {
    "scrolled": true
   },
   "outputs": [
    {
     "data": {
      "text/plain": [
       "RandomizedSearchCV(cv=5, error_score='raise-deprecating',\n",
       "          estimator=DecisionTreeClassifier(class_weight=None, criterion='gini', max_depth=None,\n",
       "            max_features=None, max_leaf_nodes=None,\n",
       "            min_impurity_decrease=0.0, min_impurity_split=None,\n",
       "            min_samples_leaf=1, min_samples_split=2,\n",
       "            min_weight_fraction_leaf=0.0, presort=False, random_state=13,\n",
       "            splitter='best'),\n",
       "          fit_params=None, iid='warn', n_iter=10, n_jobs=None,\n",
       "          param_distributions={'max_depth': <scipy.stats._distn_infrastructure.rv_frozen object at 0x7f6b21b26550>, 'min_samples_split': <scipy.stats._distn_infrastructure.rv_frozen object at 0x7f6b21b26f98>, 'min_samples_leaf': <scipy.stats._distn_infrastructure.rv_frozen object at 0x7f6b21b26ba8>},\n",
       "          pre_dispatch='2*n_jobs', random_state=13, refit=True,\n",
       "          return_train_score=False, scoring='recall', verbose=0)"
      ]
     },
     "execution_count": 10,
     "metadata": {},
     "output_type": "execute_result"
    }
   ],
   "source": [
    "param_distribs = {\n",
    "        'max_depth': randint(low=5, high=8),\n",
    "        'min_samples_split': randint(low=4, high=15),\n",
    "        'min_samples_leaf': randint(low=3, high=10)\n",
    "    }\n",
    "tree_clf_rnd_search = RandomizedSearchCV(tree_clf, param_distributions=param_distribs,\n",
    "                                n_iter=10, cv=5, scoring='recall', random_state=13, return_train_score=False)\n",
    "tree_clf_rnd_search.fit(features, labels)"
   ]
  },
  {
   "cell_type": "code",
   "execution_count": 11,
   "metadata": {},
   "outputs": [
    {
     "name": "stdout",
     "output_type": "stream",
     "text": [
      "0.921211977214 {'max_depth': 7, 'min_samples_leaf': 3, 'min_samples_split': 14}\n",
      "0.832167832168 {'max_depth': 5, 'min_samples_leaf': 9, 'min_samples_split': 6}\n",
      "0.838694838077 {'max_depth': 5, 'min_samples_leaf': 4, 'min_samples_split': 14}\n",
      "0.911421302198 {'max_depth': 7, 'min_samples_leaf': 7, 'min_samples_split': 6}\n",
      "0.904428129053 {'max_depth': 7, 'min_samples_leaf': 9, 'min_samples_split': 9}\n",
      "0.877389598617 {'max_depth': 6, 'min_samples_leaf': 5, 'min_samples_split': 13}\n",
      "0.833566555411 {'max_depth': 5, 'min_samples_leaf': 5, 'min_samples_split': 4}\n",
      "0.875524708137 {'max_depth': 6, 'min_samples_leaf': 6, 'min_samples_split': 10}\n",
      "0.875524708137 {'max_depth': 6, 'min_samples_leaf': 6, 'min_samples_split': 5}\n",
      "0.921678199833 {'max_depth': 7, 'min_samples_leaf': 3, 'min_samples_split': 12}\n"
     ]
    }
   ],
   "source": [
    "search_results = tree_clf_rnd_search.cv_results_\n",
    "for mean_score, params in zip(search_results['mean_test_score'], search_results['params']):\n",
    "    print(mean_score, params)"
   ]
  },
  {
   "cell_type": "markdown",
   "metadata": {},
   "source": [
    "#### Grid Search"
   ]
  },
  {
   "cell_type": "code",
   "execution_count": 12,
   "metadata": {},
   "outputs": [
    {
     "data": {
      "text/plain": [
       "GridSearchCV(cv=5, error_score='raise-deprecating',\n",
       "       estimator=DecisionTreeClassifier(class_weight=None, criterion='gini', max_depth=None,\n",
       "            max_features=None, max_leaf_nodes=None,\n",
       "            min_impurity_decrease=0.0, min_impurity_split=None,\n",
       "            min_samples_leaf=1, min_samples_split=2,\n",
       "            min_weight_fraction_leaf=0.0, presort=False, random_state=13,\n",
       "            splitter='best'),\n",
       "       fit_params=None, iid='warn', n_jobs=None,\n",
       "       param_grid={'min_samples_leaf': [4, 8, 12], 'min_samples_split': [8, 12, 15]},\n",
       "       pre_dispatch='2*n_jobs', refit=True, return_train_score=False,\n",
       "       scoring='recall', verbose=0)"
      ]
     },
     "execution_count": 12,
     "metadata": {},
     "output_type": "execute_result"
    }
   ],
   "source": [
    "param_grid = {'min_samples_leaf': [4, 8, 12], 'min_samples_split': [8, 12, 15]}\n",
    "tree_clf_grid_search = GridSearchCV(tree_clf, param_grid, cv=5, scoring='recall', return_train_score=False)\n",
    "tree_clf_grid_search.fit(features, labels)"
   ]
  },
  {
   "cell_type": "code",
   "execution_count": 13,
   "metadata": {},
   "outputs": [
    {
     "name": "stdout",
     "output_type": "stream",
     "text": [
      "0.964568465495 {'min_samples_leaf': 4, 'min_samples_split': 8}\n",
      "0.965034521963 {'min_samples_leaf': 4, 'min_samples_split': 12}\n",
      "0.965500855351 {'min_samples_leaf': 4, 'min_samples_split': 15}\n",
      "0.947784506566 {'min_samples_leaf': 8, 'min_samples_split': 8}\n",
      "0.947784506566 {'min_samples_leaf': 8, 'min_samples_split': 12}\n",
      "0.947784506566 {'min_samples_leaf': 8, 'min_samples_split': 15}\n",
      "0.930069154694 {'min_samples_leaf': 12, 'min_samples_split': 8}\n",
      "0.930069154694 {'min_samples_leaf': 12, 'min_samples_split': 12}\n",
      "0.930069154694 {'min_samples_leaf': 12, 'min_samples_split': 15}\n"
     ]
    }
   ],
   "source": [
    "search_results = tree_clf_grid_search.cv_results_\n",
    "for mean_score, params in zip(search_results['mean_test_score'], search_results['params']):\n",
    "    print(mean_score, params)"
   ]
  },
  {
   "cell_type": "markdown",
   "metadata": {},
   "source": [
    "#### Evaluación con el \"Test Set\""
   ]
  },
  {
   "cell_type": "code",
   "execution_count": 14,
   "metadata": {},
   "outputs": [
    {
     "data": {
      "text/plain": [
       "DecisionTreeClassifier(class_weight=None, criterion='gini', max_depth=None,\n",
       "            max_features=None, max_leaf_nodes=None,\n",
       "            min_impurity_decrease=0.0, min_impurity_split=None,\n",
       "            min_samples_leaf=10, min_samples_split=15,\n",
       "            min_weight_fraction_leaf=0.0, presort=False, random_state=13,\n",
       "            splitter='best')"
      ]
     },
     "execution_count": 14,
     "metadata": {},
     "output_type": "execute_result"
    }
   ],
   "source": [
    "tree_clf_tuned = DecisionTreeClassifier(random_state=13, min_samples_leaf=10, min_samples_split=15)\n",
    "tree_clf_tuned.fit(features, labels)"
   ]
  },
  {
   "cell_type": "code",
   "execution_count": 15,
   "metadata": {},
   "outputs": [
    {
     "name": "stdout",
     "output_type": "stream",
     "text": [
      "Precision:  0.998065764023 \n",
      "Recall:  0.962686567164 \n",
      "F1:  0.980056980057\n"
     ]
    }
   ],
   "source": [
    "final_precision, final_recall, final_f1 = evaluate_model_with_precision_and_recall(\n",
    "    tree_clf_tuned, features_test, labels_test)\n",
    "print(\"Precision: \", final_precision, \"\\nRecall: \", final_recall, \"\\nF1: \", final_f1)"
   ]
  },
  {
   "cell_type": "markdown",
   "metadata": {},
   "source": [
    "## K-Nearest-Neighbors"
   ]
  },
  {
   "cell_type": "code",
   "execution_count": 16,
   "metadata": {},
   "outputs": [
    {
     "data": {
      "text/plain": [
       "KNeighborsClassifier(algorithm='auto', leaf_size=30, metric='minkowski',\n",
       "           metric_params=None, n_jobs=None, n_neighbors=5, p=2,\n",
       "           weights='uniform')"
      ]
     },
     "execution_count": 16,
     "metadata": {},
     "output_type": "execute_result"
    }
   ],
   "source": [
    "knn_clf = KNeighborsClassifier()\n",
    "knn_clf.fit(features, labels)"
   ]
  },
  {
   "cell_type": "markdown",
   "metadata": {},
   "source": [
    "### Evaluación con el \"Test Set\""
   ]
  },
  {
   "cell_type": "code",
   "execution_count": 17,
   "metadata": {},
   "outputs": [
    {
     "name": "stdout",
     "output_type": "stream",
     "text": [
      "Precision:  1.0 \n",
      "Recall:  0.975746268657 \n",
      "F1:  0.987724268178\n"
     ]
    }
   ],
   "source": [
    "final_precision, final_recall, final_f1 = evaluate_model_with_precision_and_recall(\n",
    "    knn_clf, features_test, labels_test)\n",
    "print(\"Precision: \", final_precision, \"\\nRecall: \", final_recall, \"\\nF1: \", final_f1)"
   ]
  },
  {
   "cell_type": "markdown",
   "metadata": {},
   "source": [
    "Después de analizar los modelos más prometedores con el vector de características más extenso y de realizar algunos ajustes en sus parámetros, elegimos los modelos con los siguientes resultados:\n",
    "\n",
    "- Support Vector Machines (Gaussian RBF Kernel): {'C': 5, 'gamma': 5}. Exhaustividad: 1.0 en el \"test set\".\n",
    "- Decision Trees: parámetros por defecto ({'max_depth': None, 'min_samples_leaf': 1, 'min_samples_split': 2}). Exhaustividad: 0.98 en el \"test set\".\n",
    "- K-Nearest-Neighbors: parámetros por defecto ({'n_neighbors': 5, 'weights': 'uniform'}). Exhaustividad: 0.97 en el \"test set\".\n",
    "\n",
    "Guardemos estos modelos para poder usarlos más tarde."
   ]
  },
  {
   "cell_type": "code",
   "execution_count": 18,
   "metadata": {},
   "outputs": [
    {
     "data": {
      "text/plain": [
       "['./models/extract_features_with_letter_counting/k_nearest_neighbors.pkl']"
      ]
     },
     "execution_count": 18,
     "metadata": {},
     "output_type": "execute_result"
    }
   ],
   "source": [
    "directory = './models/extract_features_with_letter_counting/'\n",
    "joblib.dump(svm_clf_rbf, directory + 'support_vector_machines_RBF_kernel.pkl')\n",
    "joblib.dump(tree_clf, directory + 'decision_trees.pkl')\n",
    "joblib.dump(knn_clf, directory + 'k_nearest_neighbors.pkl')"
   ]
  }
 ],
 "metadata": {
  "kernelspec": {
   "display_name": "Python 3",
   "language": "python",
   "name": "python3"
  },
  "language_info": {
   "codemirror_mode": {
    "name": "ipython",
    "version": 3
   },
   "file_extension": ".py",
   "mimetype": "text/x-python",
   "name": "python",
   "nbconvert_exporter": "python",
   "pygments_lexer": "ipython3",
   "version": "3.6.8"
  }
 },
 "nbformat": 4,
 "nbformat_minor": 2
}
