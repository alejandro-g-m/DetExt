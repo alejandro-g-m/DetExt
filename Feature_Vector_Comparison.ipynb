{
 "cells": [
  {
   "cell_type": "code",
   "execution_count": 1,
   "metadata": {},
   "outputs": [],
   "source": [
    "from dns_attacks_detection import *"
   ]
  },
  {
   "cell_type": "markdown",
   "metadata": {},
   "source": [
    "El objetivo de este código es analizar diferentes modelos con tres vectores de características, para ver cómo varía el rendimiento entre ellos."
   ]
  },
  {
   "cell_type": "code",
   "execution_count": 2,
   "metadata": {},
   "outputs": [
    {
     "name": "stdout",
     "output_type": "stream",
     "text": [
      "\u001b[1m extract_features_reduced \u001b[0m \n",
      " [('SGDClassifier', {'precision': 0.0, 'recall': 0.0, 'f1': 0.0}), ('LogisticRegression', {'precision': 0.0, 'recall': 0.0, 'f1': 0.0}), ('SVC Poly', {'precision': 0.0, 'recall': 0.0, 'f1': 0.0}), ('SVC RBF', {'precision': 0.62791423023032278, 'recall': 0.57762237762237756, 'f1': 0.59756116513793733}), ('DecisionTreeClassifier', {'precision': 0.97659106017430231, 'recall': 0.83682983682983669, 'f1': 0.90127136611636516}), ('KNeighborsClassifier', {'precision': 0.96160299192317811, 'recall': 0.84335664335664329, 'f1': 0.89821688952215017})] \n",
      "\n",
      "\n",
      "\u001b[1m extract_features_with_letters_and_numbers \u001b[0m \n",
      " [('SGDClassifier', {'precision': 0.8265416621084688, 'recall': 0.42703962703962706, 'f1': 0.56258949009278503}), ('LogisticRegression', {'precision': 0.81203094960576316, 'recall': 0.38414918414918409, 'f1': 0.52137839663927843}), ('SVC Poly', {'precision': 0.89094329412120954, 'recall': 0.70163170163170163, 'f1': 0.78502590329835176}), ('SVC RBF', {'precision': 0.90955611211916343, 'recall': 0.7972027972027973, 'f1': 0.84962005484768888}), ('DecisionTreeClassifier', {'precision': 0.97867645160356054, 'recall': 0.91934731934731939, 'f1': 0.94801198551371646}), ('KNeighborsClassifier', {'precision': 0.97868250333375006, 'recall': 0.91981351981351978, 'f1': 0.94826067473813835})] \n",
      "\n",
      "\n",
      "\u001b[1m extract_features_with_letter_counting \u001b[0m \n",
      " [('SGDClassifier', {'precision': 0.98471390129213554, 'recall': 0.32167832167832167, 'f1': 0.48395723558929804}), ('LogisticRegression', {'precision': 0.78225211247158988, 'recall': 0.37668997668997672, 'f1': 0.5076281151444394}), ('SVC Poly', {'precision': 0.99274099883855982, 'recall': 0.42843822843822849, 'f1': 0.59774062335985012}), ('SVC RBF', {'precision': 1.0, 'recall': 0.99300699300699302, 'f1': 0.9964884825732655}), ('DecisionTreeClassifier', {'precision': 1.0, 'recall': 0.9822843822843822, 'f1': 0.99105318995525449}), ('KNeighborsClassifier', {'precision': 0.99855769230769231, 'recall': 0.97435897435897445, 'f1': 0.98629780939696254})] \n",
      "\n",
      "\n"
     ]
    }
   ],
   "source": [
    "feature_vectors = [extract_features_reduced, extract_features_with_letters_and_numbers,\n",
    "                   extract_features_with_letter_counting]\n",
    "\n",
    "for vector in feature_vectors:\n",
    "    # Load feature vector\n",
    "    dns = create_feature_vector_from_log_file('3JUL.log', vector)\n",
    "    train_set, test_set = split_train_and_test_sets(dns, 'attack')\n",
    "    features = train_set.drop('attack', 1)\n",
    "    labels = train_set['attack']\n",
    "    # Initialise models\n",
    "    sgd_clf = SGDClassifier(max_iter=5, random_state=13)\n",
    "    log_reg_clf = LogisticRegression(random_state=13, solver='liblinear')\n",
    "    svm_clf_poly = SVC(kernel='poly', random_state=13, gamma='auto', degree=3, coef0=1, C=5)\n",
    "    svm_clf_rbf = SVC(kernel='rbf', random_state=13, gamma=5, C=5)\n",
    "    tree_clf = DecisionTreeClassifier(random_state=13)\n",
    "    knn_clf = KNeighborsClassifier()\n",
    "    # Set parameters for cross validation\n",
    "    models = [sgd_clf, log_reg_clf, svm_clf_poly, svm_clf_rbf, tree_clf, knn_clf]\n",
    "    names = ['SGDClassifier', 'LogisticRegression', 'SVC Poly', 'SVC RBF', 'DecisionTreeClassifier', 'KNeighborsClassifier']\n",
    "    scoring = ['precision', 'recall', 'f1']\n",
    "    # Evaluate models using cross validation\n",
    "    cv_results = cross_validate_models(models, features, labels, scoring, 5)\n",
    "    scores = get_cross_validate_scores(cv_results, names, scoring)\n",
    "    print(color.BOLD, vector.__name__, color.END, \"\\n\", scores, \"\\n\\n\")"
   ]
  },
  {
   "cell_type": "markdown",
   "metadata": {},
   "source": [
    "Usando el vector de características que cuenta todas las letras y números (\"extract_features_with_letter_counting\") obtenemos valores de rendimiento bastante altos con tres modelos. Es un vector con muchas características comparado con los otros. Probemos el rendimiento de estos modelos con el \"test set\" y realizando algunos ajustes en sus parámetros."
   ]
  },
  {
   "cell_type": "code",
   "execution_count": 3,
   "metadata": {},
   "outputs": [],
   "source": [
    "dns = create_feature_vector_from_log_file('3JUL.log', extract_features_with_letter_counting)\n",
    "train_set, test_set = split_train_and_test_sets(dns, 'attack')\n",
    "features = train_set.drop('attack', 1)\n",
    "labels = train_set['attack']\n",
    "features_test = test_set.drop('attack', 1)\n",
    "labels_test = test_set['attack']"
   ]
  },
  {
   "cell_type": "markdown",
   "metadata": {},
   "source": [
    "## Support Vector Machines (Gaussian RBF Kernel)"
   ]
  },
  {
   "cell_type": "code",
   "execution_count": 4,
   "metadata": {},
   "outputs": [
    {
     "data": {
      "text/plain": [
       "SVC(C=5, cache_size=200, class_weight=None, coef0=0.0,\n",
       "  decision_function_shape='ovr', degree=3, gamma=5, kernel='rbf',\n",
       "  max_iter=-1, probability=False, random_state=13, shrinking=True,\n",
       "  tol=0.001, verbose=False)"
      ]
     },
     "execution_count": 4,
     "metadata": {},
     "output_type": "execute_result"
    }
   ],
   "source": [
    "svm_clf_rbf = SVC(kernel='rbf', random_state=13, gamma=5, C=5)\n",
    "svm_clf_rbf.fit(features, labels)"
   ]
  },
  {
   "cell_type": "markdown",
   "metadata": {},
   "source": [
    "### Evaluación con el \"Test Set\""
   ]
  },
  {
   "cell_type": "code",
   "execution_count": 5,
   "metadata": {},
   "outputs": [
    {
     "name": "stdout",
     "output_type": "stream",
     "text": [
      "Precision:  1.0 \n",
      "Recall:  1.0 \n",
      "F1:  1.0\n"
     ]
    }
   ],
   "source": [
    "final_precision, final_recall, final_f1 = evaluate_model_with_precision_and_recall(\n",
    "    svm_clf_rbf, features_test, labels_test)\n",
    "print(\"Precision: \", final_precision, \"\\nRecall: \", final_recall, \"\\nF1: \", final_f1)"
   ]
  },
  {
   "cell_type": "markdown",
   "metadata": {},
   "source": [
    "### Modificando algunos parámetros"
   ]
  },
  {
   "cell_type": "code",
   "execution_count": 6,
   "metadata": {},
   "outputs": [
    {
     "data": {
      "text/plain": [
       "SVC(C=70, cache_size=200, class_weight=None, coef0=0.0,\n",
       "  decision_function_shape='ovr', degree=3, gamma=17, kernel='rbf',\n",
       "  max_iter=-1, probability=False, random_state=13, shrinking=True,\n",
       "  tol=0.001, verbose=False)"
      ]
     },
     "execution_count": 6,
     "metadata": {},
     "output_type": "execute_result"
    }
   ],
   "source": [
    "svm_clf_rbf_tuned = SVC(kernel='rbf', random_state=13, gamma=17, C=70)\n",
    "svm_clf_rbf_tuned.fit(features, labels)"
   ]
  },
  {
   "cell_type": "markdown",
   "metadata": {},
   "source": [
    "### Evaluación con el \"Test Set\""
   ]
  },
  {
   "cell_type": "code",
   "execution_count": 7,
   "metadata": {},
   "outputs": [
    {
     "name": "stdout",
     "output_type": "stream",
     "text": [
      "Precision:  1.0 \n",
      "Recall:  0.998134328358 \n",
      "F1:  0.999066293184\n"
     ]
    }
   ],
   "source": [
    "final_precision, final_recall, final_f1 = evaluate_model_with_precision_and_recall(\n",
    "    svm_clf_rbf_tuned, features_test, labels_test)\n",
    "print(\"Precision: \", final_precision, \"\\nRecall: \", final_recall, \"\\nF1: \", final_f1)"
   ]
  },
  {
   "cell_type": "markdown",
   "metadata": {},
   "source": [
    "## Decision Trees"
   ]
  },
  {
   "cell_type": "code",
   "execution_count": 8,
   "metadata": {},
   "outputs": [
    {
     "data": {
      "text/plain": [
       "DecisionTreeClassifier(class_weight=None, criterion='gini', max_depth=None,\n",
       "            max_features=None, max_leaf_nodes=None,\n",
       "            min_impurity_decrease=0.0, min_impurity_split=None,\n",
       "            min_samples_leaf=1, min_samples_split=2,\n",
       "            min_weight_fraction_leaf=0.0, presort=False, random_state=13,\n",
       "            splitter='best')"
      ]
     },
     "execution_count": 8,
     "metadata": {},
     "output_type": "execute_result"
    }
   ],
   "source": [
    "tree_clf = DecisionTreeClassifier(random_state=13)\n",
    "tree_clf.fit(features, labels)"
   ]
  },
  {
   "cell_type": "markdown",
   "metadata": {},
   "source": [
    "### Evaluación con el \"Test Set\""
   ]
  },
  {
   "cell_type": "code",
   "execution_count": 9,
   "metadata": {
    "scrolled": true
   },
   "outputs": [
    {
     "name": "stdout",
     "output_type": "stream",
     "text": [
      "Precision:  1.0 \n",
      "Recall:  0.986940298507 \n",
      "F1:  0.993427230047\n"
     ]
    }
   ],
   "source": [
    "final_precision, final_recall, final_f1 = evaluate_model_with_precision_and_recall(\n",
    "    tree_clf, features_test, labels_test)\n",
    "print(\"Precision: \", final_precision, \"\\nRecall: \", final_recall, \"\\nF1: \", final_f1)"
   ]
  },
  {
   "cell_type": "markdown",
   "metadata": {},
   "source": [
    "### Afinación"
   ]
  },
  {
   "cell_type": "markdown",
   "metadata": {},
   "source": [
    "#### Randomized Search"
   ]
  },
  {
   "cell_type": "code",
   "execution_count": 10,
   "metadata": {
    "scrolled": true
   },
   "outputs": [
    {
     "data": {
      "text/plain": [
       "RandomizedSearchCV(cv=5, error_score='raise-deprecating',\n",
       "          estimator=DecisionTreeClassifier(class_weight=None, criterion='gini', max_depth=None,\n",
       "            max_features=None, max_leaf_nodes=None,\n",
       "            min_impurity_decrease=0.0, min_impurity_split=None,\n",
       "            min_samples_leaf=1, min_samples_split=2,\n",
       "            min_weight_fraction_leaf=0.0, presort=False, random_state=13,\n",
       "            splitter='best'),\n",
       "          fit_params=None, iid='warn', n_iter=10, n_jobs=None,\n",
       "          param_distributions={'max_depth': <scipy.stats._distn_infrastructure.rv_frozen object at 0x7f542014dd30>, 'min_samples_split': <scipy.stats._distn_infrastructure.rv_frozen object at 0x7f542014d7f0>, 'min_samples_leaf': <scipy.stats._distn_infrastructure.rv_frozen object at 0x7f542014da20>},\n",
       "          pre_dispatch='2*n_jobs', random_state=13, refit=True,\n",
       "          return_train_score=True, scoring='recall', verbose=0)"
      ]
     },
     "execution_count": 10,
     "metadata": {},
     "output_type": "execute_result"
    }
   ],
   "source": [
    "param_distribs = {\n",
    "        'max_depth': randint(low=5, high=8),\n",
    "        'min_samples_split': randint(low=4, high=15),\n",
    "        'min_samples_leaf': randint(low=3, high=10)\n",
    "    }\n",
    "tree_clf_rnd_search = RandomizedSearchCV(tree_clf, param_distributions=param_distribs,\n",
    "                                n_iter=10, cv=5, scoring='recall', random_state=13)\n",
    "tree_clf_rnd_search.fit(features, labels)"
   ]
  },
  {
   "cell_type": "code",
   "execution_count": 11,
   "metadata": {},
   "outputs": [
    {
     "name": "stdout",
     "output_type": "stream",
     "text": [
      "0.921211977214 {'max_depth': 7, 'min_samples_leaf': 3, 'min_samples_split': 14}\n",
      "0.832167832168 {'max_depth': 5, 'min_samples_leaf': 9, 'min_samples_split': 6}\n",
      "0.838694838077 {'max_depth': 5, 'min_samples_leaf': 4, 'min_samples_split': 14}\n",
      "0.911421302198 {'max_depth': 7, 'min_samples_leaf': 7, 'min_samples_split': 6}\n",
      "0.904428129053 {'max_depth': 7, 'min_samples_leaf': 9, 'min_samples_split': 9}\n",
      "0.877389598617 {'max_depth': 6, 'min_samples_leaf': 5, 'min_samples_split': 13}\n",
      "0.833566555411 {'max_depth': 5, 'min_samples_leaf': 5, 'min_samples_split': 4}\n",
      "0.875524708137 {'max_depth': 6, 'min_samples_leaf': 6, 'min_samples_split': 10}\n",
      "0.875524708137 {'max_depth': 6, 'min_samples_leaf': 6, 'min_samples_split': 5}\n",
      "0.921678199833 {'max_depth': 7, 'min_samples_leaf': 3, 'min_samples_split': 12}\n"
     ]
    }
   ],
   "source": [
    "search_results = tree_clf_rnd_search.cv_results_\n",
    "for mean_score, params in zip(search_results['mean_test_score'], search_results['params']):\n",
    "    print(mean_score, params)"
   ]
  },
  {
   "cell_type": "markdown",
   "metadata": {},
   "source": [
    "#### Grid Search"
   ]
  },
  {
   "cell_type": "code",
   "execution_count": 12,
   "metadata": {},
   "outputs": [
    {
     "data": {
      "text/plain": [
       "GridSearchCV(cv=5, error_score='raise-deprecating',\n",
       "       estimator=DecisionTreeClassifier(class_weight=None, criterion='gini', max_depth=None,\n",
       "            max_features=None, max_leaf_nodes=None,\n",
       "            min_impurity_decrease=0.0, min_impurity_split=None,\n",
       "            min_samples_leaf=1, min_samples_split=2,\n",
       "            min_weight_fraction_leaf=0.0, presort=False, random_state=13,\n",
       "            splitter='best'),\n",
       "       fit_params=None, iid='warn', n_jobs=None,\n",
       "       param_grid={'min_samples_leaf': [4, 8, 12], 'min_samples_split': [8, 12, 15]},\n",
       "       pre_dispatch='2*n_jobs', refit=True, return_train_score=True,\n",
       "       scoring='recall', verbose=0)"
      ]
     },
     "execution_count": 12,
     "metadata": {},
     "output_type": "execute_result"
    }
   ],
   "source": [
    "param_grid = {'min_samples_leaf': [4, 8, 12], 'min_samples_split': [8, 12, 15]}\n",
    "tree_clf_grid_search = GridSearchCV(tree_clf, param_grid, cv=5, scoring='recall')\n",
    "tree_clf_grid_search.fit(features, labels)"
   ]
  },
  {
   "cell_type": "code",
   "execution_count": 13,
   "metadata": {},
   "outputs": [
    {
     "name": "stdout",
     "output_type": "stream",
     "text": [
      "0.964568465495 {'min_samples_leaf': 4, 'min_samples_split': 8}\n",
      "0.965034521963 {'min_samples_leaf': 4, 'min_samples_split': 12}\n",
      "0.965500855351 {'min_samples_leaf': 4, 'min_samples_split': 15}\n",
      "0.947784506566 {'min_samples_leaf': 8, 'min_samples_split': 8}\n",
      "0.947784506566 {'min_samples_leaf': 8, 'min_samples_split': 12}\n",
      "0.947784506566 {'min_samples_leaf': 8, 'min_samples_split': 15}\n",
      "0.930069154694 {'min_samples_leaf': 12, 'min_samples_split': 8}\n",
      "0.930069154694 {'min_samples_leaf': 12, 'min_samples_split': 12}\n",
      "0.930069154694 {'min_samples_leaf': 12, 'min_samples_split': 15}\n"
     ]
    }
   ],
   "source": [
    "search_results = tree_clf_grid_search.cv_results_\n",
    "for mean_score, params in zip(search_results['mean_test_score'], search_results['params']):\n",
    "    print(mean_score, params)"
   ]
  },
  {
   "cell_type": "markdown",
   "metadata": {},
   "source": [
    "#### Evaluación con el \"Test Set\""
   ]
  },
  {
   "cell_type": "code",
   "execution_count": 14,
   "metadata": {},
   "outputs": [
    {
     "data": {
      "text/plain": [
       "DecisionTreeClassifier(class_weight=None, criterion='gini', max_depth=None,\n",
       "            max_features=None, max_leaf_nodes=None,\n",
       "            min_impurity_decrease=0.0, min_impurity_split=None,\n",
       "            min_samples_leaf=10, min_samples_split=15,\n",
       "            min_weight_fraction_leaf=0.0, presort=False, random_state=13,\n",
       "            splitter='best')"
      ]
     },
     "execution_count": 14,
     "metadata": {},
     "output_type": "execute_result"
    }
   ],
   "source": [
    "tree_clf_tuned = DecisionTreeClassifier(random_state=13, min_samples_leaf=10, min_samples_split=15)\n",
    "tree_clf_tuned.fit(features, labels)"
   ]
  },
  {
   "cell_type": "code",
   "execution_count": 15,
   "metadata": {},
   "outputs": [
    {
     "name": "stdout",
     "output_type": "stream",
     "text": [
      "Precision:  0.998065764023 \n",
      "Recall:  0.962686567164 \n",
      "F1:  0.980056980057\n"
     ]
    }
   ],
   "source": [
    "final_precision, final_recall, final_f1 = evaluate_model_with_precision_and_recall(\n",
    "    tree_clf_tuned, features_test, labels_test)\n",
    "print(\"Precision: \", final_precision, \"\\nRecall: \", final_recall, \"\\nF1: \", final_f1)"
   ]
  },
  {
   "cell_type": "markdown",
   "metadata": {},
   "source": [
    "## K-Nearest-Neighbors"
   ]
  },
  {
   "cell_type": "code",
   "execution_count": 16,
   "metadata": {},
   "outputs": [
    {
     "data": {
      "text/plain": [
       "KNeighborsClassifier(algorithm='auto', leaf_size=30, metric='minkowski',\n",
       "           metric_params=None, n_jobs=None, n_neighbors=5, p=2,\n",
       "           weights='uniform')"
      ]
     },
     "execution_count": 16,
     "metadata": {},
     "output_type": "execute_result"
    }
   ],
   "source": [
    "knn_clf = KNeighborsClassifier()\n",
    "knn_clf.fit(features, labels)"
   ]
  },
  {
   "cell_type": "markdown",
   "metadata": {},
   "source": [
    "### Evaluación con el \"Test Set\""
   ]
  },
  {
   "cell_type": "code",
   "execution_count": 17,
   "metadata": {},
   "outputs": [
    {
     "name": "stdout",
     "output_type": "stream",
     "text": [
      "Precision:  1.0 \n",
      "Recall:  0.975746268657 \n",
      "F1:  0.987724268178\n"
     ]
    }
   ],
   "source": [
    "final_precision, final_recall, final_f1 = evaluate_model_with_precision_and_recall(\n",
    "    knn_clf, features_test, labels_test)\n",
    "print(\"Precision: \", final_precision, \"\\nRecall: \", final_recall, \"\\nF1: \", final_f1)"
   ]
  },
  {
   "cell_type": "markdown",
   "metadata": {},
   "source": [
    "Después de analizar los modelos más prometedores con el vector de características más grande y de realizar algunos ajustes en sus parámetros obtenemos los siguientes resultados:\n",
    "\n",
    "- Support Vector Machines (Gaussian RBF Kernel): {'C': 5, 'gamma': 5}. Exhaustividad: 1.0 en el \"test set\".\n",
    "- Decision Trees: parámetros por defecto ({'max_depth': None, 'min_samples_leaf': 1, 'min_samples_split': 2}). Exhaustividad: 0.98 en el \"test set\".\n",
    "- K-Nearest-Neighbors: parámetros por defecto ({'n_neighbors': 5, 'weights': 'uniform'}). Exhaustividad: 0.97 en el \"test set\".\n",
    "\n",
    "Guardemos estos modelos para poder usarlos más tarde."
   ]
  },
  {
   "cell_type": "code",
   "execution_count": 18,
   "metadata": {},
   "outputs": [
    {
     "data": {
      "text/plain": [
       "['./models/extract_features_with_letter_counting/k_nearest_neighbors.pkl']"
      ]
     },
     "execution_count": 18,
     "metadata": {},
     "output_type": "execute_result"
    }
   ],
   "source": [
    "directory = './models/extract_features_with_letter_counting/'\n",
    "joblib.dump(svm_clf_rbf, directory + 'support_vector_machines_RBF_kernel.pkl')\n",
    "joblib.dump(tree_clf, directory + 'decision_trees.pkl')\n",
    "joblib.dump(knn_clf, directory + 'k_nearest_neighbors.pkl')"
   ]
  }
 ],
 "metadata": {
  "kernelspec": {
   "display_name": "Python 3",
   "language": "python",
   "name": "python3"
  },
  "language_info": {
   "codemirror_mode": {
    "name": "ipython",
    "version": 3
   },
   "file_extension": ".py",
   "mimetype": "text/x-python",
   "name": "python",
   "nbconvert_exporter": "python",
   "pygments_lexer": "ipython3",
   "version": "3.6.5"
  }
 },
 "nbformat": 4,
 "nbformat_minor": 2
}
