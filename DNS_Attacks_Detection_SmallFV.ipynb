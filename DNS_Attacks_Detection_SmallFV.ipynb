{
 "cells": [
  {
   "cell_type": "code",
   "execution_count": 1,
   "metadata": {},
   "outputs": [],
   "source": [
    "%matplotlib inline"
   ]
  },
  {
   "cell_type": "markdown",
   "metadata": {},
   "source": [
    "# Un vistazo a los datos\n",
    "Vamos a cargar el vector de características."
   ]
  },
  {
   "cell_type": "code",
   "execution_count": 2,
   "metadata": {},
   "outputs": [
    {
     "name": "stdout",
     "output_type": "stream",
     "text": [
      "1.13.3\n"
     ]
    }
   ],
   "source": [
    "from dns_attacks_detection import *"
   ]
  },
  {
   "cell_type": "code",
   "execution_count": 3,
   "metadata": {},
   "outputs": [],
   "source": [
    "dns = create_feature_vector_from_log_file('3JUL.log', extract_features_reduced)"
   ]
  },
  {
   "cell_type": "code",
   "execution_count": 4,
   "metadata": {},
   "outputs": [
    {
     "data": {
      "text/html": [
       "<div>\n",
       "<style scoped>\n",
       "    .dataframe tbody tr th:only-of-type {\n",
       "        vertical-align: middle;\n",
       "    }\n",
       "\n",
       "    .dataframe tbody tr th {\n",
       "        vertical-align: top;\n",
       "    }\n",
       "\n",
       "    .dataframe thead th {\n",
       "        text-align: right;\n",
       "    }\n",
       "</style>\n",
       "<table border=\"1\" class=\"dataframe\">\n",
       "  <thead>\n",
       "    <tr style=\"text-align: right;\">\n",
       "      <th></th>\n",
       "      <th>alphanumeric</th>\n",
       "      <th>attack</th>\n",
       "      <th>longest_number</th>\n",
       "    </tr>\n",
       "  </thead>\n",
       "  <tbody>\n",
       "    <tr>\n",
       "      <th>0</th>\n",
       "      <td>1.0</td>\n",
       "      <td>0</td>\n",
       "      <td>0.0</td>\n",
       "    </tr>\n",
       "    <tr>\n",
       "      <th>1</th>\n",
       "      <td>1.0</td>\n",
       "      <td>0</td>\n",
       "      <td>0.0</td>\n",
       "    </tr>\n",
       "    <tr>\n",
       "      <th>2</th>\n",
       "      <td>1.0</td>\n",
       "      <td>0</td>\n",
       "      <td>0.0</td>\n",
       "    </tr>\n",
       "    <tr>\n",
       "      <th>3</th>\n",
       "      <td>1.0</td>\n",
       "      <td>0</td>\n",
       "      <td>0.0</td>\n",
       "    </tr>\n",
       "    <tr>\n",
       "      <th>4</th>\n",
       "      <td>1.0</td>\n",
       "      <td>0</td>\n",
       "      <td>0.0</td>\n",
       "    </tr>\n",
       "  </tbody>\n",
       "</table>\n",
       "</div>"
      ],
      "text/plain": [
       "   alphanumeric  attack  longest_number\n",
       "0           1.0       0             0.0\n",
       "1           1.0       0             0.0\n",
       "2           1.0       0             0.0\n",
       "3           1.0       0             0.0\n",
       "4           1.0       0             0.0"
      ]
     },
     "execution_count": 4,
     "metadata": {},
     "output_type": "execute_result"
    }
   ],
   "source": [
    "dns.head()"
   ]
  },
  {
   "cell_type": "code",
   "execution_count": 5,
   "metadata": {},
   "outputs": [
    {
     "name": "stdout",
     "output_type": "stream",
     "text": [
      "<class 'pandas.core.frame.DataFrame'>\n",
      "RangeIndex: 52610 entries, 0 to 52609\n",
      "Data columns (total 3 columns):\n",
      "alphanumeric      52610 non-null float64\n",
      "attack            52610 non-null int64\n",
      "longest_number    52610 non-null float64\n",
      "dtypes: float64(2), int64(1)\n",
      "memory usage: 1.2 MB\n"
     ]
    }
   ],
   "source": [
    "dns.info()"
   ]
  },
  {
   "cell_type": "code",
   "execution_count": 6,
   "metadata": {},
   "outputs": [
    {
     "data": {
      "text/html": [
       "<div>\n",
       "<style scoped>\n",
       "    .dataframe tbody tr th:only-of-type {\n",
       "        vertical-align: middle;\n",
       "    }\n",
       "\n",
       "    .dataframe tbody tr th {\n",
       "        vertical-align: top;\n",
       "    }\n",
       "\n",
       "    .dataframe thead th {\n",
       "        text-align: right;\n",
       "    }\n",
       "</style>\n",
       "<table border=\"1\" class=\"dataframe\">\n",
       "  <thead>\n",
       "    <tr style=\"text-align: right;\">\n",
       "      <th></th>\n",
       "      <th>alphanumeric</th>\n",
       "      <th>attack</th>\n",
       "      <th>longest_number</th>\n",
       "    </tr>\n",
       "  </thead>\n",
       "  <tbody>\n",
       "    <tr>\n",
       "      <th>count</th>\n",
       "      <td>52610.000000</td>\n",
       "      <td>52610.000000</td>\n",
       "      <td>52610.000000</td>\n",
       "    </tr>\n",
       "    <tr>\n",
       "      <th>mean</th>\n",
       "      <td>0.998346</td>\n",
       "      <td>0.050960</td>\n",
       "      <td>0.092291</td>\n",
       "    </tr>\n",
       "    <tr>\n",
       "      <th>std</th>\n",
       "      <td>0.013217</td>\n",
       "      <td>0.219918</td>\n",
       "      <td>0.246846</td>\n",
       "    </tr>\n",
       "    <tr>\n",
       "      <th>min</th>\n",
       "      <td>0.750000</td>\n",
       "      <td>0.000000</td>\n",
       "      <td>0.000000</td>\n",
       "    </tr>\n",
       "    <tr>\n",
       "      <th>25%</th>\n",
       "      <td>1.000000</td>\n",
       "      <td>0.000000</td>\n",
       "      <td>0.000000</td>\n",
       "    </tr>\n",
       "    <tr>\n",
       "      <th>50%</th>\n",
       "      <td>1.000000</td>\n",
       "      <td>0.000000</td>\n",
       "      <td>0.000000</td>\n",
       "    </tr>\n",
       "    <tr>\n",
       "      <th>75%</th>\n",
       "      <td>1.000000</td>\n",
       "      <td>0.000000</td>\n",
       "      <td>0.000000</td>\n",
       "    </tr>\n",
       "    <tr>\n",
       "      <th>max</th>\n",
       "      <td>1.000000</td>\n",
       "      <td>1.000000</td>\n",
       "      <td>1.000000</td>\n",
       "    </tr>\n",
       "  </tbody>\n",
       "</table>\n",
       "</div>"
      ],
      "text/plain": [
       "       alphanumeric        attack  longest_number\n",
       "count  52610.000000  52610.000000    52610.000000\n",
       "mean       0.998346      0.050960        0.092291\n",
       "std        0.013217      0.219918        0.246846\n",
       "min        0.750000      0.000000        0.000000\n",
       "25%        1.000000      0.000000        0.000000\n",
       "50%        1.000000      0.000000        0.000000\n",
       "75%        1.000000      0.000000        0.000000\n",
       "max        1.000000      1.000000        1.000000"
      ]
     },
     "execution_count": 6,
     "metadata": {},
     "output_type": "execute_result"
    }
   ],
   "source": [
    "dns.describe()"
   ]
  },
  {
   "cell_type": "code",
   "execution_count": 7,
   "metadata": {},
   "outputs": [
    {
     "data": {
      "image/png": "[encoded data removed]",
      "text/plain": [
       "<Figure size 1440x1080 with 4 Axes>"
      ]
     },
     "metadata": {
      "needs_background": "light"
     },
     "output_type": "display_data"
    }
   ],
   "source": [
    "dns.hist(figsize=(20,15))\n",
    "plt.show()"
   ]
  },
  {
   "cell_type": "markdown",
   "metadata": {},
   "source": [
    "# Creación de un \"test set\"\n",
    "Creación usando \"stratified sampling\" dependiendo si una consulta es un ataque o no."
   ]
  },
  {
   "cell_type": "code",
   "execution_count": 8,
   "metadata": {},
   "outputs": [],
   "source": [
    "split = StratifiedShuffleSplit(n_splits=1, test_size=0.2, random_state=13)\n",
    "for train_index, test_index in split.split(dns, dns['attack']):\n",
    "    train_set = dns.loc[train_index]\n",
    "    test_set = dns.loc[test_index]"
   ]
  },
  {
   "cell_type": "code",
   "execution_count": 9,
   "metadata": {},
   "outputs": [
    {
     "data": {
      "text/plain": [
       "0    0.949035\n",
       "1    0.050965\n",
       "Name: attack, dtype: float64"
      ]
     },
     "execution_count": 9,
     "metadata": {},
     "output_type": "execute_result"
    }
   ],
   "source": [
    "train_set['attack'].value_counts() / len(train_set)"
   ]
  },
  {
   "cell_type": "code",
   "execution_count": 10,
   "metadata": {},
   "outputs": [
    {
     "data": {
      "text/plain": [
       "0    0.949059\n",
       "1    0.050941\n",
       "Name: attack, dtype: float64"
      ]
     },
     "execution_count": 10,
     "metadata": {},
     "output_type": "execute_result"
    }
   ],
   "source": [
    "test_set['attack'].value_counts() / len(test_set)"
   ]
  },
  {
   "cell_type": "markdown",
   "metadata": {},
   "source": [
    "El conjunto de entrenamiento y el conjunto de test tienen proporciones similares."
   ]
  },
  {
   "cell_type": "markdown",
   "metadata": {},
   "source": [
    "# Descubrir y visualizar los datos"
   ]
  },
  {
   "cell_type": "code",
   "execution_count": 11,
   "metadata": {},
   "outputs": [],
   "source": [
    "train_set_copy = train_set.copy()"
   ]
  },
  {
   "cell_type": "markdown",
   "metadata": {},
   "source": [
    "Buscando correlaciones: comprobemos si algún atributo se correlaciona con el atributo de ataque."
   ]
  },
  {
   "cell_type": "code",
   "execution_count": 12,
   "metadata": {},
   "outputs": [
    {
     "data": {
      "text/plain": [
       "attack            1.000000\n",
       "longest_number    0.214831\n",
       "alphanumeric      0.029131\n",
       "Name: attack, dtype: float64"
      ]
     },
     "execution_count": 12,
     "metadata": {},
     "output_type": "execute_result"
    }
   ],
   "source": [
    "corr_matrix = train_set_copy.corr()\n",
    "corr_matrix['attack'].sort_values(ascending=False)"
   ]
  },
  {
   "cell_type": "code",
   "execution_count": 13,
   "metadata": {},
   "outputs": [
    {
     "data": {
      "text/plain": [
       "array([[<matplotlib.axes._subplots.AxesSubplot object at 0x7f9c2f9b12e8>,\n",
       "        <matplotlib.axes._subplots.AxesSubplot object at 0x7f9c2f948dd8>,\n",
       "        <matplotlib.axes._subplots.AxesSubplot object at 0x7f9c2f8f8390>],\n",
       "       [<matplotlib.axes._subplots.AxesSubplot object at 0x7f9c2f91d908>,\n",
       "        <matplotlib.axes._subplots.AxesSubplot object at 0x7f9c2f8c8e80>,\n",
       "        <matplotlib.axes._subplots.AxesSubplot object at 0x7f9c2f837438>],\n",
       "       [<matplotlib.axes._subplots.AxesSubplot object at 0x7f9c2f8609b0>,\n",
       "        <matplotlib.axes._subplots.AxesSubplot object at 0x7f9c2f809f60>,\n",
       "        <matplotlib.axes._subplots.AxesSubplot object at 0x7f9c2f809f98>]], dtype=object)"
      ]
     },
     "execution_count": 13,
     "metadata": {},
     "output_type": "execute_result"
    },
    {
     "data": {
      "image/png": "[encoded data removed]",
      "text/plain": [
       "<Figure size 864x576 with 9 Axes>"
      ]
     },
     "metadata": {
      "needs_background": "light"
     },
     "output_type": "display_data"
    }
   ],
   "source": [
    "attributes = train_set_copy.columns\n",
    "scatter_matrix(train_set_copy[attributes], figsize=(12, 8))"
   ]
  },
  {
   "cell_type": "code",
   "execution_count": 14,
   "metadata": {},
   "outputs": [
    {
     "data": {
      "image/png": "[encoded data removed]",
      "text/plain": [
       "<Figure size 1440x720 with 1 Axes>"
      ]
     },
     "metadata": {
      "needs_background": "light"
     },
     "output_type": "display_data"
    }
   ],
   "source": [
    "def plot_dataset(dataset):\n",
    "    X = dataset.drop(\"attack\", 1).values\n",
    "    y = dataset[\"attack\"].values\n",
    "    plt.plot(X[:, 0][y==0], X[:, 1][y==0], \"bs\", alpha=0.01, label=\"No attack\")\n",
    "    plt.plot(X[:, 0][y==1], X[:, 1][y==1], \"r^\", alpha=0.01, label=\"Attack\")\n",
    "    plt.grid(True, which='both')\n",
    "    plt.xlabel(\"Alphanumeric\", fontsize=20)\n",
    "    plt.ylabel(\"Longest_Number\", fontsize=20)\n",
    "    leg = plt.legend(loc=\"upper left\", fontsize=16)\n",
    "    # In order to show the legend with an alpha of 1\n",
    "    for lh in leg.legendHandles:\n",
    "        lh._legmarker.set_alpha(1)\n",
    "\n",
    "plt.figure(figsize=(20, 10))\n",
    "plot_dataset(train_set_copy)\n",
    "plt.show()"
   ]
  },
  {
   "cell_type": "markdown",
   "metadata": {},
   "source": [
    "En principio, estas dos características no parecen suficientes para determinar los ataques. De todas formas, continuemos con el análisis y la creación de modelos. Más adelante usaremos un vector con más características."
   ]
  },
  {
   "cell_type": "markdown",
   "metadata": {},
   "source": [
    "Veamos los valures únicos de los diferentes atributos."
   ]
  },
  {
   "cell_type": "code",
   "execution_count": 15,
   "metadata": {},
   "outputs": [
    {
     "name": "stdout",
     "output_type": "stream",
     "text": [
      "\u001b[1m ALPHANUMERIC \u001b[0m               alphanumeric  attack  longest_number\n",
      "alphanumeric                                      \n",
      "0.750000                 1       1               1\n",
      "0.833333                 1       1               2\n",
      "0.875000                 1       1               1\n",
      "0.888889                 1       1               1\n",
      "0.894737                 1       1               1\n",
      "0.909091                 1       1               1\n",
      "0.916667                 1       1               2\n",
      "0.941176                 1       1               2\n",
      "1.000000                 1       2             387 \n",
      "\n",
      "\n",
      "\u001b[1m ATTACK \u001b[0m         alphanumeric  attack  longest_number\n",
      "attack                                      \n",
      "0                  9       1              14\n",
      "1                  1       1             386 \n",
      "\n",
      "\n",
      "\u001b[1m LONGEST_NUMBER \u001b[0m                 alphanumeric  attack  longest_number\n",
      "longest_number                                      \n",
      "0.000000                   7       2               1\n",
      "0.055556                   1       1               1\n",
      "0.058824                   1       1               1\n",
      "0.071429                   1       1               1\n",
      "0.075000                   1       1               1\n",
      "0.083333                   2       2               1\n",
      "0.088235                   1       1               1\n",
      "0.090909                   1       1               1\n",
      "0.093750                   1       1               1\n",
      "0.100000                   1       1               1\n",
      "0.103448                   1       1               1\n",
      "0.107143                   1       1               1\n",
      "0.108696                   1       1               1\n",
      "0.111111                   1       1               1\n",
      "0.113636                   1       1               1\n",
      "0.115385                   1       1               1\n",
      "0.116279                   1       1               1\n",
      "0.117647                   1       1               1\n",
      "0.119048                   1       1               1\n",
      "0.120000                   1       1               1\n",
      "0.121212                   1       1               1\n",
      "0.121951                   1       1               1\n",
      "0.125000                   1       2               1\n",
      "0.127273                   1       1               1\n",
      "0.127660                   1       1               1\n",
      "0.128205                   1       1               1\n",
      "0.130435                   1       1               1\n",
      "0.131579                   1       1               1\n",
      "0.132075                   1       1               1\n",
      "0.134615                   1       1               1\n",
      "...                      ...     ...             ...\n",
      "0.787879                   1       1               1\n",
      "0.790698                   1       1               1\n",
      "0.793103                   1       1               1\n",
      "0.794118                   1       1               1\n",
      "0.800000                   1       1               1\n",
      "0.803922                   1       1               1\n",
      "0.805556                   1       1               1\n",
      "0.810811                   1       1               1\n",
      "0.814815                   1       1               1\n",
      "0.815789                   1       1               1\n",
      "0.816327                   1       1               1\n",
      "0.820513                   1       1               1\n",
      "0.825000                   1       1               1\n",
      "0.828571                   1       1               1\n",
      "0.829268                   1       1               1\n",
      "0.833333                   1       1               1\n",
      "0.837209                   1       1               1\n",
      "0.837838                   1       1               1\n",
      "0.840909                   1       1               1\n",
      "0.842105                   1       1               1\n",
      "0.844444                   1       1               1\n",
      "0.854167                   1       1               1\n",
      "0.857143                   1       1               1\n",
      "0.860000                   1       1               1\n",
      "0.862745                   1       1               1\n",
      "0.865385                   1       1               1\n",
      "0.867925                   1       1               1\n",
      "0.875000                   1       1               1\n",
      "0.877193                   1       1               1\n",
      "1.000000                   1       1               1\n",
      "\n",
      "[389 rows x 3 columns] \n",
      "\n",
      "\n"
     ]
    }
   ],
   "source": [
    "for attribute in attributes:\n",
    "    print(color.BOLD, attribute.upper(), color.END, train_set_copy.groupby(attribute).nunique(), \"\\n\\n\")"
   ]
  },
  {
   "cell_type": "markdown",
   "metadata": {},
   "source": [
    "# Seleccionar y entrenar un modelo"
   ]
  },
  {
   "cell_type": "code",
   "execution_count": 16,
   "metadata": {},
   "outputs": [
    {
     "data": {
      "text/html": [
       "<div>\n",
       "<style scoped>\n",
       "    .dataframe tbody tr th:only-of-type {\n",
       "        vertical-align: middle;\n",
       "    }\n",
       "\n",
       "    .dataframe tbody tr th {\n",
       "        vertical-align: top;\n",
       "    }\n",
       "\n",
       "    .dataframe thead th {\n",
       "        text-align: right;\n",
       "    }\n",
       "</style>\n",
       "<table border=\"1\" class=\"dataframe\">\n",
       "  <thead>\n",
       "    <tr style=\"text-align: right;\">\n",
       "      <th></th>\n",
       "      <th>alphanumeric</th>\n",
       "      <th>longest_number</th>\n",
       "    </tr>\n",
       "  </thead>\n",
       "  <tbody>\n",
       "    <tr>\n",
       "      <th>19038</th>\n",
       "      <td>1.0</td>\n",
       "      <td>0.000000</td>\n",
       "    </tr>\n",
       "    <tr>\n",
       "      <th>34347</th>\n",
       "      <td>1.0</td>\n",
       "      <td>0.000000</td>\n",
       "    </tr>\n",
       "    <tr>\n",
       "      <th>38293</th>\n",
       "      <td>1.0</td>\n",
       "      <td>0.000000</td>\n",
       "    </tr>\n",
       "    <tr>\n",
       "      <th>15027</th>\n",
       "      <td>1.0</td>\n",
       "      <td>0.000000</td>\n",
       "    </tr>\n",
       "    <tr>\n",
       "      <th>32646</th>\n",
       "      <td>1.0</td>\n",
       "      <td>0.000000</td>\n",
       "    </tr>\n",
       "    <tr>\n",
       "      <th>18206</th>\n",
       "      <td>1.0</td>\n",
       "      <td>0.210526</td>\n",
       "    </tr>\n",
       "    <tr>\n",
       "      <th>40710</th>\n",
       "      <td>1.0</td>\n",
       "      <td>0.000000</td>\n",
       "    </tr>\n",
       "    <tr>\n",
       "      <th>47415</th>\n",
       "      <td>1.0</td>\n",
       "      <td>0.000000</td>\n",
       "    </tr>\n",
       "    <tr>\n",
       "      <th>21099</th>\n",
       "      <td>1.0</td>\n",
       "      <td>0.000000</td>\n",
       "    </tr>\n",
       "    <tr>\n",
       "      <th>10444</th>\n",
       "      <td>1.0</td>\n",
       "      <td>0.000000</td>\n",
       "    </tr>\n",
       "    <tr>\n",
       "      <th>20086</th>\n",
       "      <td>1.0</td>\n",
       "      <td>0.333333</td>\n",
       "    </tr>\n",
       "    <tr>\n",
       "      <th>46941</th>\n",
       "      <td>1.0</td>\n",
       "      <td>0.000000</td>\n",
       "    </tr>\n",
       "    <tr>\n",
       "      <th>22703</th>\n",
       "      <td>1.0</td>\n",
       "      <td>0.416667</td>\n",
       "    </tr>\n",
       "    <tr>\n",
       "      <th>27980</th>\n",
       "      <td>1.0</td>\n",
       "      <td>0.000000</td>\n",
       "    </tr>\n",
       "    <tr>\n",
       "      <th>29957</th>\n",
       "      <td>1.0</td>\n",
       "      <td>0.000000</td>\n",
       "    </tr>\n",
       "    <tr>\n",
       "      <th>21281</th>\n",
       "      <td>1.0</td>\n",
       "      <td>0.000000</td>\n",
       "    </tr>\n",
       "    <tr>\n",
       "      <th>37689</th>\n",
       "      <td>1.0</td>\n",
       "      <td>0.000000</td>\n",
       "    </tr>\n",
       "    <tr>\n",
       "      <th>35961</th>\n",
       "      <td>1.0</td>\n",
       "      <td>0.000000</td>\n",
       "    </tr>\n",
       "    <tr>\n",
       "      <th>7664</th>\n",
       "      <td>1.0</td>\n",
       "      <td>0.125000</td>\n",
       "    </tr>\n",
       "    <tr>\n",
       "      <th>23435</th>\n",
       "      <td>1.0</td>\n",
       "      <td>0.000000</td>\n",
       "    </tr>\n",
       "    <tr>\n",
       "      <th>37630</th>\n",
       "      <td>1.0</td>\n",
       "      <td>0.000000</td>\n",
       "    </tr>\n",
       "    <tr>\n",
       "      <th>35801</th>\n",
       "      <td>1.0</td>\n",
       "      <td>0.000000</td>\n",
       "    </tr>\n",
       "    <tr>\n",
       "      <th>6023</th>\n",
       "      <td>1.0</td>\n",
       "      <td>0.000000</td>\n",
       "    </tr>\n",
       "    <tr>\n",
       "      <th>7777</th>\n",
       "      <td>1.0</td>\n",
       "      <td>0.000000</td>\n",
       "    </tr>\n",
       "    <tr>\n",
       "      <th>33452</th>\n",
       "      <td>1.0</td>\n",
       "      <td>0.000000</td>\n",
       "    </tr>\n",
       "    <tr>\n",
       "      <th>20629</th>\n",
       "      <td>1.0</td>\n",
       "      <td>0.000000</td>\n",
       "    </tr>\n",
       "    <tr>\n",
       "      <th>46080</th>\n",
       "      <td>1.0</td>\n",
       "      <td>0.000000</td>\n",
       "    </tr>\n",
       "    <tr>\n",
       "      <th>3813</th>\n",
       "      <td>1.0</td>\n",
       "      <td>0.000000</td>\n",
       "    </tr>\n",
       "    <tr>\n",
       "      <th>19759</th>\n",
       "      <td>1.0</td>\n",
       "      <td>0.000000</td>\n",
       "    </tr>\n",
       "    <tr>\n",
       "      <th>2792</th>\n",
       "      <td>1.0</td>\n",
       "      <td>0.000000</td>\n",
       "    </tr>\n",
       "    <tr>\n",
       "      <th>...</th>\n",
       "      <td>...</td>\n",
       "      <td>...</td>\n",
       "    </tr>\n",
       "    <tr>\n",
       "      <th>19146</th>\n",
       "      <td>1.0</td>\n",
       "      <td>0.000000</td>\n",
       "    </tr>\n",
       "    <tr>\n",
       "      <th>45370</th>\n",
       "      <td>1.0</td>\n",
       "      <td>0.000000</td>\n",
       "    </tr>\n",
       "    <tr>\n",
       "      <th>2599</th>\n",
       "      <td>1.0</td>\n",
       "      <td>0.000000</td>\n",
       "    </tr>\n",
       "    <tr>\n",
       "      <th>9440</th>\n",
       "      <td>1.0</td>\n",
       "      <td>0.000000</td>\n",
       "    </tr>\n",
       "    <tr>\n",
       "      <th>20665</th>\n",
       "      <td>1.0</td>\n",
       "      <td>0.000000</td>\n",
       "    </tr>\n",
       "    <tr>\n",
       "      <th>40669</th>\n",
       "      <td>1.0</td>\n",
       "      <td>0.000000</td>\n",
       "    </tr>\n",
       "    <tr>\n",
       "      <th>17967</th>\n",
       "      <td>1.0</td>\n",
       "      <td>0.000000</td>\n",
       "    </tr>\n",
       "    <tr>\n",
       "      <th>21537</th>\n",
       "      <td>1.0</td>\n",
       "      <td>0.000000</td>\n",
       "    </tr>\n",
       "    <tr>\n",
       "      <th>40308</th>\n",
       "      <td>1.0</td>\n",
       "      <td>0.000000</td>\n",
       "    </tr>\n",
       "    <tr>\n",
       "      <th>41310</th>\n",
       "      <td>1.0</td>\n",
       "      <td>0.000000</td>\n",
       "    </tr>\n",
       "    <tr>\n",
       "      <th>39340</th>\n",
       "      <td>1.0</td>\n",
       "      <td>0.000000</td>\n",
       "    </tr>\n",
       "    <tr>\n",
       "      <th>26520</th>\n",
       "      <td>1.0</td>\n",
       "      <td>0.000000</td>\n",
       "    </tr>\n",
       "    <tr>\n",
       "      <th>10041</th>\n",
       "      <td>1.0</td>\n",
       "      <td>0.000000</td>\n",
       "    </tr>\n",
       "    <tr>\n",
       "      <th>3399</th>\n",
       "      <td>1.0</td>\n",
       "      <td>0.000000</td>\n",
       "    </tr>\n",
       "    <tr>\n",
       "      <th>20828</th>\n",
       "      <td>1.0</td>\n",
       "      <td>1.000000</td>\n",
       "    </tr>\n",
       "    <tr>\n",
       "      <th>21972</th>\n",
       "      <td>1.0</td>\n",
       "      <td>0.000000</td>\n",
       "    </tr>\n",
       "    <tr>\n",
       "      <th>25180</th>\n",
       "      <td>1.0</td>\n",
       "      <td>1.000000</td>\n",
       "    </tr>\n",
       "    <tr>\n",
       "      <th>26146</th>\n",
       "      <td>1.0</td>\n",
       "      <td>1.000000</td>\n",
       "    </tr>\n",
       "    <tr>\n",
       "      <th>14883</th>\n",
       "      <td>1.0</td>\n",
       "      <td>0.000000</td>\n",
       "    </tr>\n",
       "    <tr>\n",
       "      <th>32959</th>\n",
       "      <td>1.0</td>\n",
       "      <td>0.000000</td>\n",
       "    </tr>\n",
       "    <tr>\n",
       "      <th>38584</th>\n",
       "      <td>1.0</td>\n",
       "      <td>0.000000</td>\n",
       "    </tr>\n",
       "    <tr>\n",
       "      <th>14303</th>\n",
       "      <td>1.0</td>\n",
       "      <td>0.000000</td>\n",
       "    </tr>\n",
       "    <tr>\n",
       "      <th>4482</th>\n",
       "      <td>1.0</td>\n",
       "      <td>0.000000</td>\n",
       "    </tr>\n",
       "    <tr>\n",
       "      <th>19699</th>\n",
       "      <td>1.0</td>\n",
       "      <td>0.000000</td>\n",
       "    </tr>\n",
       "    <tr>\n",
       "      <th>29817</th>\n",
       "      <td>1.0</td>\n",
       "      <td>0.000000</td>\n",
       "    </tr>\n",
       "    <tr>\n",
       "      <th>38981</th>\n",
       "      <td>1.0</td>\n",
       "      <td>1.000000</td>\n",
       "    </tr>\n",
       "    <tr>\n",
       "      <th>1251</th>\n",
       "      <td>1.0</td>\n",
       "      <td>0.000000</td>\n",
       "    </tr>\n",
       "    <tr>\n",
       "      <th>29917</th>\n",
       "      <td>1.0</td>\n",
       "      <td>0.000000</td>\n",
       "    </tr>\n",
       "    <tr>\n",
       "      <th>46138</th>\n",
       "      <td>1.0</td>\n",
       "      <td>0.000000</td>\n",
       "    </tr>\n",
       "    <tr>\n",
       "      <th>18349</th>\n",
       "      <td>1.0</td>\n",
       "      <td>0.000000</td>\n",
       "    </tr>\n",
       "  </tbody>\n",
       "</table>\n",
       "<p>42088 rows × 2 columns</p>\n",
       "</div>"
      ],
      "text/plain": [
       "       alphanumeric  longest_number\n",
       "19038           1.0        0.000000\n",
       "34347           1.0        0.000000\n",
       "38293           1.0        0.000000\n",
       "15027           1.0        0.000000\n",
       "32646           1.0        0.000000\n",
       "18206           1.0        0.210526\n",
       "40710           1.0        0.000000\n",
       "47415           1.0        0.000000\n",
       "21099           1.0        0.000000\n",
       "10444           1.0        0.000000\n",
       "20086           1.0        0.333333\n",
       "46941           1.0        0.000000\n",
       "22703           1.0        0.416667\n",
       "27980           1.0        0.000000\n",
       "29957           1.0        0.000000\n",
       "21281           1.0        0.000000\n",
       "37689           1.0        0.000000\n",
       "35961           1.0        0.000000\n",
       "7664            1.0        0.125000\n",
       "23435           1.0        0.000000\n",
       "37630           1.0        0.000000\n",
       "35801           1.0        0.000000\n",
       "6023            1.0        0.000000\n",
       "7777            1.0        0.000000\n",
       "33452           1.0        0.000000\n",
       "20629           1.0        0.000000\n",
       "46080           1.0        0.000000\n",
       "3813            1.0        0.000000\n",
       "19759           1.0        0.000000\n",
       "2792            1.0        0.000000\n",
       "...             ...             ...\n",
       "19146           1.0        0.000000\n",
       "45370           1.0        0.000000\n",
       "2599            1.0        0.000000\n",
       "9440            1.0        0.000000\n",
       "20665           1.0        0.000000\n",
       "40669           1.0        0.000000\n",
       "17967           1.0        0.000000\n",
       "21537           1.0        0.000000\n",
       "40308           1.0        0.000000\n",
       "41310           1.0        0.000000\n",
       "39340           1.0        0.000000\n",
       "26520           1.0        0.000000\n",
       "10041           1.0        0.000000\n",
       "3399            1.0        0.000000\n",
       "20828           1.0        1.000000\n",
       "21972           1.0        0.000000\n",
       "25180           1.0        1.000000\n",
       "26146           1.0        1.000000\n",
       "14883           1.0        0.000000\n",
       "32959           1.0        0.000000\n",
       "38584           1.0        0.000000\n",
       "14303           1.0        0.000000\n",
       "4482            1.0        0.000000\n",
       "19699           1.0        0.000000\n",
       "29817           1.0        0.000000\n",
       "38981           1.0        1.000000\n",
       "1251            1.0        0.000000\n",
       "29917           1.0        0.000000\n",
       "46138           1.0        0.000000\n",
       "18349           1.0        0.000000\n",
       "\n",
       "[42088 rows x 2 columns]"
      ]
     },
     "execution_count": 16,
     "metadata": {},
     "output_type": "execute_result"
    }
   ],
   "source": [
    "features = train_set.drop('attack', 1)\n",
    "features"
   ]
  },
  {
   "cell_type": "code",
   "execution_count": 17,
   "metadata": {},
   "outputs": [
    {
     "data": {
      "text/plain": [
       "19038    0\n",
       "34347    0\n",
       "38293    0\n",
       "15027    0\n",
       "32646    0\n",
       "18206    1\n",
       "40710    0\n",
       "47415    0\n",
       "21099    0\n",
       "10444    0\n",
       "20086    0\n",
       "46941    0\n",
       "22703    1\n",
       "27980    0\n",
       "29957    0\n",
       "21281    0\n",
       "37689    0\n",
       "35961    0\n",
       "7664     1\n",
       "23435    0\n",
       "37630    0\n",
       "35801    0\n",
       "6023     0\n",
       "7777     0\n",
       "33452    0\n",
       "20629    0\n",
       "46080    0\n",
       "3813     0\n",
       "19759    0\n",
       "2792     0\n",
       "        ..\n",
       "19146    0\n",
       "45370    0\n",
       "2599     0\n",
       "9440     0\n",
       "20665    0\n",
       "40669    0\n",
       "17967    0\n",
       "21537    0\n",
       "40308    0\n",
       "41310    0\n",
       "39340    0\n",
       "26520    0\n",
       "10041    0\n",
       "3399     0\n",
       "20828    0\n",
       "21972    0\n",
       "25180    0\n",
       "26146    0\n",
       "14883    0\n",
       "32959    0\n",
       "38584    0\n",
       "14303    0\n",
       "4482     0\n",
       "19699    0\n",
       "29817    0\n",
       "38981    0\n",
       "1251     0\n",
       "29917    0\n",
       "46138    0\n",
       "18349    0\n",
       "Name: attack, Length: 42088, dtype: int64"
      ]
     },
     "execution_count": 17,
     "metadata": {},
     "output_type": "execute_result"
    }
   ],
   "source": [
    "labels = train_set['attack']\n",
    "labels"
   ]
  },
  {
   "cell_type": "markdown",
   "metadata": {},
   "source": [
    "## Stochastic Gradient Descent (SGD) classifier"
   ]
  },
  {
   "cell_type": "code",
   "execution_count": 18,
   "metadata": {},
   "outputs": [
    {
     "data": {
      "text/plain": [
       "SGDClassifier(alpha=0.0001, average=False, class_weight=None,\n",
       "       early_stopping=False, epsilon=0.1, eta0=0.0, fit_intercept=True,\n",
       "       l1_ratio=0.15, learning_rate='optimal', loss='hinge', max_iter=5,\n",
       "       n_iter=None, n_iter_no_change=5, n_jobs=None, penalty='l2',\n",
       "       power_t=0.5, random_state=13, shuffle=True, tol=None,\n",
       "       validation_fraction=0.1, verbose=0, warm_start=False)"
      ]
     },
     "execution_count": 18,
     "metadata": {},
     "output_type": "execute_result"
    }
   ],
   "source": [
    "sgd_clf = SGDClassifier(max_iter=5, random_state=13)\n",
    "sgd_clf.fit(features, labels)"
   ]
  },
  {
   "cell_type": "code",
   "execution_count": 19,
   "metadata": {},
   "outputs": [
    {
     "name": "stdout",
     "output_type": "stream",
     "text": [
      "Predictions: [0 0 0 0 0 0 0 0 0 0]\n",
      "Labels [0, 0, 0, 0, 0, 1, 0, 0, 0, 0]\n"
     ]
    }
   ],
   "source": [
    "some_data = features[:10]\n",
    "some_labels = labels[:10]\n",
    "print(\"Predictions:\", sgd_clf.predict(some_data))\n",
    "print(\"Labels\", list(some_labels))"
   ]
  },
  {
   "cell_type": "markdown",
   "metadata": {},
   "source": [
    "### Medida de Rendimiento"
   ]
  },
  {
   "cell_type": "markdown",
   "metadata": {},
   "source": [
    "Evaluación del rendimiento usando una matriz de confusión.\n",
    "\"cross_val_predict\" realiza \"K-fold cross-validation\" devolviendo las predicciones realizadas en cada \"test fold\"."
   ]
  },
  {
   "cell_type": "code",
   "execution_count": 20,
   "metadata": {},
   "outputs": [],
   "source": [
    "train_predicted_labels = cross_val_predict(sgd_clf, features, labels, cv=5)"
   ]
  },
  {
   "cell_type": "code",
   "execution_count": 21,
   "metadata": {},
   "outputs": [
    {
     "data": {
      "text/plain": [
       "array([[39943,     0],\n",
       "       [ 2145,     0]])"
      ]
     },
     "execution_count": 21,
     "metadata": {},
     "output_type": "execute_result"
    }
   ],
   "source": [
    "confusion_matrix(labels, train_predicted_labels)"
   ]
  },
  {
   "cell_type": "markdown",
   "metadata": {},
   "source": [
    "Evaluación del rendimiento usando Precisión y Exhaustividad (Precision and Recall)."
   ]
  },
  {
   "cell_type": "code",
   "execution_count": 22,
   "metadata": {},
   "outputs": [
    {
     "name": "stderr",
     "output_type": "stream",
     "text": [
      "/home/alex/Documentos/URJC/TFG_DNS/logs_machine_learning/end_to_end/venv3/lib/python3.6/site-packages/sklearn/metrics/classification.py:1143: UndefinedMetricWarning: Precision is ill-defined and being set to 0.0 due to no predicted samples.\n",
      "  'precision', 'predicted', average, warn_for)\n"
     ]
    },
    {
     "data": {
      "text/plain": [
       "0.0"
      ]
     },
     "execution_count": 22,
     "metadata": {},
     "output_type": "execute_result"
    }
   ],
   "source": [
    "precision_score(labels, train_predicted_labels)"
   ]
  },
  {
   "cell_type": "code",
   "execution_count": 23,
   "metadata": {},
   "outputs": [
    {
     "data": {
      "text/plain": [
       "0.0"
      ]
     },
     "execution_count": 23,
     "metadata": {},
     "output_type": "execute_result"
    }
   ],
   "source": [
    "recall_score(labels, train_predicted_labels)"
   ]
  },
  {
   "cell_type": "code",
   "execution_count": 24,
   "metadata": {
    "scrolled": true
   },
   "outputs": [
    {
     "name": "stderr",
     "output_type": "stream",
     "text": [
      "/home/alex/Documentos/URJC/TFG_DNS/logs_machine_learning/end_to_end/venv3/lib/python3.6/site-packages/sklearn/metrics/classification.py:1143: UndefinedMetricWarning: F-score is ill-defined and being set to 0.0 due to no predicted samples.\n",
      "  'precision', 'predicted', average, warn_for)\n"
     ]
    },
    {
     "data": {
      "text/plain": [
       "0.0"
      ]
     },
     "execution_count": 24,
     "metadata": {},
     "output_type": "execute_result"
    }
   ],
   "source": [
    "f1_score(labels, train_predicted_labels)"
   ]
  },
  {
   "cell_type": "markdown",
   "metadata": {},
   "source": [
    "### Análisis"
   ]
  },
  {
   "cell_type": "markdown",
   "metadata": {},
   "source": [
    "Con el modelo anterior, la precisión y exhaustivdad son 0, por lo que es totalmente inutilizable. Analicemos porqué.\n",
    "Primero, obtengamos la puntuación para todas las predicciones."
   ]
  },
  {
   "cell_type": "code",
   "execution_count": 25,
   "metadata": {},
   "outputs": [],
   "source": [
    "labels_scores = cross_val_predict(sgd_clf, features, labels, cv=5, method=\"decision_function\")"
   ]
  },
  {
   "cell_type": "code",
   "execution_count": 26,
   "metadata": {},
   "outputs": [
    {
     "data": {
      "text/plain": [
       "array([-1.03126735, -1.03126735, -1.03126735, ..., -1.0339565 ,\n",
       "       -1.0339565 , -1.0339565 ])"
      ]
     },
     "execution_count": 26,
     "metadata": {},
     "output_type": "execute_result"
    }
   ],
   "source": [
    "labels_scores"
   ]
  },
  {
   "cell_type": "markdown",
   "metadata": {},
   "source": [
    "Las puntuaciones viven entre los valores -1.308 y -0.933:"
   ]
  },
  {
   "cell_type": "code",
   "execution_count": 27,
   "metadata": {},
   "outputs": [
    {
     "data": {
      "text/plain": [
       "-1.3085280532164418"
      ]
     },
     "execution_count": 27,
     "metadata": {},
     "output_type": "execute_result"
    }
   ],
   "source": [
    "labels_scores.min()"
   ]
  },
  {
   "cell_type": "code",
   "execution_count": 28,
   "metadata": {},
   "outputs": [
    {
     "data": {
      "text/plain": [
       "-0.93332624300767097"
      ]
     },
     "execution_count": 28,
     "metadata": {},
     "output_type": "execute_result"
    }
   ],
   "source": [
    "labels_scores.max()"
   ]
  },
  {
   "cell_type": "markdown",
   "metadata": {},
   "source": [
    "Tracemos la curva de precisión vs. exhaustividad."
   ]
  },
  {
   "cell_type": "code",
   "execution_count": 29,
   "metadata": {},
   "outputs": [],
   "source": [
    "precisions, recalls, thresholds = precision_recall_curve(labels, labels_scores)"
   ]
  },
  {
   "cell_type": "code",
   "execution_count": 30,
   "metadata": {},
   "outputs": [
    {
     "data": {
      "image/png": "[encoded data removed]",
      "text/plain": [
       "<Figure size 1440x864 with 1 Axes>"
      ]
     },
     "metadata": {
      "needs_background": "light"
     },
     "output_type": "display_data"
    }
   ],
   "source": [
    "plt.figure(figsize=(20, 12))\n",
    "plot_precision_recall_vs_threshold(precisions, recalls, thresholds)\n",
    "plt.xlim([-1.035, -1.015])\n",
    "plt.ylim([0, 0.6])\n",
    "plt.show()"
   ]
  },
  {
   "cell_type": "markdown",
   "metadata": {},
   "source": [
    "El valor más alto para la precisión es sobre 0.3, cuando el umbral está en -1.03. Ajustemos el umbral para alcanzar ese nivel de precisión."
   ]
  },
  {
   "cell_type": "code",
   "execution_count": 31,
   "metadata": {},
   "outputs": [],
   "source": [
    "labels_train_pred_30 = (labels_scores > -1.03)"
   ]
  },
  {
   "cell_type": "code",
   "execution_count": 32,
   "metadata": {},
   "outputs": [
    {
     "data": {
      "text/plain": [
       "array([[36931,  3012],\n",
       "       [  922,  1223]])"
      ]
     },
     "execution_count": 32,
     "metadata": {},
     "output_type": "execute_result"
    }
   ],
   "source": [
    "confusion_matrix(labels, labels_train_pred_30)"
   ]
  },
  {
   "cell_type": "code",
   "execution_count": 33,
   "metadata": {},
   "outputs": [
    {
     "data": {
      "text/plain": [
       "0.28878394332939789"
      ]
     },
     "execution_count": 33,
     "metadata": {},
     "output_type": "execute_result"
    }
   ],
   "source": [
    "precision_score(labels, labels_train_pred_30)"
   ]
  },
  {
   "cell_type": "code",
   "execution_count": 34,
   "metadata": {},
   "outputs": [
    {
     "data": {
      "text/plain": [
       "0.5701631701631702"
      ]
     },
     "execution_count": 34,
     "metadata": {},
     "output_type": "execute_result"
    }
   ],
   "source": [
    "recall_score(labels, labels_train_pred_30)"
   ]
  },
  {
   "cell_type": "code",
   "execution_count": 35,
   "metadata": {},
   "outputs": [
    {
     "data": {
      "text/plain": [
       "0.38338557993730404"
      ]
     },
     "execution_count": 35,
     "metadata": {},
     "output_type": "execute_result"
    }
   ],
   "source": [
    "f1_score(labels, labels_train_pred_30)"
   ]
  },
  {
   "cell_type": "markdown",
   "metadata": {},
   "source": [
    "## Logistic Regression (SGD) classifier"
   ]
  },
  {
   "cell_type": "code",
   "execution_count": 36,
   "metadata": {},
   "outputs": [
    {
     "data": {
      "text/plain": [
       "LogisticRegression(C=1.0, class_weight=None, dual=False, fit_intercept=True,\n",
       "          intercept_scaling=1, max_iter=100, multi_class='warn',\n",
       "          n_jobs=None, penalty='l2', random_state=13, solver='liblinear',\n",
       "          tol=0.0001, verbose=0, warm_start=False)"
      ]
     },
     "execution_count": 36,
     "metadata": {},
     "output_type": "execute_result"
    }
   ],
   "source": [
    "log_reg_clf = LogisticRegression(random_state=13, solver='liblinear')\n",
    "log_reg_clf.fit(features, labels)"
   ]
  },
  {
   "cell_type": "code",
   "execution_count": 37,
   "metadata": {},
   "outputs": [
    {
     "name": "stdout",
     "output_type": "stream",
     "text": [
      "Predictions: [0 0 0 0 0 0 0 0 0 0]\n",
      "Labels [0, 0, 0, 0, 0, 1, 0, 0, 0, 0]\n"
     ]
    }
   ],
   "source": [
    "some_data = features[:10]\n",
    "some_labels = labels[:10]\n",
    "print(\"Predictions:\", log_reg_clf.predict(some_data))\n",
    "print(\"Labels\", list(some_labels))"
   ]
  },
  {
   "cell_type": "markdown",
   "metadata": {},
   "source": [
    "### Medida de Rendimiento"
   ]
  },
  {
   "cell_type": "markdown",
   "metadata": {},
   "source": [
    "Evaluación del rendimiento usando una matriz de confusión.\n",
    "\"cross_val_predict\" realiza \"K-fold cross-validation\" devolviendo las predicciones realizadas en cada \"test fold\"."
   ]
  },
  {
   "cell_type": "code",
   "execution_count": 38,
   "metadata": {},
   "outputs": [],
   "source": [
    "train_predicted_labels = cross_val_predict(log_reg_clf, features, labels, cv=5)"
   ]
  },
  {
   "cell_type": "code",
   "execution_count": 39,
   "metadata": {},
   "outputs": [
    {
     "data": {
      "text/plain": [
       "array([[39943,     0],\n",
       "       [ 2145,     0]])"
      ]
     },
     "execution_count": 39,
     "metadata": {},
     "output_type": "execute_result"
    }
   ],
   "source": [
    "confusion_matrix(labels, train_predicted_labels)"
   ]
  },
  {
   "cell_type": "markdown",
   "metadata": {},
   "source": [
    "Evaluación del rendimiento usando Precisión y Exhaustividad (Precision and Recall)."
   ]
  },
  {
   "cell_type": "code",
   "execution_count": 40,
   "metadata": {},
   "outputs": [
    {
     "name": "stderr",
     "output_type": "stream",
     "text": [
      "/home/alex/Documentos/URJC/TFG_DNS/logs_machine_learning/end_to_end/venv3/lib/python3.6/site-packages/sklearn/metrics/classification.py:1143: UndefinedMetricWarning: Precision is ill-defined and being set to 0.0 due to no predicted samples.\n",
      "  'precision', 'predicted', average, warn_for)\n"
     ]
    },
    {
     "data": {
      "text/plain": [
       "0.0"
      ]
     },
     "execution_count": 40,
     "metadata": {},
     "output_type": "execute_result"
    }
   ],
   "source": [
    "precision_score(labels, train_predicted_labels)"
   ]
  },
  {
   "cell_type": "code",
   "execution_count": 41,
   "metadata": {},
   "outputs": [
    {
     "data": {
      "text/plain": [
       "0.0"
      ]
     },
     "execution_count": 41,
     "metadata": {},
     "output_type": "execute_result"
    }
   ],
   "source": [
    "recall_score(labels, train_predicted_labels)"
   ]
  },
  {
   "cell_type": "code",
   "execution_count": 42,
   "metadata": {
    "scrolled": true
   },
   "outputs": [
    {
     "name": "stderr",
     "output_type": "stream",
     "text": [
      "/home/alex/Documentos/URJC/TFG_DNS/logs_machine_learning/end_to_end/venv3/lib/python3.6/site-packages/sklearn/metrics/classification.py:1143: UndefinedMetricWarning: F-score is ill-defined and being set to 0.0 due to no predicted samples.\n",
      "  'precision', 'predicted', average, warn_for)\n"
     ]
    },
    {
     "data": {
      "text/plain": [
       "0.0"
      ]
     },
     "execution_count": 42,
     "metadata": {},
     "output_type": "execute_result"
    }
   ],
   "source": [
    "f1_score(labels, train_predicted_labels)"
   ]
  },
  {
   "cell_type": "markdown",
   "metadata": {},
   "source": [
    "Después de analizar dos modelos, no parece que con este vector de características den muchos resultados, incluso si estos no son los mejores modelos para este tipo de datos. En otro cuaderno se realizará un análisis de más modelos usando otro tipo de vector de características."
   ]
  }
 ],
 "metadata": {
  "kernelspec": {
   "display_name": "Python 3",
   "language": "python",
   "name": "python3"
  },
  "language_info": {
   "codemirror_mode": {
    "name": "ipython",
    "version": 3
   },
   "file_extension": ".py",
   "mimetype": "text/x-python",
   "name": "python",
   "nbconvert_exporter": "python",
   "pygments_lexer": "ipython3",
   "version": "3.6.5"
  }
 },
 "nbformat": 4,
 "nbformat_minor": 2
}
